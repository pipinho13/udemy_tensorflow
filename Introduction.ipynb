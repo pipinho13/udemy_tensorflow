{
 "cells": [
  {
   "cell_type": "markdown",
   "metadata": {},
   "source": [
    "### Introduction to TensorFlow"
   ]
  },
  {
   "cell_type": "code",
   "execution_count": 1,
   "metadata": {
    "collapsed": true
   },
   "outputs": [],
   "source": [
    "import tensorflow as tf"
   ]
  },
  {
   "cell_type": "code",
   "execution_count": 2,
   "metadata": {},
   "outputs": [
    {
     "name": "stdout",
     "output_type": "stream",
     "text": [
      "1.3.0\n"
     ]
    }
   ],
   "source": [
    "print(tf.__version__)"
   ]
  },
  {
   "cell_type": "code",
   "execution_count": 3,
   "metadata": {
    "collapsed": true
   },
   "outputs": [],
   "source": [
    "hello = tf.constant(\"Hello \")"
   ]
  },
  {
   "cell_type": "code",
   "execution_count": 4,
   "metadata": {
    "collapsed": true
   },
   "outputs": [],
   "source": [
    "world = tf.constant(\"World\")"
   ]
  },
  {
   "cell_type": "code",
   "execution_count": 5,
   "metadata": {},
   "outputs": [
    {
     "data": {
      "text/plain": [
       "tensorflow.python.framework.ops.Tensor"
      ]
     },
     "execution_count": 5,
     "metadata": {},
     "output_type": "execute_result"
    }
   ],
   "source": [
    "type(hello)"
   ]
  },
  {
   "cell_type": "code",
   "execution_count": 6,
   "metadata": {},
   "outputs": [
    {
     "name": "stdout",
     "output_type": "stream",
     "text": [
      "Tensor(\"Const:0\", shape=(), dtype=string)\n"
     ]
    }
   ],
   "source": [
    "print(hello)"
   ]
  },
  {
   "cell_type": "markdown",
   "metadata": {},
   "source": [
    "### Initiate a Tensor Flow Session"
   ]
  },
  {
   "cell_type": "code",
   "execution_count": 7,
   "metadata": {
    "collapsed": true
   },
   "outputs": [],
   "source": [
    "with tf.Session() as sess:\n",
    "    result = sess.run(hello+world)\n",
    "    "
   ]
  },
  {
   "cell_type": "code",
   "execution_count": 8,
   "metadata": {},
   "outputs": [
    {
     "name": "stdout",
     "output_type": "stream",
     "text": [
      "b'Hello World'\n"
     ]
    }
   ],
   "source": [
    "print(result)"
   ]
  },
  {
   "cell_type": "code",
   "execution_count": 9,
   "metadata": {
    "collapsed": true
   },
   "outputs": [],
   "source": [
    "a = tf.constant(10)\n",
    "b = tf.constant(20)"
   ]
  },
  {
   "cell_type": "code",
   "execution_count": 10,
   "metadata": {},
   "outputs": [
    {
     "data": {
      "text/plain": [
       "<tf.Tensor 'add_1:0' shape=() dtype=int32>"
      ]
     },
     "execution_count": 10,
     "metadata": {},
     "output_type": "execute_result"
    }
   ],
   "source": [
    "a + b"
   ]
  },
  {
   "cell_type": "code",
   "execution_count": 11,
   "metadata": {
    "collapsed": true
   },
   "outputs": [],
   "source": [
    "with tf.Session() as sess:\n",
    "    result = sess.run(a+b)"
   ]
  },
  {
   "cell_type": "code",
   "execution_count": 12,
   "metadata": {},
   "outputs": [
    {
     "data": {
      "text/plain": [
       "30"
      ]
     },
     "execution_count": 12,
     "metadata": {},
     "output_type": "execute_result"
    }
   ],
   "source": [
    "result"
   ]
  },
  {
   "cell_type": "code",
   "execution_count": 13,
   "metadata": {
    "collapsed": true
   },
   "outputs": [],
   "source": [
    "const = tf.constant(10)\n",
    "\n",
    "fill_mat = tf.fill((4,4), 10)\n",
    "\n",
    "myzeros= tf.zeros((4,4))\n",
    "\n",
    "myones = tf.ones((4,4))\n",
    "\n",
    "myrandn = tf.random_normal((4,4), mean=0, stddev=1.0)\n",
    "\n",
    "myrandu = tf.random_uniform((4,4), minval=0, maxval=1)"
   ]
  },
  {
   "cell_type": "code",
   "execution_count": 14,
   "metadata": {},
   "outputs": [
    {
     "data": {
      "text/plain": [
       "<tf.Tensor 'zeros:0' shape=(4, 4) dtype=float32>"
      ]
     },
     "execution_count": 14,
     "metadata": {},
     "output_type": "execute_result"
    }
   ],
   "source": [
    "# does not return anything yet\n",
    "myzeros"
   ]
  },
  {
   "cell_type": "code",
   "execution_count": 15,
   "metadata": {
    "collapsed": true
   },
   "outputs": [],
   "source": [
    "my_ops = [const,fill_mat,myzeros,myones,myrandn, myrandu]"
   ]
  },
  {
   "cell_type": "code",
   "execution_count": 16,
   "metadata": {
    "collapsed": true
   },
   "outputs": [],
   "source": [
    "sess = tf.InteractiveSession()"
   ]
  },
  {
   "cell_type": "code",
   "execution_count": 17,
   "metadata": {},
   "outputs": [
    {
     "name": "stdout",
     "output_type": "stream",
     "text": [
      "10\n",
      "[[10 10 10 10]\n",
      " [10 10 10 10]\n",
      " [10 10 10 10]\n",
      " [10 10 10 10]]\n",
      "[[ 0.  0.  0.  0.]\n",
      " [ 0.  0.  0.  0.]\n",
      " [ 0.  0.  0.  0.]\n",
      " [ 0.  0.  0.  0.]]\n",
      "[[ 1.  1.  1.  1.]\n",
      " [ 1.  1.  1.  1.]\n",
      " [ 1.  1.  1.  1.]\n",
      " [ 1.  1.  1.  1.]]\n",
      "[[ -1.84854940e-01  -1.44433510e+00   9.45562601e-01   1.13655722e+00]\n",
      " [ -4.06628460e-01  -8.64454627e-01   8.91076922e-01   8.79978895e-01]\n",
      " [ -1.16106617e+00  -8.28784599e-04  -3.08207959e-01  -2.59252544e-02]\n",
      " [  4.86872718e-02   3.46834183e-01   1.41540205e+00   2.62965620e-01]]\n",
      "[[ 0.44518805  0.49903512  0.3104068   0.53267598]\n",
      " [ 0.14184749  0.73758292  0.21299613  0.52609253]\n",
      " [ 0.9815383   0.55398047  0.03235614  0.46881032]\n",
      " [ 0.15254509  0.95993495  0.51051319  0.21845448]]\n"
     ]
    }
   ],
   "source": [
    "for op in my_ops:\n",
    "    print(sess.run(op))"
   ]
  },
  {
   "cell_type": "code",
   "execution_count": 18,
   "metadata": {},
   "outputs": [
    {
     "name": "stdout",
     "output_type": "stream",
     "text": [
      "10\n",
      "[[10 10 10 10]\n",
      " [10 10 10 10]\n",
      " [10 10 10 10]\n",
      " [10 10 10 10]]\n",
      "[[ 0.  0.  0.  0.]\n",
      " [ 0.  0.  0.  0.]\n",
      " [ 0.  0.  0.  0.]\n",
      " [ 0.  0.  0.  0.]]\n",
      "[[ 1.  1.  1.  1.]\n",
      " [ 1.  1.  1.  1.]\n",
      " [ 1.  1.  1.  1.]\n",
      " [ 1.  1.  1.  1.]]\n",
      "[[ -8.23388696e-01  -8.67374718e-01   6.29371524e-01   2.24682942e-01]\n",
      " [  1.25571340e-01   1.03841996e+00   6.00760639e-01   1.10363519e+00]\n",
      " [  1.46576405e+00   9.01778489e-02  -1.95554757e+00   1.00885606e+00]\n",
      " [  5.50995648e-01   5.64218402e-01  -4.15505469e-01  -8.87017464e-04]]\n",
      "[[ 0.86945713  0.85929179  0.69921029  0.28959215]\n",
      " [ 0.80800319  0.60149622  0.65895057  0.10923958]\n",
      " [ 0.27838063  0.97462189  0.80778325  0.17725003]\n",
      " [ 0.44487453  0.97814298  0.55137479  0.17463136]]\n"
     ]
    }
   ],
   "source": [
    "# alternative quick and dirty\n",
    "for op in my_ops:\n",
    "    print(op.eval())"
   ]
  },
  {
   "cell_type": "code",
   "execution_count": 19,
   "metadata": {
    "collapsed": true
   },
   "outputs": [],
   "source": [
    "a = tf.constant([[1,2],[3,4]])"
   ]
  },
  {
   "cell_type": "code",
   "execution_count": 20,
   "metadata": {},
   "outputs": [
    {
     "data": {
      "text/plain": [
       "TensorShape([Dimension(2), Dimension(2)])"
      ]
     },
     "execution_count": 20,
     "metadata": {},
     "output_type": "execute_result"
    }
   ],
   "source": [
    "a.get_shape()"
   ]
  },
  {
   "cell_type": "code",
   "execution_count": 21,
   "metadata": {
    "collapsed": true
   },
   "outputs": [],
   "source": [
    "b = tf.constant([[10],[100]])\n",
    "result = tf.matmul(a,b)"
   ]
  },
  {
   "cell_type": "code",
   "execution_count": 22,
   "metadata": {},
   "outputs": [
    {
     "data": {
      "text/plain": [
       "array([[210],\n",
       "       [430]])"
      ]
     },
     "execution_count": 22,
     "metadata": {},
     "output_type": "execute_result"
    }
   ],
   "source": [
    "# it runs because we have defined the tf.InteractiveSession()\n",
    "sess.run(result)"
   ]
  },
  {
   "cell_type": "code",
   "execution_count": 23,
   "metadata": {},
   "outputs": [
    {
     "data": {
      "text/plain": [
       "array([[210],\n",
       "       [430]])"
      ]
     },
     "execution_count": 23,
     "metadata": {},
     "output_type": "execute_result"
    }
   ],
   "source": [
    "result.eval()"
   ]
  },
  {
   "cell_type": "markdown",
   "metadata": {},
   "source": [
    "## TensorFlow Graphs"
   ]
  },
  {
   "cell_type": "code",
   "execution_count": 24,
   "metadata": {
    "collapsed": true
   },
   "outputs": [],
   "source": [
    "n1 = tf.constant(1)\n",
    "n2 = tf.constant(2)\n",
    "n3 = n1 + n2"
   ]
  },
  {
   "cell_type": "code",
   "execution_count": 25,
   "metadata": {},
   "outputs": [
    {
     "data": {
      "text/plain": [
       "3"
      ]
     },
     "execution_count": 25,
     "metadata": {},
     "output_type": "execute_result"
    }
   ],
   "source": [
    "sess.run(n3)"
   ]
  },
  {
   "cell_type": "code",
   "execution_count": 26,
   "metadata": {},
   "outputs": [
    {
     "name": "stdout",
     "output_type": "stream",
     "text": [
      "<function get_default_graph at 0x00000000079786A8>\n"
     ]
    }
   ],
   "source": [
    "print(tf.get_default_graph)"
   ]
  },
  {
   "cell_type": "code",
   "execution_count": 27,
   "metadata": {
    "collapsed": true
   },
   "outputs": [],
   "source": [
    "g = tf.Graph()"
   ]
  },
  {
   "cell_type": "code",
   "execution_count": 28,
   "metadata": {},
   "outputs": [
    {
     "name": "stdout",
     "output_type": "stream",
     "text": [
      "<tensorflow.python.framework.ops.Graph object at 0x000000000A5F76A0>\n"
     ]
    }
   ],
   "source": [
    "print(g)"
   ]
  },
  {
   "cell_type": "code",
   "execution_count": 29,
   "metadata": {
    "collapsed": true
   },
   "outputs": [],
   "source": [
    "graph_one = tf.get_default_graph()"
   ]
  },
  {
   "cell_type": "code",
   "execution_count": 30,
   "metadata": {},
   "outputs": [
    {
     "name": "stdout",
     "output_type": "stream",
     "text": [
      "<tensorflow.python.framework.ops.Graph object at 0x000000000A5B78D0>\n"
     ]
    }
   ],
   "source": [
    "print(graph_one)"
   ]
  },
  {
   "cell_type": "code",
   "execution_count": 31,
   "metadata": {
    "collapsed": true
   },
   "outputs": [],
   "source": [
    "graph_two = tf.Graph()"
   ]
  },
  {
   "cell_type": "code",
   "execution_count": 32,
   "metadata": {},
   "outputs": [
    {
     "name": "stdout",
     "output_type": "stream",
     "text": [
      "<tensorflow.python.framework.ops.Graph object at 0x000000000A5F7D30>\n"
     ]
    }
   ],
   "source": [
    "print(graph_two)"
   ]
  },
  {
   "cell_type": "code",
   "execution_count": 33,
   "metadata": {},
   "outputs": [
    {
     "name": "stdout",
     "output_type": "stream",
     "text": [
      "True\n"
     ]
    }
   ],
   "source": [
    "# set it as default\n",
    "\n",
    "with graph_two.as_default():\n",
    "    print(graph_two is tf.get_default_graph())"
   ]
  },
  {
   "cell_type": "code",
   "execution_count": 34,
   "metadata": {
    "collapsed": true
   },
   "outputs": [],
   "source": [
    "my_tensor = tf.random_uniform((4,4),0,1)"
   ]
  },
  {
   "cell_type": "code",
   "execution_count": 35,
   "metadata": {},
   "outputs": [
    {
     "data": {
      "text/plain": [
       "<tf.Tensor 'random_uniform_1:0' shape=(4, 4) dtype=float32>"
      ]
     },
     "execution_count": 35,
     "metadata": {},
     "output_type": "execute_result"
    }
   ],
   "source": [
    "my_tensor"
   ]
  },
  {
   "cell_type": "code",
   "execution_count": 36,
   "metadata": {},
   "outputs": [
    {
     "name": "stdout",
     "output_type": "stream",
     "text": [
      "<tf.Variable 'Variable:0' shape=(4, 4) dtype=float32_ref>\n"
     ]
    }
   ],
   "source": [
    "my_var = tf.Variable(initial_value=my_tensor)\n",
    "print(my_var)"
   ]
  },
  {
   "cell_type": "code",
   "execution_count": 37,
   "metadata": {
    "collapsed": true
   },
   "outputs": [],
   "source": [
    "# I will get an error because i have not initialized it\n",
    "#sess.run(my_var)"
   ]
  },
  {
   "cell_type": "code",
   "execution_count": 38,
   "metadata": {},
   "outputs": [
    {
     "data": {
      "text/plain": [
       "array([[ 0.21275818,  0.63380682,  0.13578355,  0.05205882],\n",
       "       [ 0.45209968,  0.95884287,  0.03586781,  0.74996364],\n",
       "       [ 0.41161346,  0.22662508,  0.57397532,  0.59693325],\n",
       "       [ 0.01978922,  0.31103253,  0.33865094,  0.55903494]], dtype=float32)"
      ]
     },
     "execution_count": 38,
     "metadata": {},
     "output_type": "execute_result"
    }
   ],
   "source": [
    "init =tf.global_variables_initializer()\n",
    "sess.run(init)\n",
    "sess.run(my_var)"
   ]
  },
  {
   "cell_type": "code",
   "execution_count": 39,
   "metadata": {
    "collapsed": true
   },
   "outputs": [],
   "source": [
    "# placeholders\n",
    "\n",
    "ph = tf.placeholder(tf.float32, shape = (None,5))"
   ]
  },
  {
   "cell_type": "markdown",
   "metadata": {
    "collapsed": true
   },
   "source": [
    "# A Neural Network"
   ]
  },
  {
   "cell_type": "code",
   "execution_count": 40,
   "metadata": {
    "collapsed": true
   },
   "outputs": [],
   "source": [
    "import numpy as np\n",
    "import tensorflow as tf"
   ]
  },
  {
   "cell_type": "code",
   "execution_count": 41,
   "metadata": {
    "collapsed": true
   },
   "outputs": [],
   "source": [
    "np.random.seed(101)\n",
    "tf.set_random_seed(101)\n",
    "\n",
    "rand_a = np.random.uniform(0,100, (5,5))\n",
    "rand_b = np.random.uniform(0,100, (5,1))\n",
    "\n",
    "a = tf.placeholder(tf.float32)\n",
    "b = tf.placeholder(tf.float32)\n",
    "\n",
    "add_op = a + b\n",
    "mul_op = a * b"
   ]
  },
  {
   "cell_type": "code",
   "execution_count": 42,
   "metadata": {},
   "outputs": [
    {
     "name": "stdout",
     "output_type": "stream",
     "text": [
      "[[ 151.07165527  156.49855042  102.27921295  116.58396149  167.95948792]\n",
      " [ 135.45622253   82.76316071  141.42784119  124.22093201   71.06043243]\n",
      " [ 113.30171204   93.09214783   76.06819153  136.43911743  154.42727661]\n",
      " [  96.7172699    81.83804321  133.83674622  146.38117981  101.10578918]\n",
      " [ 122.72680664  105.98292542   59.04463196   67.98310089   72.89292145]]\n",
      "\n",
      "\n",
      "[[ 5134.64404297  5674.25         283.12432861  1705.47070312\n",
      "   6813.83154297]\n",
      " [ 4341.8125      1598.26696777  4652.73388672  3756.8293457    988.9463501 ]\n",
      " [ 3207.8112793   2038.10290527  1052.77416992  4546.98046875\n",
      "   5588.11572266]\n",
      " [ 1707.37902832   614.02526855  4434.98876953  5356.77734375\n",
      "   2029.85546875]\n",
      " [ 3714.09838867  2806.64379883   262.76763916   747.19854736\n",
      "   1013.29199219]]\n"
     ]
    }
   ],
   "source": [
    "with tf.Session() as sess:\n",
    "    add_result = sess.run(add_op, feed_dict={a:rand_a,b:rand_b})\n",
    "    print(add_result)\n",
    "    print('\\n')\n",
    "    mult_result = sess.run(mul_op, feed_dict={a:rand_a,b:rand_b})\n",
    "    print(mult_result)"
   ]
  },
  {
   "cell_type": "markdown",
   "metadata": {},
   "source": [
    "### An example of Neural Network"
   ]
  },
  {
   "cell_type": "code",
   "execution_count": 43,
   "metadata": {
    "collapsed": true,
    "hidePrompt": true
   },
   "outputs": [],
   "source": [
    "n_features = 10\n",
    "n_dense_neurons = 3\n",
    "\n",
    "# rows is the number of observations\n",
    "x = tf.placeholder(tf.float32, (None,n_features))\n",
    "W = tf.Variable(tf.random_normal([n_features,n_dense_neurons]))\n",
    "b = tf.Variable(tf.ones([n_dense_neurons]))"
   ]
  },
  {
   "cell_type": "code",
   "execution_count": 44,
   "metadata": {
    "collapsed": true
   },
   "outputs": [],
   "source": [
    "xW = tf.matmul(x,W)\n",
    "z = tf.add(xW,b)\n",
    "\n",
    "# activation function\n",
    "a = tf.sigmoid(z)"
   ]
  },
  {
   "cell_type": "code",
   "execution_count": 45,
   "metadata": {
    "collapsed": true
   },
   "outputs": [],
   "source": [
    "# initialize the variables\n",
    "init=tf.global_variables_initializer()\n",
    "\n",
    "with tf.Session() as sess:\n",
    "    sess.run(init)\n",
    "    \n",
    "    layer_out = sess.run(a, feed_dict={x:np.random.random([1,n_features])})"
   ]
  },
  {
   "cell_type": "code",
   "execution_count": 46,
   "metadata": {},
   "outputs": [
    {
     "name": "stdout",
     "output_type": "stream",
     "text": [
      "[[ 0.21292764  0.6340282   0.82990938]]\n"
     ]
    }
   ],
   "source": [
    "print(layer_out)"
   ]
  },
  {
   "cell_type": "markdown",
   "metadata": {},
   "source": [
    "### Simple Regression Example"
   ]
  },
  {
   "cell_type": "code",
   "execution_count": 47,
   "metadata": {
    "collapsed": true
   },
   "outputs": [],
   "source": [
    "x_data = np.linspace(0,10,10)+np.random.uniform(-1.5,1.5,10)"
   ]
  },
  {
   "cell_type": "code",
   "execution_count": 48,
   "metadata": {},
   "outputs": [
    {
     "data": {
      "text/plain": [
       "array([-1.20856056, -0.08034641,  2.82674411,  4.50477294,  3.42312535,\n",
       "        4.88227319,  7.18414126,  6.77068715,  9.4930023 ,  9.96290567])"
      ]
     },
     "execution_count": 48,
     "metadata": {},
     "output_type": "execute_result"
    }
   ],
   "source": [
    "x_data"
   ]
  },
  {
   "cell_type": "code",
   "execution_count": 49,
   "metadata": {
    "collapsed": true
   },
   "outputs": [],
   "source": [
    "y_label = np.linspace(0,10,10) + np.random.uniform(-1.5,1.5,10)"
   ]
  },
  {
   "cell_type": "code",
   "execution_count": 50,
   "metadata": {
    "collapsed": true
   },
   "outputs": [],
   "source": [
    "import matplotlib.pyplot as plt\n",
    "%matplotlib inline"
   ]
  },
  {
   "cell_type": "code",
   "execution_count": 51,
   "metadata": {},
   "outputs": [
    {
     "data": {
      "text/plain": [
       "[<matplotlib.lines.Line2D at 0xccbf080>]"
      ]
     },
     "execution_count": 51,
     "metadata": {},
     "output_type": "execute_result"
    },
    {
     "data": {
      "image/png": "[encoded data removed]",
      "text/plain": [
       "<matplotlib.figure.Figure at 0xa5f7d68>"
      ]
     },
     "metadata": {},
     "output_type": "display_data"
    }
   ],
   "source": [
    "plt.plot(x_data, y_label, \"*\")"
   ]
  },
  {
   "cell_type": "markdown",
   "metadata": {},
   "source": [
    "y = mx + b"
   ]
  },
  {
   "cell_type": "code",
   "execution_count": 52,
   "metadata": {
    "collapsed": true
   },
   "outputs": [],
   "source": [
    "# set two random numbers\n",
    "m = tf.Variable(0.44)\n",
    "b = tf.Variable(0.87)\n",
    "\n",
    "error = 0\n",
    "\n",
    "for x,y in zip(x_data,y_label):\n",
    "    \n",
    "    y_hat=m*x+b\n",
    "    \n",
    "    error = error+ (y-y_hat)**2\n",
    "    "
   ]
  },
  {
   "cell_type": "code",
   "execution_count": 53,
   "metadata": {
    "collapsed": true
   },
   "outputs": [],
   "source": [
    "optimizer = tf.train.GradientDescentOptimizer(learning_rate=0.001)\n",
    "# since i want to minimize the error\n",
    "train = optimizer.minimize(error)"
   ]
  },
  {
   "cell_type": "code",
   "execution_count": 54,
   "metadata": {
    "collapsed": true
   },
   "outputs": [],
   "source": [
    "init = tf.global_variables_initializer()\n",
    "\n",
    "with tf.Session() as sess:\n",
    "    sess.run(init)\n",
    "    \n",
    "    training_steps = 100\n",
    "    \n",
    "    for i in range(training_steps):\n",
    "        \n",
    "        sess.run(train)\n",
    "        \n",
    "    final_slope, final_intercept = sess.run([m,b])"
   ]
  },
  {
   "cell_type": "code",
   "execution_count": 55,
   "metadata": {},
   "outputs": [
    {
     "data": {
      "text/plain": [
       "0.75350869"
      ]
     },
     "execution_count": 55,
     "metadata": {},
     "output_type": "execute_result"
    }
   ],
   "source": [
    "final_slope"
   ]
  },
  {
   "cell_type": "code",
   "execution_count": 56,
   "metadata": {},
   "outputs": [
    {
     "data": {
      "text/plain": [
       "0.83729243"
      ]
     },
     "execution_count": 56,
     "metadata": {},
     "output_type": "execute_result"
    }
   ],
   "source": [
    "final_intercept"
   ]
  },
  {
   "cell_type": "code",
   "execution_count": 57,
   "metadata": {},
   "outputs": [
    {
     "data": {
      "text/plain": [
       "[<matplotlib.lines.Line2D at 0xd5c62b0>]"
      ]
     },
     "execution_count": 57,
     "metadata": {},
     "output_type": "execute_result"
    },
    {
     "data": {
      "image/png": "[encoded data removed]",
      "text/plain": [
       "<matplotlib.figure.Figure at 0xd5c6080>"
      ]
     },
     "metadata": {},
     "output_type": "display_data"
    }
   ],
   "source": [
    "y_pred = final_slope*x_data+final_intercept\n",
    "\n",
    "\n",
    "plt.plot(x_data, y_pred)\n",
    "plt.plot(x_data, y_label, \"*\")"
   ]
  },
  {
   "cell_type": "markdown",
   "metadata": {},
   "source": [
    "### A more realistic regression example using tf.estimator"
   ]
  },
  {
   "cell_type": "code",
   "execution_count": 58,
   "metadata": {
    "collapsed": true
   },
   "outputs": [],
   "source": [
    "import numpy as np\n",
    "import pandas as pd\n",
    "import matplotlib.pyplot as plt\n",
    "%matplotlib inline\n",
    "\n",
    "import tensorflow as tf"
   ]
  },
  {
   "cell_type": "code",
   "execution_count": 59,
   "metadata": {
    "collapsed": true
   },
   "outputs": [],
   "source": [
    "x_data = np.linspace(0,10,1000000)\n",
    "noise = np.random.randn(len(x_data))"
   ]
  },
  {
   "cell_type": "code",
   "execution_count": 60,
   "metadata": {
    "collapsed": true
   },
   "outputs": [],
   "source": [
    "# y = mx+b, b=5\n",
    "\n",
    "y_true = (0.5*x_data)+5+noise"
   ]
  },
  {
   "cell_type": "code",
   "execution_count": 61,
   "metadata": {
    "collapsed": true
   },
   "outputs": [],
   "source": [
    "x_df = pd.DataFrame(x_data, columns=['X Data'])\n",
    "y_df = pd.DataFrame(y_true, columns=['Y'])\n",
    "my_data = pd.concat([x_df,y_df], axis=1)"
   ]
  },
  {
   "cell_type": "code",
   "execution_count": 62,
   "metadata": {},
   "outputs": [
    {
     "data": {
      "text/plain": [
       "<matplotlib.axes._subplots.AxesSubplot at 0xd5d4160>"
      ]
     },
     "execution_count": 62,
     "metadata": {},
     "output_type": "execute_result"
    },
    {
     "data": {
      "image/png": "[encoded data removed]",
      "text/plain": [
       "<matplotlib.figure.Figure at 0xd7636d8>"
      ]
     },
     "metadata": {},
     "output_type": "display_data"
    }
   ],
   "source": [
    "my_data.sample(n=1000).plot(kind='scatter', x='X Data', y= 'Y')"
   ]
  },
  {
   "cell_type": "code",
   "execution_count": 63,
   "metadata": {
    "collapsed": true
   },
   "outputs": [],
   "source": [
    "# run the algorithm in batches\n",
    "batch_size = 8\n",
    "\n",
    "# assign two random numbers for m and b\n",
    "m=tf.Variable(0.5)\n",
    "b=tf.Variable(1.0)\n",
    "\n",
    "# define the placeholders\n",
    "\n",
    "xph = tf.placeholder(tf.float32,[batch_size])\n",
    "yph = tf.placeholder(tf.float32,[batch_size])"
   ]
  },
  {
   "cell_type": "code",
   "execution_count": 64,
   "metadata": {
    "collapsed": true
   },
   "outputs": [],
   "source": [
    "y_model = m*xph+b #this is the graph\n",
    "\n",
    "# minimize the square error\n",
    "error = tf.reduce_sum(tf.square(yph-y_model))\n",
    "\n",
    "optimizer=tf.train.GradientDescentOptimizer(learning_rate=0.001)\n",
    "\n",
    "train = optimizer.minimize(error)"
   ]
  },
  {
   "cell_type": "code",
   "execution_count": 65,
   "metadata": {
    "collapsed": true
   },
   "outputs": [],
   "source": [
    "init = tf.global_variables_initializer()\n",
    "\n",
    "with tf.Session() as sess:\n",
    "    \n",
    "    sess.run(init)\n",
    "    \n",
    "    batches = 10000\n",
    "    \n",
    "    for i in range(batches):\n",
    "        \n",
    "        # we will run 10000 times (batches) the model where each time we get 8 data points (batch size)\n",
    "        # we pich the 8 points randomly\n",
    "        \n",
    "        rand_ind = np.random.randint(len(x_data), size=batch_size)\n",
    "        \n",
    "        feed = {xph:x_data[rand_ind], yph:y_true[rand_ind]}\n",
    "        \n",
    "        sess.run(train, feed_dict=feed)\n",
    "    \n",
    "    model_m, model_b = sess.run([m,b])"
   ]
  },
  {
   "cell_type": "code",
   "execution_count": 66,
   "metadata": {},
   "outputs": [
    {
     "data": {
      "text/plain": [
       "0.47561312"
      ]
     },
     "execution_count": 66,
     "metadata": {},
     "output_type": "execute_result"
    }
   ],
   "source": [
    "model_m"
   ]
  },
  {
   "cell_type": "code",
   "execution_count": 67,
   "metadata": {},
   "outputs": [
    {
     "data": {
      "text/plain": [
       "4.9608874"
      ]
     },
     "execution_count": 67,
     "metadata": {},
     "output_type": "execute_result"
    }
   ],
   "source": [
    "model_b"
   ]
  },
  {
   "cell_type": "markdown",
   "metadata": {
    "collapsed": true
   },
   "source": [
    "#### Estimator API"
   ]
  },
  {
   "cell_type": "code",
   "execution_count": 68,
   "metadata": {
    "collapsed": true
   },
   "outputs": [],
   "source": [
    "feat_cols = [tf.feature_column.numeric_column('x', shape=[1])]"
   ]
  },
  {
   "cell_type": "code",
   "execution_count": 69,
   "metadata": {},
   "outputs": [
    {
     "name": "stdout",
     "output_type": "stream",
     "text": [
      "INFO:tensorflow:Using default config.\n",
      "WARNING:tensorflow:Using temporary folder as model directory: C:\\Users\\gpipis\\AppData\\Local\\Temp\\tmpjy57y1mr\n",
      "INFO:tensorflow:Using config: {'_save_checkpoints_secs': 600, '_session_config': None, '_save_checkpoints_steps': None, '_save_summary_steps': 100, '_keep_checkpoint_max': 5, '_log_step_count_steps': 100, '_model_dir': 'C:\\\\Users\\\\gpipis\\\\AppData\\\\Local\\\\Temp\\\\tmpjy57y1mr', '_keep_checkpoint_every_n_hours': 10000, '_tf_random_seed': 1}\n"
     ]
    }
   ],
   "source": [
    "estimator = tf.estimator.LinearRegressor(feature_columns=feat_cols)"
   ]
  },
  {
   "cell_type": "code",
   "execution_count": 70,
   "metadata": {
    "collapsed": true
   },
   "outputs": [],
   "source": [
    "from sklearn.model_selection import train_test_split"
   ]
  },
  {
   "cell_type": "code",
   "execution_count": 71,
   "metadata": {
    "collapsed": true
   },
   "outputs": [],
   "source": [
    "x_train, x_eval, y_train, y_eval = train_test_split(x_data, y_true, test_size=0.3, random_state=101)"
   ]
  },
  {
   "cell_type": "code",
   "execution_count": 72,
   "metadata": {},
   "outputs": [
    {
     "name": "stdout",
     "output_type": "stream",
     "text": [
      "(700000,)\n"
     ]
    }
   ],
   "source": [
    "print(x_train.shape)"
   ]
  },
  {
   "cell_type": "code",
   "execution_count": 73,
   "metadata": {},
   "outputs": [
    {
     "data": {
      "text/plain": [
       "(300000,)"
      ]
     },
     "execution_count": 73,
     "metadata": {},
     "output_type": "execute_result"
    }
   ],
   "source": [
    "x_eval.shape"
   ]
  },
  {
   "cell_type": "code",
   "execution_count": 74,
   "metadata": {
    "collapsed": true
   },
   "outputs": [],
   "source": [
    "input_func = tf.estimator.inputs.numpy_input_fn({'x':x_train}, y_train, batch_size=8, num_epochs=None, shuffle=True)"
   ]
  },
  {
   "cell_type": "code",
   "execution_count": 75,
   "metadata": {
    "collapsed": true
   },
   "outputs": [],
   "source": [
    "train_input_func = tf.estimator.inputs.numpy_input_fn({'x':x_train}, y_train, batch_size=8, num_epochs=1000, shuffle=False)"
   ]
  },
  {
   "cell_type": "code",
   "execution_count": 76,
   "metadata": {
    "collapsed": true
   },
   "outputs": [],
   "source": [
    "eval_input_func = tf.estimator.inputs.numpy_input_fn({'x':x_eval}, y_eval, batch_size=8, num_epochs=1000, shuffle=False)"
   ]
  },
  {
   "cell_type": "code",
   "execution_count": 77,
   "metadata": {},
   "outputs": [
    {
     "name": "stdout",
     "output_type": "stream",
     "text": [
      "INFO:tensorflow:Create CheckpointSaverHook.\n",
      "INFO:tensorflow:Saving checkpoints for 1 into C:\\Users\\gpipis\\AppData\\Local\\Temp\\tmpjy57y1mr\\model.ckpt.\n",
      "INFO:tensorflow:loss = 487.804, step = 1\n",
      "INFO:tensorflow:global_step/sec: 961.467\n",
      "INFO:tensorflow:loss = 26.3515, step = 101 (0.114 sec)\n",
      "INFO:tensorflow:global_step/sec: 812.944\n",
      "INFO:tensorflow:loss = 18.8811, step = 201 (0.113 sec)\n",
      "INFO:tensorflow:global_step/sec: 934.493\n",
      "INFO:tensorflow:loss = 27.5149, step = 301 (0.109 sec)\n",
      "INFO:tensorflow:global_step/sec: 833.27\n",
      "INFO:tensorflow:loss = 11.2148, step = 401 (0.118 sec)\n",
      "INFO:tensorflow:global_step/sec: 1020.31\n",
      "INFO:tensorflow:loss = 27.6054, step = 501 (0.100 sec)\n",
      "INFO:tensorflow:global_step/sec: 847.392\n",
      "INFO:tensorflow:loss = 8.44898, step = 601 (0.116 sec)\n",
      "INFO:tensorflow:global_step/sec: 925.834\n",
      "INFO:tensorflow:loss = 12.2545, step = 701 (0.111 sec)\n",
      "INFO:tensorflow:global_step/sec: 826.363\n",
      "INFO:tensorflow:loss = 17.1469, step = 801 (0.120 sec)\n",
      "INFO:tensorflow:global_step/sec: 952.286\n",
      "INFO:tensorflow:loss = 8.161, step = 901 (0.107 sec)\n",
      "INFO:tensorflow:Saving checkpoints for 1000 into C:\\Users\\gpipis\\AppData\\Local\\Temp\\tmpjy57y1mr\\model.ckpt.\n",
      "INFO:tensorflow:Loss for final step: 5.11781.\n"
     ]
    },
    {
     "data": {
      "text/plain": [
       "<tensorflow.python.estimator.canned.linear.LinearRegressor at 0xd636f60>"
      ]
     },
     "execution_count": 77,
     "metadata": {},
     "output_type": "execute_result"
    }
   ],
   "source": [
    "estimator.train(input_fn=input_func,steps=1000)"
   ]
  },
  {
   "cell_type": "code",
   "execution_count": 78,
   "metadata": {},
   "outputs": [
    {
     "name": "stdout",
     "output_type": "stream",
     "text": [
      "INFO:tensorflow:Starting evaluation at 2018-04-24-15:24:12\n",
      "INFO:tensorflow:Restoring parameters from C:\\Users\\gpipis\\AppData\\Local\\Temp\\tmpjy57y1mr\\model.ckpt-1000\n",
      "INFO:tensorflow:Evaluation [1/1000]\n",
      "INFO:tensorflow:Evaluation [2/1000]\n",
      "INFO:tensorflow:Evaluation [3/1000]\n",
      "INFO:tensorflow:Evaluation [4/1000]\n",
      "INFO:tensorflow:Evaluation [5/1000]\n",
      "INFO:tensorflow:Evaluation [6/1000]\n",
      "INFO:tensorflow:Evaluation [7/1000]\n",
      "INFO:tensorflow:Evaluation [8/1000]\n",
      "INFO:tensorflow:Evaluation [9/1000]\n",
      "INFO:tensorflow:Evaluation [10/1000]\n",
      "INFO:tensorflow:Evaluation [11/1000]\n",
      "INFO:tensorflow:Evaluation [12/1000]\n",
      "INFO:tensorflow:Evaluation [13/1000]\n",
      "INFO:tensorflow:Evaluation [14/1000]\n",
      "INFO:tensorflow:Evaluation [15/1000]\n",
      "INFO:tensorflow:Evaluation [16/1000]\n",
      "INFO:tensorflow:Evaluation [17/1000]\n",
      "INFO:tensorflow:Evaluation [18/1000]\n",
      "INFO:tensorflow:Evaluation [19/1000]\n",
      "INFO:tensorflow:Evaluation [20/1000]\n",
      "INFO:tensorflow:Evaluation [21/1000]\n",
      "INFO:tensorflow:Evaluation [22/1000]\n",
      "INFO:tensorflow:Evaluation [23/1000]\n",
      "INFO:tensorflow:Evaluation [24/1000]\n",
      "INFO:tensorflow:Evaluation [25/1000]\n",
      "INFO:tensorflow:Evaluation [26/1000]\n",
      "INFO:tensorflow:Evaluation [27/1000]\n",
      "INFO:tensorflow:Evaluation [28/1000]\n",
      "INFO:tensorflow:Evaluation [29/1000]\n",
      "INFO:tensorflow:Evaluation [30/1000]\n",
      "INFO:tensorflow:Evaluation [31/1000]\n",
      "INFO:tensorflow:Evaluation [32/1000]\n",
      "INFO:tensorflow:Evaluation [33/1000]\n",
      "INFO:tensorflow:Evaluation [34/1000]\n",
      "INFO:tensorflow:Evaluation [35/1000]\n",
      "INFO:tensorflow:Evaluation [36/1000]\n",
      "INFO:tensorflow:Evaluation [37/1000]\n",
      "INFO:tensorflow:Evaluation [38/1000]\n",
      "INFO:tensorflow:Evaluation [39/1000]\n",
      "INFO:tensorflow:Evaluation [40/1000]\n",
      "INFO:tensorflow:Evaluation [41/1000]\n",
      "INFO:tensorflow:Evaluation [42/1000]\n",
      "INFO:tensorflow:Evaluation [43/1000]\n",
      "INFO:tensorflow:Evaluation [44/1000]\n",
      "INFO:tensorflow:Evaluation [45/1000]\n",
      "INFO:tensorflow:Evaluation [46/1000]\n",
      "INFO:tensorflow:Evaluation [47/1000]\n",
      "INFO:tensorflow:Evaluation [48/1000]\n",
      "INFO:tensorflow:Evaluation [49/1000]\n",
      "INFO:tensorflow:Evaluation [50/1000]\n",
      "INFO:tensorflow:Evaluation [51/1000]\n",
      "INFO:tensorflow:Evaluation [52/1000]\n",
      "INFO:tensorflow:Evaluation [53/1000]\n",
      "INFO:tensorflow:Evaluation [54/1000]\n",
      "INFO:tensorflow:Evaluation [55/1000]\n",
      "INFO:tensorflow:Evaluation [56/1000]\n",
      "INFO:tensorflow:Evaluation [57/1000]\n",
      "INFO:tensorflow:Evaluation [58/1000]\n",
      "INFO:tensorflow:Evaluation [59/1000]\n",
      "INFO:tensorflow:Evaluation [60/1000]\n",
      "INFO:tensorflow:Evaluation [61/1000]\n",
      "INFO:tensorflow:Evaluation [62/1000]\n",
      "INFO:tensorflow:Evaluation [63/1000]\n",
      "INFO:tensorflow:Evaluation [64/1000]\n",
      "INFO:tensorflow:Evaluation [65/1000]\n",
      "INFO:tensorflow:Evaluation [66/1000]\n",
      "INFO:tensorflow:Evaluation [67/1000]\n",
      "INFO:tensorflow:Evaluation [68/1000]\n",
      "INFO:tensorflow:Evaluation [69/1000]\n",
      "INFO:tensorflow:Evaluation [70/1000]\n",
      "INFO:tensorflow:Evaluation [71/1000]\n",
      "INFO:tensorflow:Evaluation [72/1000]\n",
      "INFO:tensorflow:Evaluation [73/1000]\n",
      "INFO:tensorflow:Evaluation [74/1000]\n",
      "INFO:tensorflow:Evaluation [75/1000]\n",
      "INFO:tensorflow:Evaluation [76/1000]\n",
      "INFO:tensorflow:Evaluation [77/1000]\n",
      "INFO:tensorflow:Evaluation [78/1000]\n",
      "INFO:tensorflow:Evaluation [79/1000]\n",
      "INFO:tensorflow:Evaluation [80/1000]\n",
      "INFO:tensorflow:Evaluation [81/1000]\n",
      "INFO:tensorflow:Evaluation [82/1000]\n",
      "INFO:tensorflow:Evaluation [83/1000]\n",
      "INFO:tensorflow:Evaluation [84/1000]\n",
      "INFO:tensorflow:Evaluation [85/1000]\n",
      "INFO:tensorflow:Evaluation [86/1000]\n",
      "INFO:tensorflow:Evaluation [87/1000]\n",
      "INFO:tensorflow:Evaluation [88/1000]\n",
      "INFO:tensorflow:Evaluation [89/1000]\n",
      "INFO:tensorflow:Evaluation [90/1000]\n",
      "INFO:tensorflow:Evaluation [91/1000]\n",
      "INFO:tensorflow:Evaluation [92/1000]\n",
      "INFO:tensorflow:Evaluation [93/1000]\n",
      "INFO:tensorflow:Evaluation [94/1000]\n",
      "INFO:tensorflow:Evaluation [95/1000]\n",
      "INFO:tensorflow:Evaluation [96/1000]\n",
      "INFO:tensorflow:Evaluation [97/1000]\n",
      "INFO:tensorflow:Evaluation [98/1000]\n",
      "INFO:tensorflow:Evaluation [99/1000]\n",
      "INFO:tensorflow:Evaluation [100/1000]\n",
      "INFO:tensorflow:Evaluation [101/1000]\n",
      "INFO:tensorflow:Evaluation [102/1000]\n",
      "INFO:tensorflow:Evaluation [103/1000]\n",
      "INFO:tensorflow:Evaluation [104/1000]\n",
      "INFO:tensorflow:Evaluation [105/1000]\n",
      "INFO:tensorflow:Evaluation [106/1000]\n",
      "INFO:tensorflow:Evaluation [107/1000]\n",
      "INFO:tensorflow:Evaluation [108/1000]\n",
      "INFO:tensorflow:Evaluation [109/1000]\n",
      "INFO:tensorflow:Evaluation [110/1000]\n",
      "INFO:tensorflow:Evaluation [111/1000]\n",
      "INFO:tensorflow:Evaluation [112/1000]\n",
      "INFO:tensorflow:Evaluation [113/1000]\n",
      "INFO:tensorflow:Evaluation [114/1000]\n",
      "INFO:tensorflow:Evaluation [115/1000]\n",
      "INFO:tensorflow:Evaluation [116/1000]\n",
      "INFO:tensorflow:Evaluation [117/1000]\n",
      "INFO:tensorflow:Evaluation [118/1000]\n",
      "INFO:tensorflow:Evaluation [119/1000]\n",
      "INFO:tensorflow:Evaluation [120/1000]\n",
      "INFO:tensorflow:Evaluation [121/1000]\n",
      "INFO:tensorflow:Evaluation [122/1000]\n",
      "INFO:tensorflow:Evaluation [123/1000]\n",
      "INFO:tensorflow:Evaluation [124/1000]\n",
      "INFO:tensorflow:Evaluation [125/1000]\n",
      "INFO:tensorflow:Evaluation [126/1000]\n",
      "INFO:tensorflow:Evaluation [127/1000]\n",
      "INFO:tensorflow:Evaluation [128/1000]\n",
      "INFO:tensorflow:Evaluation [129/1000]\n",
      "INFO:tensorflow:Evaluation [130/1000]\n",
      "INFO:tensorflow:Evaluation [131/1000]\n",
      "INFO:tensorflow:Evaluation [132/1000]\n",
      "INFO:tensorflow:Evaluation [133/1000]\n",
      "INFO:tensorflow:Evaluation [134/1000]\n",
      "INFO:tensorflow:Evaluation [135/1000]\n",
      "INFO:tensorflow:Evaluation [136/1000]\n",
      "INFO:tensorflow:Evaluation [137/1000]\n",
      "INFO:tensorflow:Evaluation [138/1000]\n",
      "INFO:tensorflow:Evaluation [139/1000]\n",
      "INFO:tensorflow:Evaluation [140/1000]\n",
      "INFO:tensorflow:Evaluation [141/1000]\n",
      "INFO:tensorflow:Evaluation [142/1000]\n",
      "INFO:tensorflow:Evaluation [143/1000]\n",
      "INFO:tensorflow:Evaluation [144/1000]\n",
      "INFO:tensorflow:Evaluation [145/1000]\n",
      "INFO:tensorflow:Evaluation [146/1000]\n",
      "INFO:tensorflow:Evaluation [147/1000]\n",
      "INFO:tensorflow:Evaluation [148/1000]\n",
      "INFO:tensorflow:Evaluation [149/1000]\n",
      "INFO:tensorflow:Evaluation [150/1000]\n",
      "INFO:tensorflow:Evaluation [151/1000]\n",
      "INFO:tensorflow:Evaluation [152/1000]\n",
      "INFO:tensorflow:Evaluation [153/1000]\n",
      "INFO:tensorflow:Evaluation [154/1000]\n",
      "INFO:tensorflow:Evaluation [155/1000]\n",
      "INFO:tensorflow:Evaluation [156/1000]\n",
      "INFO:tensorflow:Evaluation [157/1000]\n",
      "INFO:tensorflow:Evaluation [158/1000]\n",
      "INFO:tensorflow:Evaluation [159/1000]\n",
      "INFO:tensorflow:Evaluation [160/1000]\n",
      "INFO:tensorflow:Evaluation [161/1000]\n",
      "INFO:tensorflow:Evaluation [162/1000]\n",
      "INFO:tensorflow:Evaluation [163/1000]\n",
      "INFO:tensorflow:Evaluation [164/1000]\n",
      "INFO:tensorflow:Evaluation [165/1000]\n",
      "INFO:tensorflow:Evaluation [166/1000]\n",
      "INFO:tensorflow:Evaluation [167/1000]\n",
      "INFO:tensorflow:Evaluation [168/1000]\n",
      "INFO:tensorflow:Evaluation [169/1000]\n",
      "INFO:tensorflow:Evaluation [170/1000]\n",
      "INFO:tensorflow:Evaluation [171/1000]\n",
      "INFO:tensorflow:Evaluation [172/1000]\n",
      "INFO:tensorflow:Evaluation [173/1000]\n",
      "INFO:tensorflow:Evaluation [174/1000]\n",
      "INFO:tensorflow:Evaluation [175/1000]\n",
      "INFO:tensorflow:Evaluation [176/1000]\n",
      "INFO:tensorflow:Evaluation [177/1000]\n",
      "INFO:tensorflow:Evaluation [178/1000]\n",
      "INFO:tensorflow:Evaluation [179/1000]\n",
      "INFO:tensorflow:Evaluation [180/1000]\n",
      "INFO:tensorflow:Evaluation [181/1000]\n",
      "INFO:tensorflow:Evaluation [182/1000]\n",
      "INFO:tensorflow:Evaluation [183/1000]\n",
      "INFO:tensorflow:Evaluation [184/1000]\n",
      "INFO:tensorflow:Evaluation [185/1000]\n",
      "INFO:tensorflow:Evaluation [186/1000]\n",
      "INFO:tensorflow:Evaluation [187/1000]\n",
      "INFO:tensorflow:Evaluation [188/1000]\n",
      "INFO:tensorflow:Evaluation [189/1000]\n",
      "INFO:tensorflow:Evaluation [190/1000]\n",
      "INFO:tensorflow:Evaluation [191/1000]\n",
      "INFO:tensorflow:Evaluation [192/1000]\n",
      "INFO:tensorflow:Evaluation [193/1000]\n",
      "INFO:tensorflow:Evaluation [194/1000]\n",
      "INFO:tensorflow:Evaluation [195/1000]\n",
      "INFO:tensorflow:Evaluation [196/1000]\n",
      "INFO:tensorflow:Evaluation [197/1000]\n",
      "INFO:tensorflow:Evaluation [198/1000]\n",
      "INFO:tensorflow:Evaluation [199/1000]\n",
      "INFO:tensorflow:Evaluation [200/1000]\n",
      "INFO:tensorflow:Evaluation [201/1000]\n",
      "INFO:tensorflow:Evaluation [202/1000]\n",
      "INFO:tensorflow:Evaluation [203/1000]\n",
      "INFO:tensorflow:Evaluation [204/1000]\n",
      "INFO:tensorflow:Evaluation [205/1000]\n",
      "INFO:tensorflow:Evaluation [206/1000]\n",
      "INFO:tensorflow:Evaluation [207/1000]\n",
      "INFO:tensorflow:Evaluation [208/1000]\n",
      "INFO:tensorflow:Evaluation [209/1000]\n",
      "INFO:tensorflow:Evaluation [210/1000]\n",
      "INFO:tensorflow:Evaluation [211/1000]\n",
      "INFO:tensorflow:Evaluation [212/1000]\n",
      "INFO:tensorflow:Evaluation [213/1000]\n",
      "INFO:tensorflow:Evaluation [214/1000]\n",
      "INFO:tensorflow:Evaluation [215/1000]\n"
     ]
    },
    {
     "name": "stdout",
     "output_type": "stream",
     "text": [
      "INFO:tensorflow:Evaluation [216/1000]\n",
      "INFO:tensorflow:Evaluation [217/1000]\n",
      "INFO:tensorflow:Evaluation [218/1000]\n",
      "INFO:tensorflow:Evaluation [219/1000]\n",
      "INFO:tensorflow:Evaluation [220/1000]\n",
      "INFO:tensorflow:Evaluation [221/1000]\n",
      "INFO:tensorflow:Evaluation [222/1000]\n",
      "INFO:tensorflow:Evaluation [223/1000]\n",
      "INFO:tensorflow:Evaluation [224/1000]\n",
      "INFO:tensorflow:Evaluation [225/1000]\n",
      "INFO:tensorflow:Evaluation [226/1000]\n",
      "INFO:tensorflow:Evaluation [227/1000]\n",
      "INFO:tensorflow:Evaluation [228/1000]\n",
      "INFO:tensorflow:Evaluation [229/1000]\n",
      "INFO:tensorflow:Evaluation [230/1000]\n",
      "INFO:tensorflow:Evaluation [231/1000]\n",
      "INFO:tensorflow:Evaluation [232/1000]\n",
      "INFO:tensorflow:Evaluation [233/1000]\n",
      "INFO:tensorflow:Evaluation [234/1000]\n",
      "INFO:tensorflow:Evaluation [235/1000]\n",
      "INFO:tensorflow:Evaluation [236/1000]\n",
      "INFO:tensorflow:Evaluation [237/1000]\n",
      "INFO:tensorflow:Evaluation [238/1000]\n",
      "INFO:tensorflow:Evaluation [239/1000]\n",
      "INFO:tensorflow:Evaluation [240/1000]\n",
      "INFO:tensorflow:Evaluation [241/1000]\n",
      "INFO:tensorflow:Evaluation [242/1000]\n",
      "INFO:tensorflow:Evaluation [243/1000]\n",
      "INFO:tensorflow:Evaluation [244/1000]\n",
      "INFO:tensorflow:Evaluation [245/1000]\n",
      "INFO:tensorflow:Evaluation [246/1000]\n",
      "INFO:tensorflow:Evaluation [247/1000]\n",
      "INFO:tensorflow:Evaluation [248/1000]\n",
      "INFO:tensorflow:Evaluation [249/1000]\n",
      "INFO:tensorflow:Evaluation [250/1000]\n",
      "INFO:tensorflow:Evaluation [251/1000]\n",
      "INFO:tensorflow:Evaluation [252/1000]\n",
      "INFO:tensorflow:Evaluation [253/1000]\n",
      "INFO:tensorflow:Evaluation [254/1000]\n",
      "INFO:tensorflow:Evaluation [255/1000]\n",
      "INFO:tensorflow:Evaluation [256/1000]\n",
      "INFO:tensorflow:Evaluation [257/1000]\n",
      "INFO:tensorflow:Evaluation [258/1000]\n",
      "INFO:tensorflow:Evaluation [259/1000]\n",
      "INFO:tensorflow:Evaluation [260/1000]\n",
      "INFO:tensorflow:Evaluation [261/1000]\n",
      "INFO:tensorflow:Evaluation [262/1000]\n",
      "INFO:tensorflow:Evaluation [263/1000]\n",
      "INFO:tensorflow:Evaluation [264/1000]\n",
      "INFO:tensorflow:Evaluation [265/1000]\n",
      "INFO:tensorflow:Evaluation [266/1000]\n",
      "INFO:tensorflow:Evaluation [267/1000]\n",
      "INFO:tensorflow:Evaluation [268/1000]\n",
      "INFO:tensorflow:Evaluation [269/1000]\n",
      "INFO:tensorflow:Evaluation [270/1000]\n",
      "INFO:tensorflow:Evaluation [271/1000]\n",
      "INFO:tensorflow:Evaluation [272/1000]\n",
      "INFO:tensorflow:Evaluation [273/1000]\n",
      "INFO:tensorflow:Evaluation [274/1000]\n",
      "INFO:tensorflow:Evaluation [275/1000]\n",
      "INFO:tensorflow:Evaluation [276/1000]\n",
      "INFO:tensorflow:Evaluation [277/1000]\n",
      "INFO:tensorflow:Evaluation [278/1000]\n",
      "INFO:tensorflow:Evaluation [279/1000]\n",
      "INFO:tensorflow:Evaluation [280/1000]\n",
      "INFO:tensorflow:Evaluation [281/1000]\n",
      "INFO:tensorflow:Evaluation [282/1000]\n",
      "INFO:tensorflow:Evaluation [283/1000]\n",
      "INFO:tensorflow:Evaluation [284/1000]\n",
      "INFO:tensorflow:Evaluation [285/1000]\n",
      "INFO:tensorflow:Evaluation [286/1000]\n",
      "INFO:tensorflow:Evaluation [287/1000]\n",
      "INFO:tensorflow:Evaluation [288/1000]\n",
      "INFO:tensorflow:Evaluation [289/1000]\n",
      "INFO:tensorflow:Evaluation [290/1000]\n",
      "INFO:tensorflow:Evaluation [291/1000]\n",
      "INFO:tensorflow:Evaluation [292/1000]\n",
      "INFO:tensorflow:Evaluation [293/1000]\n",
      "INFO:tensorflow:Evaluation [294/1000]\n",
      "INFO:tensorflow:Evaluation [295/1000]\n",
      "INFO:tensorflow:Evaluation [296/1000]\n",
      "INFO:tensorflow:Evaluation [297/1000]\n",
      "INFO:tensorflow:Evaluation [298/1000]\n",
      "INFO:tensorflow:Evaluation [299/1000]\n",
      "INFO:tensorflow:Evaluation [300/1000]\n",
      "INFO:tensorflow:Evaluation [301/1000]\n",
      "INFO:tensorflow:Evaluation [302/1000]\n",
      "INFO:tensorflow:Evaluation [303/1000]\n",
      "INFO:tensorflow:Evaluation [304/1000]\n",
      "INFO:tensorflow:Evaluation [305/1000]\n",
      "INFO:tensorflow:Evaluation [306/1000]\n",
      "INFO:tensorflow:Evaluation [307/1000]\n",
      "INFO:tensorflow:Evaluation [308/1000]\n",
      "INFO:tensorflow:Evaluation [309/1000]\n",
      "INFO:tensorflow:Evaluation [310/1000]\n",
      "INFO:tensorflow:Evaluation [311/1000]\n",
      "INFO:tensorflow:Evaluation [312/1000]\n",
      "INFO:tensorflow:Evaluation [313/1000]\n",
      "INFO:tensorflow:Evaluation [314/1000]\n",
      "INFO:tensorflow:Evaluation [315/1000]\n",
      "INFO:tensorflow:Evaluation [316/1000]\n",
      "INFO:tensorflow:Evaluation [317/1000]\n",
      "INFO:tensorflow:Evaluation [318/1000]\n",
      "INFO:tensorflow:Evaluation [319/1000]\n",
      "INFO:tensorflow:Evaluation [320/1000]\n",
      "INFO:tensorflow:Evaluation [321/1000]\n",
      "INFO:tensorflow:Evaluation [322/1000]\n",
      "INFO:tensorflow:Evaluation [323/1000]\n",
      "INFO:tensorflow:Evaluation [324/1000]\n",
      "INFO:tensorflow:Evaluation [325/1000]\n",
      "INFO:tensorflow:Evaluation [326/1000]\n",
      "INFO:tensorflow:Evaluation [327/1000]\n",
      "INFO:tensorflow:Evaluation [328/1000]\n",
      "INFO:tensorflow:Evaluation [329/1000]\n",
      "INFO:tensorflow:Evaluation [330/1000]\n",
      "INFO:tensorflow:Evaluation [331/1000]\n",
      "INFO:tensorflow:Evaluation [332/1000]\n",
      "INFO:tensorflow:Evaluation [333/1000]\n",
      "INFO:tensorflow:Evaluation [334/1000]\n",
      "INFO:tensorflow:Evaluation [335/1000]\n",
      "INFO:tensorflow:Evaluation [336/1000]\n",
      "INFO:tensorflow:Evaluation [337/1000]\n",
      "INFO:tensorflow:Evaluation [338/1000]\n",
      "INFO:tensorflow:Evaluation [339/1000]\n",
      "INFO:tensorflow:Evaluation [340/1000]\n",
      "INFO:tensorflow:Evaluation [341/1000]\n",
      "INFO:tensorflow:Evaluation [342/1000]\n",
      "INFO:tensorflow:Evaluation [343/1000]\n",
      "INFO:tensorflow:Evaluation [344/1000]\n",
      "INFO:tensorflow:Evaluation [345/1000]\n",
      "INFO:tensorflow:Evaluation [346/1000]\n",
      "INFO:tensorflow:Evaluation [347/1000]\n",
      "INFO:tensorflow:Evaluation [348/1000]\n",
      "INFO:tensorflow:Evaluation [349/1000]\n",
      "INFO:tensorflow:Evaluation [350/1000]\n",
      "INFO:tensorflow:Evaluation [351/1000]\n",
      "INFO:tensorflow:Evaluation [352/1000]\n",
      "INFO:tensorflow:Evaluation [353/1000]\n",
      "INFO:tensorflow:Evaluation [354/1000]\n",
      "INFO:tensorflow:Evaluation [355/1000]\n",
      "INFO:tensorflow:Evaluation [356/1000]\n",
      "INFO:tensorflow:Evaluation [357/1000]\n",
      "INFO:tensorflow:Evaluation [358/1000]\n",
      "INFO:tensorflow:Evaluation [359/1000]\n",
      "INFO:tensorflow:Evaluation [360/1000]\n",
      "INFO:tensorflow:Evaluation [361/1000]\n",
      "INFO:tensorflow:Evaluation [362/1000]\n",
      "INFO:tensorflow:Evaluation [363/1000]\n",
      "INFO:tensorflow:Evaluation [364/1000]\n",
      "INFO:tensorflow:Evaluation [365/1000]\n",
      "INFO:tensorflow:Evaluation [366/1000]\n",
      "INFO:tensorflow:Evaluation [367/1000]\n",
      "INFO:tensorflow:Evaluation [368/1000]\n",
      "INFO:tensorflow:Evaluation [369/1000]\n",
      "INFO:tensorflow:Evaluation [370/1000]\n",
      "INFO:tensorflow:Evaluation [371/1000]\n",
      "INFO:tensorflow:Evaluation [372/1000]\n",
      "INFO:tensorflow:Evaluation [373/1000]\n",
      "INFO:tensorflow:Evaluation [374/1000]\n",
      "INFO:tensorflow:Evaluation [375/1000]\n",
      "INFO:tensorflow:Evaluation [376/1000]\n",
      "INFO:tensorflow:Evaluation [377/1000]\n",
      "INFO:tensorflow:Evaluation [378/1000]\n",
      "INFO:tensorflow:Evaluation [379/1000]\n",
      "INFO:tensorflow:Evaluation [380/1000]\n",
      "INFO:tensorflow:Evaluation [381/1000]\n",
      "INFO:tensorflow:Evaluation [382/1000]\n",
      "INFO:tensorflow:Evaluation [383/1000]\n",
      "INFO:tensorflow:Evaluation [384/1000]\n",
      "INFO:tensorflow:Evaluation [385/1000]\n",
      "INFO:tensorflow:Evaluation [386/1000]\n",
      "INFO:tensorflow:Evaluation [387/1000]\n",
      "INFO:tensorflow:Evaluation [388/1000]\n",
      "INFO:tensorflow:Evaluation [389/1000]\n",
      "INFO:tensorflow:Evaluation [390/1000]\n",
      "INFO:tensorflow:Evaluation [391/1000]\n",
      "INFO:tensorflow:Evaluation [392/1000]\n",
      "INFO:tensorflow:Evaluation [393/1000]\n",
      "INFO:tensorflow:Evaluation [394/1000]\n",
      "INFO:tensorflow:Evaluation [395/1000]\n",
      "INFO:tensorflow:Evaluation [396/1000]\n",
      "INFO:tensorflow:Evaluation [397/1000]\n",
      "INFO:tensorflow:Evaluation [398/1000]\n",
      "INFO:tensorflow:Evaluation [399/1000]\n",
      "INFO:tensorflow:Evaluation [400/1000]\n",
      "INFO:tensorflow:Evaluation [401/1000]\n",
      "INFO:tensorflow:Evaluation [402/1000]\n",
      "INFO:tensorflow:Evaluation [403/1000]\n",
      "INFO:tensorflow:Evaluation [404/1000]\n",
      "INFO:tensorflow:Evaluation [405/1000]\n",
      "INFO:tensorflow:Evaluation [406/1000]\n",
      "INFO:tensorflow:Evaluation [407/1000]\n",
      "INFO:tensorflow:Evaluation [408/1000]\n",
      "INFO:tensorflow:Evaluation [409/1000]\n",
      "INFO:tensorflow:Evaluation [410/1000]\n",
      "INFO:tensorflow:Evaluation [411/1000]\n",
      "INFO:tensorflow:Evaluation [412/1000]\n",
      "INFO:tensorflow:Evaluation [413/1000]\n",
      "INFO:tensorflow:Evaluation [414/1000]\n",
      "INFO:tensorflow:Evaluation [415/1000]\n",
      "INFO:tensorflow:Evaluation [416/1000]\n",
      "INFO:tensorflow:Evaluation [417/1000]\n",
      "INFO:tensorflow:Evaluation [418/1000]\n",
      "INFO:tensorflow:Evaluation [419/1000]\n",
      "INFO:tensorflow:Evaluation [420/1000]\n",
      "INFO:tensorflow:Evaluation [421/1000]\n",
      "INFO:tensorflow:Evaluation [422/1000]\n",
      "INFO:tensorflow:Evaluation [423/1000]\n",
      "INFO:tensorflow:Evaluation [424/1000]\n",
      "INFO:tensorflow:Evaluation [425/1000]\n",
      "INFO:tensorflow:Evaluation [426/1000]\n",
      "INFO:tensorflow:Evaluation [427/1000]\n",
      "INFO:tensorflow:Evaluation [428/1000]\n",
      "INFO:tensorflow:Evaluation [429/1000]\n",
      "INFO:tensorflow:Evaluation [430/1000]\n",
      "INFO:tensorflow:Evaluation [431/1000]\n"
     ]
    },
    {
     "name": "stdout",
     "output_type": "stream",
     "text": [
      "INFO:tensorflow:Evaluation [432/1000]\n",
      "INFO:tensorflow:Evaluation [433/1000]\n",
      "INFO:tensorflow:Evaluation [434/1000]\n",
      "INFO:tensorflow:Evaluation [435/1000]\n",
      "INFO:tensorflow:Evaluation [436/1000]\n",
      "INFO:tensorflow:Evaluation [437/1000]\n",
      "INFO:tensorflow:Evaluation [438/1000]\n",
      "INFO:tensorflow:Evaluation [439/1000]\n",
      "INFO:tensorflow:Evaluation [440/1000]\n",
      "INFO:tensorflow:Evaluation [441/1000]\n",
      "INFO:tensorflow:Evaluation [442/1000]\n",
      "INFO:tensorflow:Evaluation [443/1000]\n",
      "INFO:tensorflow:Evaluation [444/1000]\n",
      "INFO:tensorflow:Evaluation [445/1000]\n",
      "INFO:tensorflow:Evaluation [446/1000]\n",
      "INFO:tensorflow:Evaluation [447/1000]\n",
      "INFO:tensorflow:Evaluation [448/1000]\n",
      "INFO:tensorflow:Evaluation [449/1000]\n",
      "INFO:tensorflow:Evaluation [450/1000]\n",
      "INFO:tensorflow:Evaluation [451/1000]\n",
      "INFO:tensorflow:Evaluation [452/1000]\n",
      "INFO:tensorflow:Evaluation [453/1000]\n",
      "INFO:tensorflow:Evaluation [454/1000]\n",
      "INFO:tensorflow:Evaluation [455/1000]\n",
      "INFO:tensorflow:Evaluation [456/1000]\n",
      "INFO:tensorflow:Evaluation [457/1000]\n",
      "INFO:tensorflow:Evaluation [458/1000]\n",
      "INFO:tensorflow:Evaluation [459/1000]\n",
      "INFO:tensorflow:Evaluation [460/1000]\n",
      "INFO:tensorflow:Evaluation [461/1000]\n",
      "INFO:tensorflow:Evaluation [462/1000]\n",
      "INFO:tensorflow:Evaluation [463/1000]\n",
      "INFO:tensorflow:Evaluation [464/1000]\n",
      "INFO:tensorflow:Evaluation [465/1000]\n",
      "INFO:tensorflow:Evaluation [466/1000]\n",
      "INFO:tensorflow:Evaluation [467/1000]\n",
      "INFO:tensorflow:Evaluation [468/1000]\n",
      "INFO:tensorflow:Evaluation [469/1000]\n",
      "INFO:tensorflow:Evaluation [470/1000]\n",
      "INFO:tensorflow:Evaluation [471/1000]\n",
      "INFO:tensorflow:Evaluation [472/1000]\n",
      "INFO:tensorflow:Evaluation [473/1000]\n",
      "INFO:tensorflow:Evaluation [474/1000]\n",
      "INFO:tensorflow:Evaluation [475/1000]\n",
      "INFO:tensorflow:Evaluation [476/1000]\n",
      "INFO:tensorflow:Evaluation [477/1000]\n",
      "INFO:tensorflow:Evaluation [478/1000]\n",
      "INFO:tensorflow:Evaluation [479/1000]\n",
      "INFO:tensorflow:Evaluation [480/1000]\n",
      "INFO:tensorflow:Evaluation [481/1000]\n",
      "INFO:tensorflow:Evaluation [482/1000]\n",
      "INFO:tensorflow:Evaluation [483/1000]\n",
      "INFO:tensorflow:Evaluation [484/1000]\n",
      "INFO:tensorflow:Evaluation [485/1000]\n",
      "INFO:tensorflow:Evaluation [486/1000]\n",
      "INFO:tensorflow:Evaluation [487/1000]\n",
      "INFO:tensorflow:Evaluation [488/1000]\n",
      "INFO:tensorflow:Evaluation [489/1000]\n",
      "INFO:tensorflow:Evaluation [490/1000]\n",
      "INFO:tensorflow:Evaluation [491/1000]\n",
      "INFO:tensorflow:Evaluation [492/1000]\n",
      "INFO:tensorflow:Evaluation [493/1000]\n",
      "INFO:tensorflow:Evaluation [494/1000]\n",
      "INFO:tensorflow:Evaluation [495/1000]\n",
      "INFO:tensorflow:Evaluation [496/1000]\n",
      "INFO:tensorflow:Evaluation [497/1000]\n",
      "INFO:tensorflow:Evaluation [498/1000]\n",
      "INFO:tensorflow:Evaluation [499/1000]\n",
      "INFO:tensorflow:Evaluation [500/1000]\n",
      "INFO:tensorflow:Evaluation [501/1000]\n",
      "INFO:tensorflow:Evaluation [502/1000]\n",
      "INFO:tensorflow:Evaluation [503/1000]\n",
      "INFO:tensorflow:Evaluation [504/1000]\n",
      "INFO:tensorflow:Evaluation [505/1000]\n",
      "INFO:tensorflow:Evaluation [506/1000]\n",
      "INFO:tensorflow:Evaluation [507/1000]\n",
      "INFO:tensorflow:Evaluation [508/1000]\n",
      "INFO:tensorflow:Evaluation [509/1000]\n",
      "INFO:tensorflow:Evaluation [510/1000]\n",
      "INFO:tensorflow:Evaluation [511/1000]\n",
      "INFO:tensorflow:Evaluation [512/1000]\n",
      "INFO:tensorflow:Evaluation [513/1000]\n",
      "INFO:tensorflow:Evaluation [514/1000]\n",
      "INFO:tensorflow:Evaluation [515/1000]\n",
      "INFO:tensorflow:Evaluation [516/1000]\n",
      "INFO:tensorflow:Evaluation [517/1000]\n",
      "INFO:tensorflow:Evaluation [518/1000]\n",
      "INFO:tensorflow:Evaluation [519/1000]\n",
      "INFO:tensorflow:Evaluation [520/1000]\n",
      "INFO:tensorflow:Evaluation [521/1000]\n",
      "INFO:tensorflow:Evaluation [522/1000]\n",
      "INFO:tensorflow:Evaluation [523/1000]\n",
      "INFO:tensorflow:Evaluation [524/1000]\n",
      "INFO:tensorflow:Evaluation [525/1000]\n",
      "INFO:tensorflow:Evaluation [526/1000]\n",
      "INFO:tensorflow:Evaluation [527/1000]\n",
      "INFO:tensorflow:Evaluation [528/1000]\n",
      "INFO:tensorflow:Evaluation [529/1000]\n",
      "INFO:tensorflow:Evaluation [530/1000]\n",
      "INFO:tensorflow:Evaluation [531/1000]\n",
      "INFO:tensorflow:Evaluation [532/1000]\n",
      "INFO:tensorflow:Evaluation [533/1000]\n",
      "INFO:tensorflow:Evaluation [534/1000]\n",
      "INFO:tensorflow:Evaluation [535/1000]\n",
      "INFO:tensorflow:Evaluation [536/1000]\n",
      "INFO:tensorflow:Evaluation [537/1000]\n",
      "INFO:tensorflow:Evaluation [538/1000]\n",
      "INFO:tensorflow:Evaluation [539/1000]\n",
      "INFO:tensorflow:Evaluation [540/1000]\n",
      "INFO:tensorflow:Evaluation [541/1000]\n",
      "INFO:tensorflow:Evaluation [542/1000]\n",
      "INFO:tensorflow:Evaluation [543/1000]\n",
      "INFO:tensorflow:Evaluation [544/1000]\n",
      "INFO:tensorflow:Evaluation [545/1000]\n",
      "INFO:tensorflow:Evaluation [546/1000]\n",
      "INFO:tensorflow:Evaluation [547/1000]\n",
      "INFO:tensorflow:Evaluation [548/1000]\n",
      "INFO:tensorflow:Evaluation [549/1000]\n",
      "INFO:tensorflow:Evaluation [550/1000]\n",
      "INFO:tensorflow:Evaluation [551/1000]\n",
      "INFO:tensorflow:Evaluation [552/1000]\n",
      "INFO:tensorflow:Evaluation [553/1000]\n",
      "INFO:tensorflow:Evaluation [554/1000]\n",
      "INFO:tensorflow:Evaluation [555/1000]\n",
      "INFO:tensorflow:Evaluation [556/1000]\n",
      "INFO:tensorflow:Evaluation [557/1000]\n",
      "INFO:tensorflow:Evaluation [558/1000]\n",
      "INFO:tensorflow:Evaluation [559/1000]\n",
      "INFO:tensorflow:Evaluation [560/1000]\n",
      "INFO:tensorflow:Evaluation [561/1000]\n",
      "INFO:tensorflow:Evaluation [562/1000]\n",
      "INFO:tensorflow:Evaluation [563/1000]\n",
      "INFO:tensorflow:Evaluation [564/1000]\n",
      "INFO:tensorflow:Evaluation [565/1000]\n",
      "INFO:tensorflow:Evaluation [566/1000]\n",
      "INFO:tensorflow:Evaluation [567/1000]\n",
      "INFO:tensorflow:Evaluation [568/1000]\n",
      "INFO:tensorflow:Evaluation [569/1000]\n",
      "INFO:tensorflow:Evaluation [570/1000]\n",
      "INFO:tensorflow:Evaluation [571/1000]\n",
      "INFO:tensorflow:Evaluation [572/1000]\n",
      "INFO:tensorflow:Evaluation [573/1000]\n",
      "INFO:tensorflow:Evaluation [574/1000]\n",
      "INFO:tensorflow:Evaluation [575/1000]\n",
      "INFO:tensorflow:Evaluation [576/1000]\n",
      "INFO:tensorflow:Evaluation [577/1000]\n",
      "INFO:tensorflow:Evaluation [578/1000]\n",
      "INFO:tensorflow:Evaluation [579/1000]\n",
      "INFO:tensorflow:Evaluation [580/1000]\n",
      "INFO:tensorflow:Evaluation [581/1000]\n",
      "INFO:tensorflow:Evaluation [582/1000]\n",
      "INFO:tensorflow:Evaluation [583/1000]\n",
      "INFO:tensorflow:Evaluation [584/1000]\n",
      "INFO:tensorflow:Evaluation [585/1000]\n",
      "INFO:tensorflow:Evaluation [586/1000]\n",
      "INFO:tensorflow:Evaluation [587/1000]\n",
      "INFO:tensorflow:Evaluation [588/1000]\n",
      "INFO:tensorflow:Evaluation [589/1000]\n",
      "INFO:tensorflow:Evaluation [590/1000]\n",
      "INFO:tensorflow:Evaluation [591/1000]\n",
      "INFO:tensorflow:Evaluation [592/1000]\n",
      "INFO:tensorflow:Evaluation [593/1000]\n",
      "INFO:tensorflow:Evaluation [594/1000]\n",
      "INFO:tensorflow:Evaluation [595/1000]\n",
      "INFO:tensorflow:Evaluation [596/1000]\n",
      "INFO:tensorflow:Evaluation [597/1000]\n",
      "INFO:tensorflow:Evaluation [598/1000]\n",
      "INFO:tensorflow:Evaluation [599/1000]\n",
      "INFO:tensorflow:Evaluation [600/1000]\n",
      "INFO:tensorflow:Evaluation [601/1000]\n",
      "INFO:tensorflow:Evaluation [602/1000]\n",
      "INFO:tensorflow:Evaluation [603/1000]\n",
      "INFO:tensorflow:Evaluation [604/1000]\n",
      "INFO:tensorflow:Evaluation [605/1000]\n",
      "INFO:tensorflow:Evaluation [606/1000]\n",
      "INFO:tensorflow:Evaluation [607/1000]\n",
      "INFO:tensorflow:Evaluation [608/1000]\n",
      "INFO:tensorflow:Evaluation [609/1000]\n",
      "INFO:tensorflow:Evaluation [610/1000]\n",
      "INFO:tensorflow:Evaluation [611/1000]\n",
      "INFO:tensorflow:Evaluation [612/1000]\n",
      "INFO:tensorflow:Evaluation [613/1000]\n",
      "INFO:tensorflow:Evaluation [614/1000]\n",
      "INFO:tensorflow:Evaluation [615/1000]\n",
      "INFO:tensorflow:Evaluation [616/1000]\n",
      "INFO:tensorflow:Evaluation [617/1000]\n",
      "INFO:tensorflow:Evaluation [618/1000]\n",
      "INFO:tensorflow:Evaluation [619/1000]\n",
      "INFO:tensorflow:Evaluation [620/1000]\n",
      "INFO:tensorflow:Evaluation [621/1000]\n",
      "INFO:tensorflow:Evaluation [622/1000]\n",
      "INFO:tensorflow:Evaluation [623/1000]\n",
      "INFO:tensorflow:Evaluation [624/1000]\n",
      "INFO:tensorflow:Evaluation [625/1000]\n",
      "INFO:tensorflow:Evaluation [626/1000]\n",
      "INFO:tensorflow:Evaluation [627/1000]\n",
      "INFO:tensorflow:Evaluation [628/1000]\n",
      "INFO:tensorflow:Evaluation [629/1000]\n",
      "INFO:tensorflow:Evaluation [630/1000]\n",
      "INFO:tensorflow:Evaluation [631/1000]\n",
      "INFO:tensorflow:Evaluation [632/1000]\n",
      "INFO:tensorflow:Evaluation [633/1000]\n",
      "INFO:tensorflow:Evaluation [634/1000]\n",
      "INFO:tensorflow:Evaluation [635/1000]\n",
      "INFO:tensorflow:Evaluation [636/1000]\n",
      "INFO:tensorflow:Evaluation [637/1000]\n",
      "INFO:tensorflow:Evaluation [638/1000]\n",
      "INFO:tensorflow:Evaluation [639/1000]\n",
      "INFO:tensorflow:Evaluation [640/1000]\n",
      "INFO:tensorflow:Evaluation [641/1000]\n",
      "INFO:tensorflow:Evaluation [642/1000]\n",
      "INFO:tensorflow:Evaluation [643/1000]\n",
      "INFO:tensorflow:Evaluation [644/1000]\n",
      "INFO:tensorflow:Evaluation [645/1000]\n",
      "INFO:tensorflow:Evaluation [646/1000]\n",
      "INFO:tensorflow:Evaluation [647/1000]\n"
     ]
    },
    {
     "name": "stdout",
     "output_type": "stream",
     "text": [
      "INFO:tensorflow:Evaluation [648/1000]\n",
      "INFO:tensorflow:Evaluation [649/1000]\n",
      "INFO:tensorflow:Evaluation [650/1000]\n",
      "INFO:tensorflow:Evaluation [651/1000]\n",
      "INFO:tensorflow:Evaluation [652/1000]\n",
      "INFO:tensorflow:Evaluation [653/1000]\n",
      "INFO:tensorflow:Evaluation [654/1000]\n",
      "INFO:tensorflow:Evaluation [655/1000]\n",
      "INFO:tensorflow:Evaluation [656/1000]\n",
      "INFO:tensorflow:Evaluation [657/1000]\n",
      "INFO:tensorflow:Evaluation [658/1000]\n",
      "INFO:tensorflow:Evaluation [659/1000]\n",
      "INFO:tensorflow:Evaluation [660/1000]\n",
      "INFO:tensorflow:Evaluation [661/1000]\n",
      "INFO:tensorflow:Evaluation [662/1000]\n",
      "INFO:tensorflow:Evaluation [663/1000]\n",
      "INFO:tensorflow:Evaluation [664/1000]\n",
      "INFO:tensorflow:Evaluation [665/1000]\n",
      "INFO:tensorflow:Evaluation [666/1000]\n",
      "INFO:tensorflow:Evaluation [667/1000]\n",
      "INFO:tensorflow:Evaluation [668/1000]\n",
      "INFO:tensorflow:Evaluation [669/1000]\n",
      "INFO:tensorflow:Evaluation [670/1000]\n",
      "INFO:tensorflow:Evaluation [671/1000]\n",
      "INFO:tensorflow:Evaluation [672/1000]\n",
      "INFO:tensorflow:Evaluation [673/1000]\n",
      "INFO:tensorflow:Evaluation [674/1000]\n",
      "INFO:tensorflow:Evaluation [675/1000]\n",
      "INFO:tensorflow:Evaluation [676/1000]\n",
      "INFO:tensorflow:Evaluation [677/1000]\n",
      "INFO:tensorflow:Evaluation [678/1000]\n",
      "INFO:tensorflow:Evaluation [679/1000]\n",
      "INFO:tensorflow:Evaluation [680/1000]\n",
      "INFO:tensorflow:Evaluation [681/1000]\n",
      "INFO:tensorflow:Evaluation [682/1000]\n",
      "INFO:tensorflow:Evaluation [683/1000]\n",
      "INFO:tensorflow:Evaluation [684/1000]\n",
      "INFO:tensorflow:Evaluation [685/1000]\n",
      "INFO:tensorflow:Evaluation [686/1000]\n",
      "INFO:tensorflow:Evaluation [687/1000]\n",
      "INFO:tensorflow:Evaluation [688/1000]\n",
      "INFO:tensorflow:Evaluation [689/1000]\n",
      "INFO:tensorflow:Evaluation [690/1000]\n",
      "INFO:tensorflow:Evaluation [691/1000]\n",
      "INFO:tensorflow:Evaluation [692/1000]\n",
      "INFO:tensorflow:Evaluation [693/1000]\n",
      "INFO:tensorflow:Evaluation [694/1000]\n",
      "INFO:tensorflow:Evaluation [695/1000]\n",
      "INFO:tensorflow:Evaluation [696/1000]\n",
      "INFO:tensorflow:Evaluation [697/1000]\n",
      "INFO:tensorflow:Evaluation [698/1000]\n",
      "INFO:tensorflow:Evaluation [699/1000]\n",
      "INFO:tensorflow:Evaluation [700/1000]\n",
      "INFO:tensorflow:Evaluation [701/1000]\n",
      "INFO:tensorflow:Evaluation [702/1000]\n",
      "INFO:tensorflow:Evaluation [703/1000]\n",
      "INFO:tensorflow:Evaluation [704/1000]\n",
      "INFO:tensorflow:Evaluation [705/1000]\n",
      "INFO:tensorflow:Evaluation [706/1000]\n",
      "INFO:tensorflow:Evaluation [707/1000]\n",
      "INFO:tensorflow:Evaluation [708/1000]\n",
      "INFO:tensorflow:Evaluation [709/1000]\n",
      "INFO:tensorflow:Evaluation [710/1000]\n",
      "INFO:tensorflow:Evaluation [711/1000]\n",
      "INFO:tensorflow:Evaluation [712/1000]\n",
      "INFO:tensorflow:Evaluation [713/1000]\n",
      "INFO:tensorflow:Evaluation [714/1000]\n",
      "INFO:tensorflow:Evaluation [715/1000]\n",
      "INFO:tensorflow:Evaluation [716/1000]\n",
      "INFO:tensorflow:Evaluation [717/1000]\n",
      "INFO:tensorflow:Evaluation [718/1000]\n",
      "INFO:tensorflow:Evaluation [719/1000]\n",
      "INFO:tensorflow:Evaluation [720/1000]\n",
      "INFO:tensorflow:Evaluation [721/1000]\n",
      "INFO:tensorflow:Evaluation [722/1000]\n",
      "INFO:tensorflow:Evaluation [723/1000]\n",
      "INFO:tensorflow:Evaluation [724/1000]\n",
      "INFO:tensorflow:Evaluation [725/1000]\n",
      "INFO:tensorflow:Evaluation [726/1000]\n",
      "INFO:tensorflow:Evaluation [727/1000]\n",
      "INFO:tensorflow:Evaluation [728/1000]\n",
      "INFO:tensorflow:Evaluation [729/1000]\n",
      "INFO:tensorflow:Evaluation [730/1000]\n",
      "INFO:tensorflow:Evaluation [731/1000]\n",
      "INFO:tensorflow:Evaluation [732/1000]\n",
      "INFO:tensorflow:Evaluation [733/1000]\n",
      "INFO:tensorflow:Evaluation [734/1000]\n",
      "INFO:tensorflow:Evaluation [735/1000]\n",
      "INFO:tensorflow:Evaluation [736/1000]\n",
      "INFO:tensorflow:Evaluation [737/1000]\n",
      "INFO:tensorflow:Evaluation [738/1000]\n",
      "INFO:tensorflow:Evaluation [739/1000]\n",
      "INFO:tensorflow:Evaluation [740/1000]\n",
      "INFO:tensorflow:Evaluation [741/1000]\n",
      "INFO:tensorflow:Evaluation [742/1000]\n",
      "INFO:tensorflow:Evaluation [743/1000]\n",
      "INFO:tensorflow:Evaluation [744/1000]\n",
      "INFO:tensorflow:Evaluation [745/1000]\n",
      "INFO:tensorflow:Evaluation [746/1000]\n",
      "INFO:tensorflow:Evaluation [747/1000]\n",
      "INFO:tensorflow:Evaluation [748/1000]\n",
      "INFO:tensorflow:Evaluation [749/1000]\n",
      "INFO:tensorflow:Evaluation [750/1000]\n",
      "INFO:tensorflow:Evaluation [751/1000]\n",
      "INFO:tensorflow:Evaluation [752/1000]\n",
      "INFO:tensorflow:Evaluation [753/1000]\n",
      "INFO:tensorflow:Evaluation [754/1000]\n",
      "INFO:tensorflow:Evaluation [755/1000]\n",
      "INFO:tensorflow:Evaluation [756/1000]\n",
      "INFO:tensorflow:Evaluation [757/1000]\n",
      "INFO:tensorflow:Evaluation [758/1000]\n",
      "INFO:tensorflow:Evaluation [759/1000]\n",
      "INFO:tensorflow:Evaluation [760/1000]\n",
      "INFO:tensorflow:Evaluation [761/1000]\n",
      "INFO:tensorflow:Evaluation [762/1000]\n",
      "INFO:tensorflow:Evaluation [763/1000]\n",
      "INFO:tensorflow:Evaluation [764/1000]\n",
      "INFO:tensorflow:Evaluation [765/1000]\n",
      "INFO:tensorflow:Evaluation [766/1000]\n",
      "INFO:tensorflow:Evaluation [767/1000]\n",
      "INFO:tensorflow:Evaluation [768/1000]\n",
      "INFO:tensorflow:Evaluation [769/1000]\n",
      "INFO:tensorflow:Evaluation [770/1000]\n",
      "INFO:tensorflow:Evaluation [771/1000]\n",
      "INFO:tensorflow:Evaluation [772/1000]\n",
      "INFO:tensorflow:Evaluation [773/1000]\n",
      "INFO:tensorflow:Evaluation [774/1000]\n",
      "INFO:tensorflow:Evaluation [775/1000]\n",
      "INFO:tensorflow:Evaluation [776/1000]\n",
      "INFO:tensorflow:Evaluation [777/1000]\n",
      "INFO:tensorflow:Evaluation [778/1000]\n",
      "INFO:tensorflow:Evaluation [779/1000]\n",
      "INFO:tensorflow:Evaluation [780/1000]\n",
      "INFO:tensorflow:Evaluation [781/1000]\n",
      "INFO:tensorflow:Evaluation [782/1000]\n",
      "INFO:tensorflow:Evaluation [783/1000]\n",
      "INFO:tensorflow:Evaluation [784/1000]\n",
      "INFO:tensorflow:Evaluation [785/1000]\n",
      "INFO:tensorflow:Evaluation [786/1000]\n",
      "INFO:tensorflow:Evaluation [787/1000]\n",
      "INFO:tensorflow:Evaluation [788/1000]\n",
      "INFO:tensorflow:Evaluation [789/1000]\n",
      "INFO:tensorflow:Evaluation [790/1000]\n",
      "INFO:tensorflow:Evaluation [791/1000]\n",
      "INFO:tensorflow:Evaluation [792/1000]\n",
      "INFO:tensorflow:Evaluation [793/1000]\n",
      "INFO:tensorflow:Evaluation [794/1000]\n",
      "INFO:tensorflow:Evaluation [795/1000]\n",
      "INFO:tensorflow:Evaluation [796/1000]\n",
      "INFO:tensorflow:Evaluation [797/1000]\n",
      "INFO:tensorflow:Evaluation [798/1000]\n",
      "INFO:tensorflow:Evaluation [799/1000]\n",
      "INFO:tensorflow:Evaluation [800/1000]\n",
      "INFO:tensorflow:Evaluation [801/1000]\n",
      "INFO:tensorflow:Evaluation [802/1000]\n",
      "INFO:tensorflow:Evaluation [803/1000]\n",
      "INFO:tensorflow:Evaluation [804/1000]\n",
      "INFO:tensorflow:Evaluation [805/1000]\n",
      "INFO:tensorflow:Evaluation [806/1000]\n",
      "INFO:tensorflow:Evaluation [807/1000]\n",
      "INFO:tensorflow:Evaluation [808/1000]\n",
      "INFO:tensorflow:Evaluation [809/1000]\n",
      "INFO:tensorflow:Evaluation [810/1000]\n",
      "INFO:tensorflow:Evaluation [811/1000]\n",
      "INFO:tensorflow:Evaluation [812/1000]\n",
      "INFO:tensorflow:Evaluation [813/1000]\n",
      "INFO:tensorflow:Evaluation [814/1000]\n",
      "INFO:tensorflow:Evaluation [815/1000]\n",
      "INFO:tensorflow:Evaluation [816/1000]\n",
      "INFO:tensorflow:Evaluation [817/1000]\n",
      "INFO:tensorflow:Evaluation [818/1000]\n",
      "INFO:tensorflow:Evaluation [819/1000]\n",
      "INFO:tensorflow:Evaluation [820/1000]\n",
      "INFO:tensorflow:Evaluation [821/1000]\n",
      "INFO:tensorflow:Evaluation [822/1000]\n",
      "INFO:tensorflow:Evaluation [823/1000]\n",
      "INFO:tensorflow:Evaluation [824/1000]\n",
      "INFO:tensorflow:Evaluation [825/1000]\n",
      "INFO:tensorflow:Evaluation [826/1000]\n",
      "INFO:tensorflow:Evaluation [827/1000]\n",
      "INFO:tensorflow:Evaluation [828/1000]\n",
      "INFO:tensorflow:Evaluation [829/1000]\n",
      "INFO:tensorflow:Evaluation [830/1000]\n",
      "INFO:tensorflow:Evaluation [831/1000]\n",
      "INFO:tensorflow:Evaluation [832/1000]\n",
      "INFO:tensorflow:Evaluation [833/1000]\n",
      "INFO:tensorflow:Evaluation [834/1000]\n",
      "INFO:tensorflow:Evaluation [835/1000]\n",
      "INFO:tensorflow:Evaluation [836/1000]\n",
      "INFO:tensorflow:Evaluation [837/1000]\n",
      "INFO:tensorflow:Evaluation [838/1000]\n",
      "INFO:tensorflow:Evaluation [839/1000]\n",
      "INFO:tensorflow:Evaluation [840/1000]\n",
      "INFO:tensorflow:Evaluation [841/1000]\n",
      "INFO:tensorflow:Evaluation [842/1000]\n",
      "INFO:tensorflow:Evaluation [843/1000]\n",
      "INFO:tensorflow:Evaluation [844/1000]\n",
      "INFO:tensorflow:Evaluation [845/1000]\n",
      "INFO:tensorflow:Evaluation [846/1000]\n",
      "INFO:tensorflow:Evaluation [847/1000]\n",
      "INFO:tensorflow:Evaluation [848/1000]\n",
      "INFO:tensorflow:Evaluation [849/1000]\n",
      "INFO:tensorflow:Evaluation [850/1000]\n",
      "INFO:tensorflow:Evaluation [851/1000]\n",
      "INFO:tensorflow:Evaluation [852/1000]\n",
      "INFO:tensorflow:Evaluation [853/1000]\n",
      "INFO:tensorflow:Evaluation [854/1000]\n",
      "INFO:tensorflow:Evaluation [855/1000]\n",
      "INFO:tensorflow:Evaluation [856/1000]\n",
      "INFO:tensorflow:Evaluation [857/1000]\n",
      "INFO:tensorflow:Evaluation [858/1000]\n",
      "INFO:tensorflow:Evaluation [859/1000]\n",
      "INFO:tensorflow:Evaluation [860/1000]\n",
      "INFO:tensorflow:Evaluation [861/1000]\n",
      "INFO:tensorflow:Evaluation [862/1000]\n"
     ]
    },
    {
     "name": "stdout",
     "output_type": "stream",
     "text": [
      "INFO:tensorflow:Evaluation [863/1000]\n",
      "INFO:tensorflow:Evaluation [864/1000]\n",
      "INFO:tensorflow:Evaluation [865/1000]\n",
      "INFO:tensorflow:Evaluation [866/1000]\n",
      "INFO:tensorflow:Evaluation [867/1000]\n",
      "INFO:tensorflow:Evaluation [868/1000]\n",
      "INFO:tensorflow:Evaluation [869/1000]\n",
      "INFO:tensorflow:Evaluation [870/1000]\n",
      "INFO:tensorflow:Evaluation [871/1000]\n",
      "INFO:tensorflow:Evaluation [872/1000]\n",
      "INFO:tensorflow:Evaluation [873/1000]\n",
      "INFO:tensorflow:Evaluation [874/1000]\n",
      "INFO:tensorflow:Evaluation [875/1000]\n",
      "INFO:tensorflow:Evaluation [876/1000]\n",
      "INFO:tensorflow:Evaluation [877/1000]\n",
      "INFO:tensorflow:Evaluation [878/1000]\n",
      "INFO:tensorflow:Evaluation [879/1000]\n",
      "INFO:tensorflow:Evaluation [880/1000]\n",
      "INFO:tensorflow:Evaluation [881/1000]\n",
      "INFO:tensorflow:Evaluation [882/1000]\n",
      "INFO:tensorflow:Evaluation [883/1000]\n",
      "INFO:tensorflow:Evaluation [884/1000]\n",
      "INFO:tensorflow:Evaluation [885/1000]\n",
      "INFO:tensorflow:Evaluation [886/1000]\n",
      "INFO:tensorflow:Evaluation [887/1000]\n",
      "INFO:tensorflow:Evaluation [888/1000]\n",
      "INFO:tensorflow:Evaluation [889/1000]\n",
      "INFO:tensorflow:Evaluation [890/1000]\n",
      "INFO:tensorflow:Evaluation [891/1000]\n",
      "INFO:tensorflow:Evaluation [892/1000]\n",
      "INFO:tensorflow:Evaluation [893/1000]\n",
      "INFO:tensorflow:Evaluation [894/1000]\n",
      "INFO:tensorflow:Evaluation [895/1000]\n",
      "INFO:tensorflow:Evaluation [896/1000]\n",
      "INFO:tensorflow:Evaluation [897/1000]\n",
      "INFO:tensorflow:Evaluation [898/1000]\n",
      "INFO:tensorflow:Evaluation [899/1000]\n",
      "INFO:tensorflow:Evaluation [900/1000]\n",
      "INFO:tensorflow:Evaluation [901/1000]\n",
      "INFO:tensorflow:Evaluation [902/1000]\n",
      "INFO:tensorflow:Evaluation [903/1000]\n",
      "INFO:tensorflow:Evaluation [904/1000]\n",
      "INFO:tensorflow:Evaluation [905/1000]\n",
      "INFO:tensorflow:Evaluation [906/1000]\n",
      "INFO:tensorflow:Evaluation [907/1000]\n",
      "INFO:tensorflow:Evaluation [908/1000]\n",
      "INFO:tensorflow:Evaluation [909/1000]\n",
      "INFO:tensorflow:Evaluation [910/1000]\n",
      "INFO:tensorflow:Evaluation [911/1000]\n",
      "INFO:tensorflow:Evaluation [912/1000]\n",
      "INFO:tensorflow:Evaluation [913/1000]\n",
      "INFO:tensorflow:Evaluation [914/1000]\n",
      "INFO:tensorflow:Evaluation [915/1000]\n",
      "INFO:tensorflow:Evaluation [916/1000]\n",
      "INFO:tensorflow:Evaluation [917/1000]\n",
      "INFO:tensorflow:Evaluation [918/1000]\n",
      "INFO:tensorflow:Evaluation [919/1000]\n",
      "INFO:tensorflow:Evaluation [920/1000]\n",
      "INFO:tensorflow:Evaluation [921/1000]\n",
      "INFO:tensorflow:Evaluation [922/1000]\n",
      "INFO:tensorflow:Evaluation [923/1000]\n",
      "INFO:tensorflow:Evaluation [924/1000]\n",
      "INFO:tensorflow:Evaluation [925/1000]\n",
      "INFO:tensorflow:Evaluation [926/1000]\n",
      "INFO:tensorflow:Evaluation [927/1000]\n",
      "INFO:tensorflow:Evaluation [928/1000]\n",
      "INFO:tensorflow:Evaluation [929/1000]\n",
      "INFO:tensorflow:Evaluation [930/1000]\n",
      "INFO:tensorflow:Evaluation [931/1000]\n",
      "INFO:tensorflow:Evaluation [932/1000]\n",
      "INFO:tensorflow:Evaluation [933/1000]\n",
      "INFO:tensorflow:Evaluation [934/1000]\n",
      "INFO:tensorflow:Evaluation [935/1000]\n",
      "INFO:tensorflow:Evaluation [936/1000]\n",
      "INFO:tensorflow:Evaluation [937/1000]\n",
      "INFO:tensorflow:Evaluation [938/1000]\n",
      "INFO:tensorflow:Evaluation [939/1000]\n",
      "INFO:tensorflow:Evaluation [940/1000]\n",
      "INFO:tensorflow:Evaluation [941/1000]\n",
      "INFO:tensorflow:Evaluation [942/1000]\n",
      "INFO:tensorflow:Evaluation [943/1000]\n",
      "INFO:tensorflow:Evaluation [944/1000]\n",
      "INFO:tensorflow:Evaluation [945/1000]\n",
      "INFO:tensorflow:Evaluation [946/1000]\n",
      "INFO:tensorflow:Evaluation [947/1000]\n",
      "INFO:tensorflow:Evaluation [948/1000]\n",
      "INFO:tensorflow:Evaluation [949/1000]\n",
      "INFO:tensorflow:Evaluation [950/1000]\n",
      "INFO:tensorflow:Evaluation [951/1000]\n",
      "INFO:tensorflow:Evaluation [952/1000]\n",
      "INFO:tensorflow:Evaluation [953/1000]\n",
      "INFO:tensorflow:Evaluation [954/1000]\n",
      "INFO:tensorflow:Evaluation [955/1000]\n",
      "INFO:tensorflow:Evaluation [956/1000]\n",
      "INFO:tensorflow:Evaluation [957/1000]\n",
      "INFO:tensorflow:Evaluation [958/1000]\n",
      "INFO:tensorflow:Evaluation [959/1000]\n",
      "INFO:tensorflow:Evaluation [960/1000]\n",
      "INFO:tensorflow:Evaluation [961/1000]\n",
      "INFO:tensorflow:Evaluation [962/1000]\n",
      "INFO:tensorflow:Evaluation [963/1000]\n",
      "INFO:tensorflow:Evaluation [964/1000]\n",
      "INFO:tensorflow:Evaluation [965/1000]\n",
      "INFO:tensorflow:Evaluation [966/1000]\n",
      "INFO:tensorflow:Evaluation [967/1000]\n",
      "INFO:tensorflow:Evaluation [968/1000]\n",
      "INFO:tensorflow:Evaluation [969/1000]\n",
      "INFO:tensorflow:Evaluation [970/1000]\n",
      "INFO:tensorflow:Evaluation [971/1000]\n",
      "INFO:tensorflow:Evaluation [972/1000]\n",
      "INFO:tensorflow:Evaluation [973/1000]\n",
      "INFO:tensorflow:Evaluation [974/1000]\n",
      "INFO:tensorflow:Evaluation [975/1000]\n",
      "INFO:tensorflow:Evaluation [976/1000]\n",
      "INFO:tensorflow:Evaluation [977/1000]\n",
      "INFO:tensorflow:Evaluation [978/1000]\n",
      "INFO:tensorflow:Evaluation [979/1000]\n",
      "INFO:tensorflow:Evaluation [980/1000]\n",
      "INFO:tensorflow:Evaluation [981/1000]\n",
      "INFO:tensorflow:Evaluation [982/1000]\n",
      "INFO:tensorflow:Evaluation [983/1000]\n",
      "INFO:tensorflow:Evaluation [984/1000]\n",
      "INFO:tensorflow:Evaluation [985/1000]\n",
      "INFO:tensorflow:Evaluation [986/1000]\n",
      "INFO:tensorflow:Evaluation [987/1000]\n",
      "INFO:tensorflow:Evaluation [988/1000]\n",
      "INFO:tensorflow:Evaluation [989/1000]\n",
      "INFO:tensorflow:Evaluation [990/1000]\n",
      "INFO:tensorflow:Evaluation [991/1000]\n",
      "INFO:tensorflow:Evaluation [992/1000]\n",
      "INFO:tensorflow:Evaluation [993/1000]\n",
      "INFO:tensorflow:Evaluation [994/1000]\n",
      "INFO:tensorflow:Evaluation [995/1000]\n",
      "INFO:tensorflow:Evaluation [996/1000]\n",
      "INFO:tensorflow:Evaluation [997/1000]\n",
      "INFO:tensorflow:Evaluation [998/1000]\n",
      "INFO:tensorflow:Evaluation [999/1000]\n",
      "INFO:tensorflow:Evaluation [1000/1000]\n",
      "INFO:tensorflow:Finished evaluation at 2018-04-24-15:24:18\n",
      "INFO:tensorflow:Saving dict for global step 1000: average_loss = 1.08608, global_step = 1000, loss = 8.68865\n"
     ]
    }
   ],
   "source": [
    "train_metrics = estimator.evaluate(input_fn=train_input_func, steps=1000)"
   ]
  },
  {
   "cell_type": "code",
   "execution_count": 79,
   "metadata": {},
   "outputs": [
    {
     "name": "stdout",
     "output_type": "stream",
     "text": [
      "INFO:tensorflow:Starting evaluation at 2018-04-24-15:24:18\n",
      "INFO:tensorflow:Restoring parameters from C:\\Users\\gpipis\\AppData\\Local\\Temp\\tmpjy57y1mr\\model.ckpt-1000\n",
      "INFO:tensorflow:Evaluation [1/1000]\n",
      "INFO:tensorflow:Evaluation [2/1000]\n",
      "INFO:tensorflow:Evaluation [3/1000]\n",
      "INFO:tensorflow:Evaluation [4/1000]\n",
      "INFO:tensorflow:Evaluation [5/1000]\n",
      "INFO:tensorflow:Evaluation [6/1000]\n",
      "INFO:tensorflow:Evaluation [7/1000]\n",
      "INFO:tensorflow:Evaluation [8/1000]\n",
      "INFO:tensorflow:Evaluation [9/1000]\n",
      "INFO:tensorflow:Evaluation [10/1000]\n",
      "INFO:tensorflow:Evaluation [11/1000]\n",
      "INFO:tensorflow:Evaluation [12/1000]\n",
      "INFO:tensorflow:Evaluation [13/1000]\n",
      "INFO:tensorflow:Evaluation [14/1000]\n",
      "INFO:tensorflow:Evaluation [15/1000]\n",
      "INFO:tensorflow:Evaluation [16/1000]\n",
      "INFO:tensorflow:Evaluation [17/1000]\n",
      "INFO:tensorflow:Evaluation [18/1000]\n",
      "INFO:tensorflow:Evaluation [19/1000]\n",
      "INFO:tensorflow:Evaluation [20/1000]\n",
      "INFO:tensorflow:Evaluation [21/1000]\n",
      "INFO:tensorflow:Evaluation [22/1000]\n",
      "INFO:tensorflow:Evaluation [23/1000]\n",
      "INFO:tensorflow:Evaluation [24/1000]\n",
      "INFO:tensorflow:Evaluation [25/1000]\n",
      "INFO:tensorflow:Evaluation [26/1000]\n",
      "INFO:tensorflow:Evaluation [27/1000]\n",
      "INFO:tensorflow:Evaluation [28/1000]\n",
      "INFO:tensorflow:Evaluation [29/1000]\n",
      "INFO:tensorflow:Evaluation [30/1000]\n",
      "INFO:tensorflow:Evaluation [31/1000]\n",
      "INFO:tensorflow:Evaluation [32/1000]\n",
      "INFO:tensorflow:Evaluation [33/1000]\n",
      "INFO:tensorflow:Evaluation [34/1000]\n",
      "INFO:tensorflow:Evaluation [35/1000]\n",
      "INFO:tensorflow:Evaluation [36/1000]\n",
      "INFO:tensorflow:Evaluation [37/1000]\n",
      "INFO:tensorflow:Evaluation [38/1000]\n",
      "INFO:tensorflow:Evaluation [39/1000]\n",
      "INFO:tensorflow:Evaluation [40/1000]\n",
      "INFO:tensorflow:Evaluation [41/1000]\n",
      "INFO:tensorflow:Evaluation [42/1000]\n",
      "INFO:tensorflow:Evaluation [43/1000]\n",
      "INFO:tensorflow:Evaluation [44/1000]\n",
      "INFO:tensorflow:Evaluation [45/1000]\n",
      "INFO:tensorflow:Evaluation [46/1000]\n",
      "INFO:tensorflow:Evaluation [47/1000]\n",
      "INFO:tensorflow:Evaluation [48/1000]\n",
      "INFO:tensorflow:Evaluation [49/1000]\n",
      "INFO:tensorflow:Evaluation [50/1000]\n",
      "INFO:tensorflow:Evaluation [51/1000]\n",
      "INFO:tensorflow:Evaluation [52/1000]\n",
      "INFO:tensorflow:Evaluation [53/1000]\n",
      "INFO:tensorflow:Evaluation [54/1000]\n",
      "INFO:tensorflow:Evaluation [55/1000]\n",
      "INFO:tensorflow:Evaluation [56/1000]\n",
      "INFO:tensorflow:Evaluation [57/1000]\n",
      "INFO:tensorflow:Evaluation [58/1000]\n",
      "INFO:tensorflow:Evaluation [59/1000]\n",
      "INFO:tensorflow:Evaluation [60/1000]\n",
      "INFO:tensorflow:Evaluation [61/1000]\n",
      "INFO:tensorflow:Evaluation [62/1000]\n",
      "INFO:tensorflow:Evaluation [63/1000]\n",
      "INFO:tensorflow:Evaluation [64/1000]\n",
      "INFO:tensorflow:Evaluation [65/1000]\n",
      "INFO:tensorflow:Evaluation [66/1000]\n",
      "INFO:tensorflow:Evaluation [67/1000]\n",
      "INFO:tensorflow:Evaluation [68/1000]\n",
      "INFO:tensorflow:Evaluation [69/1000]\n",
      "INFO:tensorflow:Evaluation [70/1000]\n",
      "INFO:tensorflow:Evaluation [71/1000]\n",
      "INFO:tensorflow:Evaluation [72/1000]\n",
      "INFO:tensorflow:Evaluation [73/1000]\n",
      "INFO:tensorflow:Evaluation [74/1000]\n",
      "INFO:tensorflow:Evaluation [75/1000]\n",
      "INFO:tensorflow:Evaluation [76/1000]\n",
      "INFO:tensorflow:Evaluation [77/1000]\n",
      "INFO:tensorflow:Evaluation [78/1000]\n",
      "INFO:tensorflow:Evaluation [79/1000]\n",
      "INFO:tensorflow:Evaluation [80/1000]\n",
      "INFO:tensorflow:Evaluation [81/1000]\n",
      "INFO:tensorflow:Evaluation [82/1000]\n",
      "INFO:tensorflow:Evaluation [83/1000]\n",
      "INFO:tensorflow:Evaluation [84/1000]\n",
      "INFO:tensorflow:Evaluation [85/1000]\n",
      "INFO:tensorflow:Evaluation [86/1000]\n",
      "INFO:tensorflow:Evaluation [87/1000]\n",
      "INFO:tensorflow:Evaluation [88/1000]\n",
      "INFO:tensorflow:Evaluation [89/1000]\n",
      "INFO:tensorflow:Evaluation [90/1000]\n",
      "INFO:tensorflow:Evaluation [91/1000]\n",
      "INFO:tensorflow:Evaluation [92/1000]\n",
      "INFO:tensorflow:Evaluation [93/1000]\n",
      "INFO:tensorflow:Evaluation [94/1000]\n",
      "INFO:tensorflow:Evaluation [95/1000]\n",
      "INFO:tensorflow:Evaluation [96/1000]\n",
      "INFO:tensorflow:Evaluation [97/1000]\n",
      "INFO:tensorflow:Evaluation [98/1000]\n",
      "INFO:tensorflow:Evaluation [99/1000]\n",
      "INFO:tensorflow:Evaluation [100/1000]\n",
      "INFO:tensorflow:Evaluation [101/1000]\n",
      "INFO:tensorflow:Evaluation [102/1000]\n",
      "INFO:tensorflow:Evaluation [103/1000]\n",
      "INFO:tensorflow:Evaluation [104/1000]\n",
      "INFO:tensorflow:Evaluation [105/1000]\n",
      "INFO:tensorflow:Evaluation [106/1000]\n",
      "INFO:tensorflow:Evaluation [107/1000]\n",
      "INFO:tensorflow:Evaluation [108/1000]\n",
      "INFO:tensorflow:Evaluation [109/1000]\n",
      "INFO:tensorflow:Evaluation [110/1000]\n",
      "INFO:tensorflow:Evaluation [111/1000]\n",
      "INFO:tensorflow:Evaluation [112/1000]\n",
      "INFO:tensorflow:Evaluation [113/1000]\n",
      "INFO:tensorflow:Evaluation [114/1000]\n",
      "INFO:tensorflow:Evaluation [115/1000]\n",
      "INFO:tensorflow:Evaluation [116/1000]\n",
      "INFO:tensorflow:Evaluation [117/1000]\n",
      "INFO:tensorflow:Evaluation [118/1000]\n",
      "INFO:tensorflow:Evaluation [119/1000]\n",
      "INFO:tensorflow:Evaluation [120/1000]\n",
      "INFO:tensorflow:Evaluation [121/1000]\n",
      "INFO:tensorflow:Evaluation [122/1000]\n",
      "INFO:tensorflow:Evaluation [123/1000]\n",
      "INFO:tensorflow:Evaluation [124/1000]\n",
      "INFO:tensorflow:Evaluation [125/1000]\n",
      "INFO:tensorflow:Evaluation [126/1000]\n",
      "INFO:tensorflow:Evaluation [127/1000]\n",
      "INFO:tensorflow:Evaluation [128/1000]\n",
      "INFO:tensorflow:Evaluation [129/1000]\n",
      "INFO:tensorflow:Evaluation [130/1000]\n",
      "INFO:tensorflow:Evaluation [131/1000]\n",
      "INFO:tensorflow:Evaluation [132/1000]\n",
      "INFO:tensorflow:Evaluation [133/1000]\n",
      "INFO:tensorflow:Evaluation [134/1000]\n",
      "INFO:tensorflow:Evaluation [135/1000]\n",
      "INFO:tensorflow:Evaluation [136/1000]\n",
      "INFO:tensorflow:Evaluation [137/1000]\n",
      "INFO:tensorflow:Evaluation [138/1000]\n",
      "INFO:tensorflow:Evaluation [139/1000]\n",
      "INFO:tensorflow:Evaluation [140/1000]\n",
      "INFO:tensorflow:Evaluation [141/1000]\n",
      "INFO:tensorflow:Evaluation [142/1000]\n",
      "INFO:tensorflow:Evaluation [143/1000]\n",
      "INFO:tensorflow:Evaluation [144/1000]\n",
      "INFO:tensorflow:Evaluation [145/1000]\n",
      "INFO:tensorflow:Evaluation [146/1000]\n",
      "INFO:tensorflow:Evaluation [147/1000]\n",
      "INFO:tensorflow:Evaluation [148/1000]\n",
      "INFO:tensorflow:Evaluation [149/1000]\n",
      "INFO:tensorflow:Evaluation [150/1000]\n",
      "INFO:tensorflow:Evaluation [151/1000]\n",
      "INFO:tensorflow:Evaluation [152/1000]\n",
      "INFO:tensorflow:Evaluation [153/1000]\n",
      "INFO:tensorflow:Evaluation [154/1000]\n",
      "INFO:tensorflow:Evaluation [155/1000]\n",
      "INFO:tensorflow:Evaluation [156/1000]\n",
      "INFO:tensorflow:Evaluation [157/1000]\n",
      "INFO:tensorflow:Evaluation [158/1000]\n",
      "INFO:tensorflow:Evaluation [159/1000]\n",
      "INFO:tensorflow:Evaluation [160/1000]\n",
      "INFO:tensorflow:Evaluation [161/1000]\n",
      "INFO:tensorflow:Evaluation [162/1000]\n",
      "INFO:tensorflow:Evaluation [163/1000]\n",
      "INFO:tensorflow:Evaluation [164/1000]\n",
      "INFO:tensorflow:Evaluation [165/1000]\n",
      "INFO:tensorflow:Evaluation [166/1000]\n",
      "INFO:tensorflow:Evaluation [167/1000]\n",
      "INFO:tensorflow:Evaluation [168/1000]\n",
      "INFO:tensorflow:Evaluation [169/1000]\n",
      "INFO:tensorflow:Evaluation [170/1000]\n",
      "INFO:tensorflow:Evaluation [171/1000]\n",
      "INFO:tensorflow:Evaluation [172/1000]\n",
      "INFO:tensorflow:Evaluation [173/1000]\n",
      "INFO:tensorflow:Evaluation [174/1000]\n",
      "INFO:tensorflow:Evaluation [175/1000]\n",
      "INFO:tensorflow:Evaluation [176/1000]\n",
      "INFO:tensorflow:Evaluation [177/1000]\n",
      "INFO:tensorflow:Evaluation [178/1000]\n",
      "INFO:tensorflow:Evaluation [179/1000]\n",
      "INFO:tensorflow:Evaluation [180/1000]\n",
      "INFO:tensorflow:Evaluation [181/1000]\n",
      "INFO:tensorflow:Evaluation [182/1000]\n",
      "INFO:tensorflow:Evaluation [183/1000]\n",
      "INFO:tensorflow:Evaluation [184/1000]\n",
      "INFO:tensorflow:Evaluation [185/1000]\n",
      "INFO:tensorflow:Evaluation [186/1000]\n",
      "INFO:tensorflow:Evaluation [187/1000]\n",
      "INFO:tensorflow:Evaluation [188/1000]\n",
      "INFO:tensorflow:Evaluation [189/1000]\n",
      "INFO:tensorflow:Evaluation [190/1000]\n",
      "INFO:tensorflow:Evaluation [191/1000]\n",
      "INFO:tensorflow:Evaluation [192/1000]\n",
      "INFO:tensorflow:Evaluation [193/1000]\n",
      "INFO:tensorflow:Evaluation [194/1000]\n",
      "INFO:tensorflow:Evaluation [195/1000]\n",
      "INFO:tensorflow:Evaluation [196/1000]\n",
      "INFO:tensorflow:Evaluation [197/1000]\n",
      "INFO:tensorflow:Evaluation [198/1000]\n",
      "INFO:tensorflow:Evaluation [199/1000]\n",
      "INFO:tensorflow:Evaluation [200/1000]\n",
      "INFO:tensorflow:Evaluation [201/1000]\n",
      "INFO:tensorflow:Evaluation [202/1000]\n",
      "INFO:tensorflow:Evaluation [203/1000]\n",
      "INFO:tensorflow:Evaluation [204/1000]\n",
      "INFO:tensorflow:Evaluation [205/1000]\n",
      "INFO:tensorflow:Evaluation [206/1000]\n",
      "INFO:tensorflow:Evaluation [207/1000]\n",
      "INFO:tensorflow:Evaluation [208/1000]\n",
      "INFO:tensorflow:Evaluation [209/1000]\n",
      "INFO:tensorflow:Evaluation [210/1000]\n",
      "INFO:tensorflow:Evaluation [211/1000]\n",
      "INFO:tensorflow:Evaluation [212/1000]\n",
      "INFO:tensorflow:Evaluation [213/1000]\n",
      "INFO:tensorflow:Evaluation [214/1000]\n",
      "INFO:tensorflow:Evaluation [215/1000]\n"
     ]
    },
    {
     "name": "stdout",
     "output_type": "stream",
     "text": [
      "INFO:tensorflow:Evaluation [216/1000]\n",
      "INFO:tensorflow:Evaluation [217/1000]\n",
      "INFO:tensorflow:Evaluation [218/1000]\n",
      "INFO:tensorflow:Evaluation [219/1000]\n",
      "INFO:tensorflow:Evaluation [220/1000]\n",
      "INFO:tensorflow:Evaluation [221/1000]\n",
      "INFO:tensorflow:Evaluation [222/1000]\n",
      "INFO:tensorflow:Evaluation [223/1000]\n",
      "INFO:tensorflow:Evaluation [224/1000]\n",
      "INFO:tensorflow:Evaluation [225/1000]\n",
      "INFO:tensorflow:Evaluation [226/1000]\n",
      "INFO:tensorflow:Evaluation [227/1000]\n",
      "INFO:tensorflow:Evaluation [228/1000]\n",
      "INFO:tensorflow:Evaluation [229/1000]\n",
      "INFO:tensorflow:Evaluation [230/1000]\n",
      "INFO:tensorflow:Evaluation [231/1000]\n",
      "INFO:tensorflow:Evaluation [232/1000]\n",
      "INFO:tensorflow:Evaluation [233/1000]\n",
      "INFO:tensorflow:Evaluation [234/1000]\n",
      "INFO:tensorflow:Evaluation [235/1000]\n",
      "INFO:tensorflow:Evaluation [236/1000]\n",
      "INFO:tensorflow:Evaluation [237/1000]\n",
      "INFO:tensorflow:Evaluation [238/1000]\n",
      "INFO:tensorflow:Evaluation [239/1000]\n",
      "INFO:tensorflow:Evaluation [240/1000]\n",
      "INFO:tensorflow:Evaluation [241/1000]\n",
      "INFO:tensorflow:Evaluation [242/1000]\n",
      "INFO:tensorflow:Evaluation [243/1000]\n",
      "INFO:tensorflow:Evaluation [244/1000]\n",
      "INFO:tensorflow:Evaluation [245/1000]\n",
      "INFO:tensorflow:Evaluation [246/1000]\n",
      "INFO:tensorflow:Evaluation [247/1000]\n",
      "INFO:tensorflow:Evaluation [248/1000]\n",
      "INFO:tensorflow:Evaluation [249/1000]\n",
      "INFO:tensorflow:Evaluation [250/1000]\n",
      "INFO:tensorflow:Evaluation [251/1000]\n",
      "INFO:tensorflow:Evaluation [252/1000]\n",
      "INFO:tensorflow:Evaluation [253/1000]\n",
      "INFO:tensorflow:Evaluation [254/1000]\n",
      "INFO:tensorflow:Evaluation [255/1000]\n",
      "INFO:tensorflow:Evaluation [256/1000]\n",
      "INFO:tensorflow:Evaluation [257/1000]\n",
      "INFO:tensorflow:Evaluation [258/1000]\n",
      "INFO:tensorflow:Evaluation [259/1000]\n",
      "INFO:tensorflow:Evaluation [260/1000]\n",
      "INFO:tensorflow:Evaluation [261/1000]\n",
      "INFO:tensorflow:Evaluation [262/1000]\n",
      "INFO:tensorflow:Evaluation [263/1000]\n",
      "INFO:tensorflow:Evaluation [264/1000]\n",
      "INFO:tensorflow:Evaluation [265/1000]\n",
      "INFO:tensorflow:Evaluation [266/1000]\n",
      "INFO:tensorflow:Evaluation [267/1000]\n",
      "INFO:tensorflow:Evaluation [268/1000]\n",
      "INFO:tensorflow:Evaluation [269/1000]\n",
      "INFO:tensorflow:Evaluation [270/1000]\n",
      "INFO:tensorflow:Evaluation [271/1000]\n",
      "INFO:tensorflow:Evaluation [272/1000]\n",
      "INFO:tensorflow:Evaluation [273/1000]\n",
      "INFO:tensorflow:Evaluation [274/1000]\n",
      "INFO:tensorflow:Evaluation [275/1000]\n",
      "INFO:tensorflow:Evaluation [276/1000]\n",
      "INFO:tensorflow:Evaluation [277/1000]\n",
      "INFO:tensorflow:Evaluation [278/1000]\n",
      "INFO:tensorflow:Evaluation [279/1000]\n",
      "INFO:tensorflow:Evaluation [280/1000]\n",
      "INFO:tensorflow:Evaluation [281/1000]\n",
      "INFO:tensorflow:Evaluation [282/1000]\n",
      "INFO:tensorflow:Evaluation [283/1000]\n",
      "INFO:tensorflow:Evaluation [284/1000]\n",
      "INFO:tensorflow:Evaluation [285/1000]\n",
      "INFO:tensorflow:Evaluation [286/1000]\n",
      "INFO:tensorflow:Evaluation [287/1000]\n",
      "INFO:tensorflow:Evaluation [288/1000]\n",
      "INFO:tensorflow:Evaluation [289/1000]\n",
      "INFO:tensorflow:Evaluation [290/1000]\n",
      "INFO:tensorflow:Evaluation [291/1000]\n",
      "INFO:tensorflow:Evaluation [292/1000]\n",
      "INFO:tensorflow:Evaluation [293/1000]\n",
      "INFO:tensorflow:Evaluation [294/1000]\n",
      "INFO:tensorflow:Evaluation [295/1000]\n",
      "INFO:tensorflow:Evaluation [296/1000]\n",
      "INFO:tensorflow:Evaluation [297/1000]\n",
      "INFO:tensorflow:Evaluation [298/1000]\n",
      "INFO:tensorflow:Evaluation [299/1000]\n",
      "INFO:tensorflow:Evaluation [300/1000]\n",
      "INFO:tensorflow:Evaluation [301/1000]\n",
      "INFO:tensorflow:Evaluation [302/1000]\n",
      "INFO:tensorflow:Evaluation [303/1000]\n",
      "INFO:tensorflow:Evaluation [304/1000]\n",
      "INFO:tensorflow:Evaluation [305/1000]\n",
      "INFO:tensorflow:Evaluation [306/1000]\n",
      "INFO:tensorflow:Evaluation [307/1000]\n",
      "INFO:tensorflow:Evaluation [308/1000]\n",
      "INFO:tensorflow:Evaluation [309/1000]\n",
      "INFO:tensorflow:Evaluation [310/1000]\n",
      "INFO:tensorflow:Evaluation [311/1000]\n",
      "INFO:tensorflow:Evaluation [312/1000]\n",
      "INFO:tensorflow:Evaluation [313/1000]\n",
      "INFO:tensorflow:Evaluation [314/1000]\n",
      "INFO:tensorflow:Evaluation [315/1000]\n",
      "INFO:tensorflow:Evaluation [316/1000]\n",
      "INFO:tensorflow:Evaluation [317/1000]\n",
      "INFO:tensorflow:Evaluation [318/1000]\n",
      "INFO:tensorflow:Evaluation [319/1000]\n",
      "INFO:tensorflow:Evaluation [320/1000]\n",
      "INFO:tensorflow:Evaluation [321/1000]\n",
      "INFO:tensorflow:Evaluation [322/1000]\n",
      "INFO:tensorflow:Evaluation [323/1000]\n",
      "INFO:tensorflow:Evaluation [324/1000]\n",
      "INFO:tensorflow:Evaluation [325/1000]\n",
      "INFO:tensorflow:Evaluation [326/1000]\n",
      "INFO:tensorflow:Evaluation [327/1000]\n",
      "INFO:tensorflow:Evaluation [328/1000]\n",
      "INFO:tensorflow:Evaluation [329/1000]\n",
      "INFO:tensorflow:Evaluation [330/1000]\n",
      "INFO:tensorflow:Evaluation [331/1000]\n",
      "INFO:tensorflow:Evaluation [332/1000]\n",
      "INFO:tensorflow:Evaluation [333/1000]\n",
      "INFO:tensorflow:Evaluation [334/1000]\n",
      "INFO:tensorflow:Evaluation [335/1000]\n",
      "INFO:tensorflow:Evaluation [336/1000]\n",
      "INFO:tensorflow:Evaluation [337/1000]\n",
      "INFO:tensorflow:Evaluation [338/1000]\n",
      "INFO:tensorflow:Evaluation [339/1000]\n",
      "INFO:tensorflow:Evaluation [340/1000]\n",
      "INFO:tensorflow:Evaluation [341/1000]\n",
      "INFO:tensorflow:Evaluation [342/1000]\n",
      "INFO:tensorflow:Evaluation [343/1000]\n",
      "INFO:tensorflow:Evaluation [344/1000]\n",
      "INFO:tensorflow:Evaluation [345/1000]\n",
      "INFO:tensorflow:Evaluation [346/1000]\n",
      "INFO:tensorflow:Evaluation [347/1000]\n",
      "INFO:tensorflow:Evaluation [348/1000]\n",
      "INFO:tensorflow:Evaluation [349/1000]\n",
      "INFO:tensorflow:Evaluation [350/1000]\n",
      "INFO:tensorflow:Evaluation [351/1000]\n",
      "INFO:tensorflow:Evaluation [352/1000]\n",
      "INFO:tensorflow:Evaluation [353/1000]\n",
      "INFO:tensorflow:Evaluation [354/1000]\n",
      "INFO:tensorflow:Evaluation [355/1000]\n",
      "INFO:tensorflow:Evaluation [356/1000]\n",
      "INFO:tensorflow:Evaluation [357/1000]\n",
      "INFO:tensorflow:Evaluation [358/1000]\n",
      "INFO:tensorflow:Evaluation [359/1000]\n",
      "INFO:tensorflow:Evaluation [360/1000]\n",
      "INFO:tensorflow:Evaluation [361/1000]\n",
      "INFO:tensorflow:Evaluation [362/1000]\n",
      "INFO:tensorflow:Evaluation [363/1000]\n",
      "INFO:tensorflow:Evaluation [364/1000]\n",
      "INFO:tensorflow:Evaluation [365/1000]\n",
      "INFO:tensorflow:Evaluation [366/1000]\n",
      "INFO:tensorflow:Evaluation [367/1000]\n",
      "INFO:tensorflow:Evaluation [368/1000]\n",
      "INFO:tensorflow:Evaluation [369/1000]\n",
      "INFO:tensorflow:Evaluation [370/1000]\n",
      "INFO:tensorflow:Evaluation [371/1000]\n",
      "INFO:tensorflow:Evaluation [372/1000]\n",
      "INFO:tensorflow:Evaluation [373/1000]\n",
      "INFO:tensorflow:Evaluation [374/1000]\n",
      "INFO:tensorflow:Evaluation [375/1000]\n",
      "INFO:tensorflow:Evaluation [376/1000]\n",
      "INFO:tensorflow:Evaluation [377/1000]\n",
      "INFO:tensorflow:Evaluation [378/1000]\n",
      "INFO:tensorflow:Evaluation [379/1000]\n",
      "INFO:tensorflow:Evaluation [380/1000]\n",
      "INFO:tensorflow:Evaluation [381/1000]\n",
      "INFO:tensorflow:Evaluation [382/1000]\n",
      "INFO:tensorflow:Evaluation [383/1000]\n",
      "INFO:tensorflow:Evaluation [384/1000]\n",
      "INFO:tensorflow:Evaluation [385/1000]\n",
      "INFO:tensorflow:Evaluation [386/1000]\n",
      "INFO:tensorflow:Evaluation [387/1000]\n",
      "INFO:tensorflow:Evaluation [388/1000]\n",
      "INFO:tensorflow:Evaluation [389/1000]\n",
      "INFO:tensorflow:Evaluation [390/1000]\n",
      "INFO:tensorflow:Evaluation [391/1000]\n",
      "INFO:tensorflow:Evaluation [392/1000]\n",
      "INFO:tensorflow:Evaluation [393/1000]\n",
      "INFO:tensorflow:Evaluation [394/1000]\n",
      "INFO:tensorflow:Evaluation [395/1000]\n",
      "INFO:tensorflow:Evaluation [396/1000]\n",
      "INFO:tensorflow:Evaluation [397/1000]\n",
      "INFO:tensorflow:Evaluation [398/1000]\n",
      "INFO:tensorflow:Evaluation [399/1000]\n",
      "INFO:tensorflow:Evaluation [400/1000]\n",
      "INFO:tensorflow:Evaluation [401/1000]\n",
      "INFO:tensorflow:Evaluation [402/1000]\n",
      "INFO:tensorflow:Evaluation [403/1000]\n",
      "INFO:tensorflow:Evaluation [404/1000]\n",
      "INFO:tensorflow:Evaluation [405/1000]\n",
      "INFO:tensorflow:Evaluation [406/1000]\n",
      "INFO:tensorflow:Evaluation [407/1000]\n",
      "INFO:tensorflow:Evaluation [408/1000]\n",
      "INFO:tensorflow:Evaluation [409/1000]\n",
      "INFO:tensorflow:Evaluation [410/1000]\n",
      "INFO:tensorflow:Evaluation [411/1000]\n",
      "INFO:tensorflow:Evaluation [412/1000]\n",
      "INFO:tensorflow:Evaluation [413/1000]\n",
      "INFO:tensorflow:Evaluation [414/1000]\n",
      "INFO:tensorflow:Evaluation [415/1000]\n",
      "INFO:tensorflow:Evaluation [416/1000]\n",
      "INFO:tensorflow:Evaluation [417/1000]\n",
      "INFO:tensorflow:Evaluation [418/1000]\n",
      "INFO:tensorflow:Evaluation [419/1000]\n",
      "INFO:tensorflow:Evaluation [420/1000]\n",
      "INFO:tensorflow:Evaluation [421/1000]\n",
      "INFO:tensorflow:Evaluation [422/1000]\n",
      "INFO:tensorflow:Evaluation [423/1000]\n",
      "INFO:tensorflow:Evaluation [424/1000]\n",
      "INFO:tensorflow:Evaluation [425/1000]\n",
      "INFO:tensorflow:Evaluation [426/1000]\n",
      "INFO:tensorflow:Evaluation [427/1000]\n",
      "INFO:tensorflow:Evaluation [428/1000]\n",
      "INFO:tensorflow:Evaluation [429/1000]\n",
      "INFO:tensorflow:Evaluation [430/1000]\n",
      "INFO:tensorflow:Evaluation [431/1000]\n"
     ]
    },
    {
     "name": "stdout",
     "output_type": "stream",
     "text": [
      "INFO:tensorflow:Evaluation [432/1000]\n",
      "INFO:tensorflow:Evaluation [433/1000]\n",
      "INFO:tensorflow:Evaluation [434/1000]\n",
      "INFO:tensorflow:Evaluation [435/1000]\n",
      "INFO:tensorflow:Evaluation [436/1000]\n",
      "INFO:tensorflow:Evaluation [437/1000]\n",
      "INFO:tensorflow:Evaluation [438/1000]\n",
      "INFO:tensorflow:Evaluation [439/1000]\n",
      "INFO:tensorflow:Evaluation [440/1000]\n",
      "INFO:tensorflow:Evaluation [441/1000]\n",
      "INFO:tensorflow:Evaluation [442/1000]\n",
      "INFO:tensorflow:Evaluation [443/1000]\n",
      "INFO:tensorflow:Evaluation [444/1000]\n",
      "INFO:tensorflow:Evaluation [445/1000]\n",
      "INFO:tensorflow:Evaluation [446/1000]\n",
      "INFO:tensorflow:Evaluation [447/1000]\n",
      "INFO:tensorflow:Evaluation [448/1000]\n",
      "INFO:tensorflow:Evaluation [449/1000]\n",
      "INFO:tensorflow:Evaluation [450/1000]\n",
      "INFO:tensorflow:Evaluation [451/1000]\n",
      "INFO:tensorflow:Evaluation [452/1000]\n",
      "INFO:tensorflow:Evaluation [453/1000]\n",
      "INFO:tensorflow:Evaluation [454/1000]\n",
      "INFO:tensorflow:Evaluation [455/1000]\n",
      "INFO:tensorflow:Evaluation [456/1000]\n",
      "INFO:tensorflow:Evaluation [457/1000]\n",
      "INFO:tensorflow:Evaluation [458/1000]\n",
      "INFO:tensorflow:Evaluation [459/1000]\n",
      "INFO:tensorflow:Evaluation [460/1000]\n",
      "INFO:tensorflow:Evaluation [461/1000]\n",
      "INFO:tensorflow:Evaluation [462/1000]\n",
      "INFO:tensorflow:Evaluation [463/1000]\n",
      "INFO:tensorflow:Evaluation [464/1000]\n",
      "INFO:tensorflow:Evaluation [465/1000]\n",
      "INFO:tensorflow:Evaluation [466/1000]\n",
      "INFO:tensorflow:Evaluation [467/1000]\n",
      "INFO:tensorflow:Evaluation [468/1000]\n",
      "INFO:tensorflow:Evaluation [469/1000]\n",
      "INFO:tensorflow:Evaluation [470/1000]\n",
      "INFO:tensorflow:Evaluation [471/1000]\n",
      "INFO:tensorflow:Evaluation [472/1000]\n",
      "INFO:tensorflow:Evaluation [473/1000]\n",
      "INFO:tensorflow:Evaluation [474/1000]\n",
      "INFO:tensorflow:Evaluation [475/1000]\n",
      "INFO:tensorflow:Evaluation [476/1000]\n",
      "INFO:tensorflow:Evaluation [477/1000]\n",
      "INFO:tensorflow:Evaluation [478/1000]\n",
      "INFO:tensorflow:Evaluation [479/1000]\n",
      "INFO:tensorflow:Evaluation [480/1000]\n",
      "INFO:tensorflow:Evaluation [481/1000]\n",
      "INFO:tensorflow:Evaluation [482/1000]\n",
      "INFO:tensorflow:Evaluation [483/1000]\n",
      "INFO:tensorflow:Evaluation [484/1000]\n",
      "INFO:tensorflow:Evaluation [485/1000]\n",
      "INFO:tensorflow:Evaluation [486/1000]\n",
      "INFO:tensorflow:Evaluation [487/1000]\n",
      "INFO:tensorflow:Evaluation [488/1000]\n",
      "INFO:tensorflow:Evaluation [489/1000]\n",
      "INFO:tensorflow:Evaluation [490/1000]\n",
      "INFO:tensorflow:Evaluation [491/1000]\n",
      "INFO:tensorflow:Evaluation [492/1000]\n",
      "INFO:tensorflow:Evaluation [493/1000]\n",
      "INFO:tensorflow:Evaluation [494/1000]\n",
      "INFO:tensorflow:Evaluation [495/1000]\n",
      "INFO:tensorflow:Evaluation [496/1000]\n",
      "INFO:tensorflow:Evaluation [497/1000]\n",
      "INFO:tensorflow:Evaluation [498/1000]\n",
      "INFO:tensorflow:Evaluation [499/1000]\n",
      "INFO:tensorflow:Evaluation [500/1000]\n",
      "INFO:tensorflow:Evaluation [501/1000]\n",
      "INFO:tensorflow:Evaluation [502/1000]\n",
      "INFO:tensorflow:Evaluation [503/1000]\n",
      "INFO:tensorflow:Evaluation [504/1000]\n",
      "INFO:tensorflow:Evaluation [505/1000]\n",
      "INFO:tensorflow:Evaluation [506/1000]\n",
      "INFO:tensorflow:Evaluation [507/1000]\n",
      "INFO:tensorflow:Evaluation [508/1000]\n",
      "INFO:tensorflow:Evaluation [509/1000]\n",
      "INFO:tensorflow:Evaluation [510/1000]\n",
      "INFO:tensorflow:Evaluation [511/1000]\n",
      "INFO:tensorflow:Evaluation [512/1000]\n",
      "INFO:tensorflow:Evaluation [513/1000]\n",
      "INFO:tensorflow:Evaluation [514/1000]\n",
      "INFO:tensorflow:Evaluation [515/1000]\n",
      "INFO:tensorflow:Evaluation [516/1000]\n",
      "INFO:tensorflow:Evaluation [517/1000]\n",
      "INFO:tensorflow:Evaluation [518/1000]\n",
      "INFO:tensorflow:Evaluation [519/1000]\n",
      "INFO:tensorflow:Evaluation [520/1000]\n",
      "INFO:tensorflow:Evaluation [521/1000]\n",
      "INFO:tensorflow:Evaluation [522/1000]\n",
      "INFO:tensorflow:Evaluation [523/1000]\n",
      "INFO:tensorflow:Evaluation [524/1000]\n",
      "INFO:tensorflow:Evaluation [525/1000]\n",
      "INFO:tensorflow:Evaluation [526/1000]\n",
      "INFO:tensorflow:Evaluation [527/1000]\n",
      "INFO:tensorflow:Evaluation [528/1000]\n",
      "INFO:tensorflow:Evaluation [529/1000]\n",
      "INFO:tensorflow:Evaluation [530/1000]\n",
      "INFO:tensorflow:Evaluation [531/1000]\n",
      "INFO:tensorflow:Evaluation [532/1000]\n",
      "INFO:tensorflow:Evaluation [533/1000]\n",
      "INFO:tensorflow:Evaluation [534/1000]\n",
      "INFO:tensorflow:Evaluation [535/1000]\n",
      "INFO:tensorflow:Evaluation [536/1000]\n",
      "INFO:tensorflow:Evaluation [537/1000]\n",
      "INFO:tensorflow:Evaluation [538/1000]\n",
      "INFO:tensorflow:Evaluation [539/1000]\n",
      "INFO:tensorflow:Evaluation [540/1000]\n",
      "INFO:tensorflow:Evaluation [541/1000]\n",
      "INFO:tensorflow:Evaluation [542/1000]\n",
      "INFO:tensorflow:Evaluation [543/1000]\n",
      "INFO:tensorflow:Evaluation [544/1000]\n",
      "INFO:tensorflow:Evaluation [545/1000]\n",
      "INFO:tensorflow:Evaluation [546/1000]\n",
      "INFO:tensorflow:Evaluation [547/1000]\n",
      "INFO:tensorflow:Evaluation [548/1000]\n",
      "INFO:tensorflow:Evaluation [549/1000]\n",
      "INFO:tensorflow:Evaluation [550/1000]\n",
      "INFO:tensorflow:Evaluation [551/1000]\n",
      "INFO:tensorflow:Evaluation [552/1000]\n",
      "INFO:tensorflow:Evaluation [553/1000]\n",
      "INFO:tensorflow:Evaluation [554/1000]\n",
      "INFO:tensorflow:Evaluation [555/1000]\n",
      "INFO:tensorflow:Evaluation [556/1000]\n",
      "INFO:tensorflow:Evaluation [557/1000]\n",
      "INFO:tensorflow:Evaluation [558/1000]\n",
      "INFO:tensorflow:Evaluation [559/1000]\n",
      "INFO:tensorflow:Evaluation [560/1000]\n",
      "INFO:tensorflow:Evaluation [561/1000]\n",
      "INFO:tensorflow:Evaluation [562/1000]\n",
      "INFO:tensorflow:Evaluation [563/1000]\n",
      "INFO:tensorflow:Evaluation [564/1000]\n",
      "INFO:tensorflow:Evaluation [565/1000]\n",
      "INFO:tensorflow:Evaluation [566/1000]\n",
      "INFO:tensorflow:Evaluation [567/1000]\n",
      "INFO:tensorflow:Evaluation [568/1000]\n",
      "INFO:tensorflow:Evaluation [569/1000]\n",
      "INFO:tensorflow:Evaluation [570/1000]\n",
      "INFO:tensorflow:Evaluation [571/1000]\n",
      "INFO:tensorflow:Evaluation [572/1000]\n",
      "INFO:tensorflow:Evaluation [573/1000]\n",
      "INFO:tensorflow:Evaluation [574/1000]\n",
      "INFO:tensorflow:Evaluation [575/1000]\n",
      "INFO:tensorflow:Evaluation [576/1000]\n",
      "INFO:tensorflow:Evaluation [577/1000]\n",
      "INFO:tensorflow:Evaluation [578/1000]\n",
      "INFO:tensorflow:Evaluation [579/1000]\n",
      "INFO:tensorflow:Evaluation [580/1000]\n",
      "INFO:tensorflow:Evaluation [581/1000]\n",
      "INFO:tensorflow:Evaluation [582/1000]\n",
      "INFO:tensorflow:Evaluation [583/1000]\n",
      "INFO:tensorflow:Evaluation [584/1000]\n",
      "INFO:tensorflow:Evaluation [585/1000]\n",
      "INFO:tensorflow:Evaluation [586/1000]\n",
      "INFO:tensorflow:Evaluation [587/1000]\n",
      "INFO:tensorflow:Evaluation [588/1000]\n",
      "INFO:tensorflow:Evaluation [589/1000]\n",
      "INFO:tensorflow:Evaluation [590/1000]\n",
      "INFO:tensorflow:Evaluation [591/1000]\n",
      "INFO:tensorflow:Evaluation [592/1000]\n",
      "INFO:tensorflow:Evaluation [593/1000]\n",
      "INFO:tensorflow:Evaluation [594/1000]\n",
      "INFO:tensorflow:Evaluation [595/1000]\n",
      "INFO:tensorflow:Evaluation [596/1000]\n",
      "INFO:tensorflow:Evaluation [597/1000]\n",
      "INFO:tensorflow:Evaluation [598/1000]\n",
      "INFO:tensorflow:Evaluation [599/1000]\n",
      "INFO:tensorflow:Evaluation [600/1000]\n",
      "INFO:tensorflow:Evaluation [601/1000]\n",
      "INFO:tensorflow:Evaluation [602/1000]\n",
      "INFO:tensorflow:Evaluation [603/1000]\n",
      "INFO:tensorflow:Evaluation [604/1000]\n",
      "INFO:tensorflow:Evaluation [605/1000]\n",
      "INFO:tensorflow:Evaluation [606/1000]\n",
      "INFO:tensorflow:Evaluation [607/1000]\n",
      "INFO:tensorflow:Evaluation [608/1000]\n",
      "INFO:tensorflow:Evaluation [609/1000]\n",
      "INFO:tensorflow:Evaluation [610/1000]\n",
      "INFO:tensorflow:Evaluation [611/1000]\n",
      "INFO:tensorflow:Evaluation [612/1000]\n",
      "INFO:tensorflow:Evaluation [613/1000]\n",
      "INFO:tensorflow:Evaluation [614/1000]\n",
      "INFO:tensorflow:Evaluation [615/1000]\n",
      "INFO:tensorflow:Evaluation [616/1000]\n",
      "INFO:tensorflow:Evaluation [617/1000]\n",
      "INFO:tensorflow:Evaluation [618/1000]\n",
      "INFO:tensorflow:Evaluation [619/1000]\n",
      "INFO:tensorflow:Evaluation [620/1000]\n",
      "INFO:tensorflow:Evaluation [621/1000]\n",
      "INFO:tensorflow:Evaluation [622/1000]\n",
      "INFO:tensorflow:Evaluation [623/1000]\n",
      "INFO:tensorflow:Evaluation [624/1000]\n",
      "INFO:tensorflow:Evaluation [625/1000]\n",
      "INFO:tensorflow:Evaluation [626/1000]\n",
      "INFO:tensorflow:Evaluation [627/1000]\n",
      "INFO:tensorflow:Evaluation [628/1000]\n",
      "INFO:tensorflow:Evaluation [629/1000]\n",
      "INFO:tensorflow:Evaluation [630/1000]\n",
      "INFO:tensorflow:Evaluation [631/1000]\n",
      "INFO:tensorflow:Evaluation [632/1000]\n",
      "INFO:tensorflow:Evaluation [633/1000]\n",
      "INFO:tensorflow:Evaluation [634/1000]\n",
      "INFO:tensorflow:Evaluation [635/1000]\n",
      "INFO:tensorflow:Evaluation [636/1000]\n",
      "INFO:tensorflow:Evaluation [637/1000]\n",
      "INFO:tensorflow:Evaluation [638/1000]\n",
      "INFO:tensorflow:Evaluation [639/1000]\n",
      "INFO:tensorflow:Evaluation [640/1000]\n",
      "INFO:tensorflow:Evaluation [641/1000]\n",
      "INFO:tensorflow:Evaluation [642/1000]\n",
      "INFO:tensorflow:Evaluation [643/1000]\n",
      "INFO:tensorflow:Evaluation [644/1000]\n",
      "INFO:tensorflow:Evaluation [645/1000]\n",
      "INFO:tensorflow:Evaluation [646/1000]\n",
      "INFO:tensorflow:Evaluation [647/1000]\n"
     ]
    },
    {
     "name": "stdout",
     "output_type": "stream",
     "text": [
      "INFO:tensorflow:Evaluation [648/1000]\n",
      "INFO:tensorflow:Evaluation [649/1000]\n",
      "INFO:tensorflow:Evaluation [650/1000]\n",
      "INFO:tensorflow:Evaluation [651/1000]\n",
      "INFO:tensorflow:Evaluation [652/1000]\n",
      "INFO:tensorflow:Evaluation [653/1000]\n",
      "INFO:tensorflow:Evaluation [654/1000]\n",
      "INFO:tensorflow:Evaluation [655/1000]\n",
      "INFO:tensorflow:Evaluation [656/1000]\n",
      "INFO:tensorflow:Evaluation [657/1000]\n",
      "INFO:tensorflow:Evaluation [658/1000]\n",
      "INFO:tensorflow:Evaluation [659/1000]\n",
      "INFO:tensorflow:Evaluation [660/1000]\n",
      "INFO:tensorflow:Evaluation [661/1000]\n",
      "INFO:tensorflow:Evaluation [662/1000]\n",
      "INFO:tensorflow:Evaluation [663/1000]\n",
      "INFO:tensorflow:Evaluation [664/1000]\n",
      "INFO:tensorflow:Evaluation [665/1000]\n",
      "INFO:tensorflow:Evaluation [666/1000]\n",
      "INFO:tensorflow:Evaluation [667/1000]\n",
      "INFO:tensorflow:Evaluation [668/1000]\n",
      "INFO:tensorflow:Evaluation [669/1000]\n",
      "INFO:tensorflow:Evaluation [670/1000]\n",
      "INFO:tensorflow:Evaluation [671/1000]\n",
      "INFO:tensorflow:Evaluation [672/1000]\n",
      "INFO:tensorflow:Evaluation [673/1000]\n",
      "INFO:tensorflow:Evaluation [674/1000]\n",
      "INFO:tensorflow:Evaluation [675/1000]\n",
      "INFO:tensorflow:Evaluation [676/1000]\n",
      "INFO:tensorflow:Evaluation [677/1000]\n",
      "INFO:tensorflow:Evaluation [678/1000]\n",
      "INFO:tensorflow:Evaluation [679/1000]\n",
      "INFO:tensorflow:Evaluation [680/1000]\n",
      "INFO:tensorflow:Evaluation [681/1000]\n",
      "INFO:tensorflow:Evaluation [682/1000]\n",
      "INFO:tensorflow:Evaluation [683/1000]\n",
      "INFO:tensorflow:Evaluation [684/1000]\n",
      "INFO:tensorflow:Evaluation [685/1000]\n",
      "INFO:tensorflow:Evaluation [686/1000]\n",
      "INFO:tensorflow:Evaluation [687/1000]\n",
      "INFO:tensorflow:Evaluation [688/1000]\n",
      "INFO:tensorflow:Evaluation [689/1000]\n",
      "INFO:tensorflow:Evaluation [690/1000]\n",
      "INFO:tensorflow:Evaluation [691/1000]\n",
      "INFO:tensorflow:Evaluation [692/1000]\n",
      "INFO:tensorflow:Evaluation [693/1000]\n",
      "INFO:tensorflow:Evaluation [694/1000]\n",
      "INFO:tensorflow:Evaluation [695/1000]\n",
      "INFO:tensorflow:Evaluation [696/1000]\n",
      "INFO:tensorflow:Evaluation [697/1000]\n",
      "INFO:tensorflow:Evaluation [698/1000]\n",
      "INFO:tensorflow:Evaluation [699/1000]\n",
      "INFO:tensorflow:Evaluation [700/1000]\n",
      "INFO:tensorflow:Evaluation [701/1000]\n",
      "INFO:tensorflow:Evaluation [702/1000]\n",
      "INFO:tensorflow:Evaluation [703/1000]\n",
      "INFO:tensorflow:Evaluation [704/1000]\n",
      "INFO:tensorflow:Evaluation [705/1000]\n",
      "INFO:tensorflow:Evaluation [706/1000]\n",
      "INFO:tensorflow:Evaluation [707/1000]\n",
      "INFO:tensorflow:Evaluation [708/1000]\n",
      "INFO:tensorflow:Evaluation [709/1000]\n",
      "INFO:tensorflow:Evaluation [710/1000]\n",
      "INFO:tensorflow:Evaluation [711/1000]\n",
      "INFO:tensorflow:Evaluation [712/1000]\n",
      "INFO:tensorflow:Evaluation [713/1000]\n",
      "INFO:tensorflow:Evaluation [714/1000]\n",
      "INFO:tensorflow:Evaluation [715/1000]\n",
      "INFO:tensorflow:Evaluation [716/1000]\n",
      "INFO:tensorflow:Evaluation [717/1000]\n",
      "INFO:tensorflow:Evaluation [718/1000]\n",
      "INFO:tensorflow:Evaluation [719/1000]\n",
      "INFO:tensorflow:Evaluation [720/1000]\n",
      "INFO:tensorflow:Evaluation [721/1000]\n",
      "INFO:tensorflow:Evaluation [722/1000]\n",
      "INFO:tensorflow:Evaluation [723/1000]\n",
      "INFO:tensorflow:Evaluation [724/1000]\n",
      "INFO:tensorflow:Evaluation [725/1000]\n",
      "INFO:tensorflow:Evaluation [726/1000]\n",
      "INFO:tensorflow:Evaluation [727/1000]\n",
      "INFO:tensorflow:Evaluation [728/1000]\n",
      "INFO:tensorflow:Evaluation [729/1000]\n",
      "INFO:tensorflow:Evaluation [730/1000]\n",
      "INFO:tensorflow:Evaluation [731/1000]\n",
      "INFO:tensorflow:Evaluation [732/1000]\n",
      "INFO:tensorflow:Evaluation [733/1000]\n",
      "INFO:tensorflow:Evaluation [734/1000]\n",
      "INFO:tensorflow:Evaluation [735/1000]\n",
      "INFO:tensorflow:Evaluation [736/1000]\n",
      "INFO:tensorflow:Evaluation [737/1000]\n",
      "INFO:tensorflow:Evaluation [738/1000]\n",
      "INFO:tensorflow:Evaluation [739/1000]\n",
      "INFO:tensorflow:Evaluation [740/1000]\n",
      "INFO:tensorflow:Evaluation [741/1000]\n",
      "INFO:tensorflow:Evaluation [742/1000]\n",
      "INFO:tensorflow:Evaluation [743/1000]\n",
      "INFO:tensorflow:Evaluation [744/1000]\n",
      "INFO:tensorflow:Evaluation [745/1000]\n",
      "INFO:tensorflow:Evaluation [746/1000]\n",
      "INFO:tensorflow:Evaluation [747/1000]\n",
      "INFO:tensorflow:Evaluation [748/1000]\n",
      "INFO:tensorflow:Evaluation [749/1000]\n",
      "INFO:tensorflow:Evaluation [750/1000]\n",
      "INFO:tensorflow:Evaluation [751/1000]\n",
      "INFO:tensorflow:Evaluation [752/1000]\n",
      "INFO:tensorflow:Evaluation [753/1000]\n",
      "INFO:tensorflow:Evaluation [754/1000]\n",
      "INFO:tensorflow:Evaluation [755/1000]\n",
      "INFO:tensorflow:Evaluation [756/1000]\n",
      "INFO:tensorflow:Evaluation [757/1000]\n",
      "INFO:tensorflow:Evaluation [758/1000]\n",
      "INFO:tensorflow:Evaluation [759/1000]\n",
      "INFO:tensorflow:Evaluation [760/1000]\n",
      "INFO:tensorflow:Evaluation [761/1000]\n",
      "INFO:tensorflow:Evaluation [762/1000]\n",
      "INFO:tensorflow:Evaluation [763/1000]\n",
      "INFO:tensorflow:Evaluation [764/1000]\n",
      "INFO:tensorflow:Evaluation [765/1000]\n",
      "INFO:tensorflow:Evaluation [766/1000]\n",
      "INFO:tensorflow:Evaluation [767/1000]\n",
      "INFO:tensorflow:Evaluation [768/1000]\n",
      "INFO:tensorflow:Evaluation [769/1000]\n",
      "INFO:tensorflow:Evaluation [770/1000]\n",
      "INFO:tensorflow:Evaluation [771/1000]\n",
      "INFO:tensorflow:Evaluation [772/1000]\n",
      "INFO:tensorflow:Evaluation [773/1000]\n",
      "INFO:tensorflow:Evaluation [774/1000]\n",
      "INFO:tensorflow:Evaluation [775/1000]\n",
      "INFO:tensorflow:Evaluation [776/1000]\n",
      "INFO:tensorflow:Evaluation [777/1000]\n",
      "INFO:tensorflow:Evaluation [778/1000]\n",
      "INFO:tensorflow:Evaluation [779/1000]\n",
      "INFO:tensorflow:Evaluation [780/1000]\n",
      "INFO:tensorflow:Evaluation [781/1000]\n",
      "INFO:tensorflow:Evaluation [782/1000]\n",
      "INFO:tensorflow:Evaluation [783/1000]\n",
      "INFO:tensorflow:Evaluation [784/1000]\n",
      "INFO:tensorflow:Evaluation [785/1000]\n",
      "INFO:tensorflow:Evaluation [786/1000]\n",
      "INFO:tensorflow:Evaluation [787/1000]\n",
      "INFO:tensorflow:Evaluation [788/1000]\n",
      "INFO:tensorflow:Evaluation [789/1000]\n",
      "INFO:tensorflow:Evaluation [790/1000]\n",
      "INFO:tensorflow:Evaluation [791/1000]\n",
      "INFO:tensorflow:Evaluation [792/1000]\n",
      "INFO:tensorflow:Evaluation [793/1000]\n",
      "INFO:tensorflow:Evaluation [794/1000]\n",
      "INFO:tensorflow:Evaluation [795/1000]\n",
      "INFO:tensorflow:Evaluation [796/1000]\n",
      "INFO:tensorflow:Evaluation [797/1000]\n",
      "INFO:tensorflow:Evaluation [798/1000]\n",
      "INFO:tensorflow:Evaluation [799/1000]\n",
      "INFO:tensorflow:Evaluation [800/1000]\n",
      "INFO:tensorflow:Evaluation [801/1000]\n",
      "INFO:tensorflow:Evaluation [802/1000]\n",
      "INFO:tensorflow:Evaluation [803/1000]\n",
      "INFO:tensorflow:Evaluation [804/1000]\n",
      "INFO:tensorflow:Evaluation [805/1000]\n",
      "INFO:tensorflow:Evaluation [806/1000]\n",
      "INFO:tensorflow:Evaluation [807/1000]\n",
      "INFO:tensorflow:Evaluation [808/1000]\n",
      "INFO:tensorflow:Evaluation [809/1000]\n",
      "INFO:tensorflow:Evaluation [810/1000]\n",
      "INFO:tensorflow:Evaluation [811/1000]\n",
      "INFO:tensorflow:Evaluation [812/1000]\n",
      "INFO:tensorflow:Evaluation [813/1000]\n",
      "INFO:tensorflow:Evaluation [814/1000]\n",
      "INFO:tensorflow:Evaluation [815/1000]\n",
      "INFO:tensorflow:Evaluation [816/1000]\n",
      "INFO:tensorflow:Evaluation [817/1000]\n",
      "INFO:tensorflow:Evaluation [818/1000]\n",
      "INFO:tensorflow:Evaluation [819/1000]\n",
      "INFO:tensorflow:Evaluation [820/1000]\n",
      "INFO:tensorflow:Evaluation [821/1000]\n",
      "INFO:tensorflow:Evaluation [822/1000]\n",
      "INFO:tensorflow:Evaluation [823/1000]\n",
      "INFO:tensorflow:Evaluation [824/1000]\n",
      "INFO:tensorflow:Evaluation [825/1000]\n",
      "INFO:tensorflow:Evaluation [826/1000]\n",
      "INFO:tensorflow:Evaluation [827/1000]\n",
      "INFO:tensorflow:Evaluation [828/1000]\n",
      "INFO:tensorflow:Evaluation [829/1000]\n",
      "INFO:tensorflow:Evaluation [830/1000]\n",
      "INFO:tensorflow:Evaluation [831/1000]\n",
      "INFO:tensorflow:Evaluation [832/1000]\n",
      "INFO:tensorflow:Evaluation [833/1000]\n",
      "INFO:tensorflow:Evaluation [834/1000]\n",
      "INFO:tensorflow:Evaluation [835/1000]\n",
      "INFO:tensorflow:Evaluation [836/1000]\n",
      "INFO:tensorflow:Evaluation [837/1000]\n",
      "INFO:tensorflow:Evaluation [838/1000]\n",
      "INFO:tensorflow:Evaluation [839/1000]\n",
      "INFO:tensorflow:Evaluation [840/1000]\n",
      "INFO:tensorflow:Evaluation [841/1000]\n",
      "INFO:tensorflow:Evaluation [842/1000]\n",
      "INFO:tensorflow:Evaluation [843/1000]\n",
      "INFO:tensorflow:Evaluation [844/1000]\n",
      "INFO:tensorflow:Evaluation [845/1000]\n",
      "INFO:tensorflow:Evaluation [846/1000]\n",
      "INFO:tensorflow:Evaluation [847/1000]\n",
      "INFO:tensorflow:Evaluation [848/1000]\n",
      "INFO:tensorflow:Evaluation [849/1000]\n",
      "INFO:tensorflow:Evaluation [850/1000]\n",
      "INFO:tensorflow:Evaluation [851/1000]\n",
      "INFO:tensorflow:Evaluation [852/1000]\n",
      "INFO:tensorflow:Evaluation [853/1000]\n",
      "INFO:tensorflow:Evaluation [854/1000]\n",
      "INFO:tensorflow:Evaluation [855/1000]\n",
      "INFO:tensorflow:Evaluation [856/1000]\n",
      "INFO:tensorflow:Evaluation [857/1000]\n",
      "INFO:tensorflow:Evaluation [858/1000]\n",
      "INFO:tensorflow:Evaluation [859/1000]\n",
      "INFO:tensorflow:Evaluation [860/1000]\n",
      "INFO:tensorflow:Evaluation [861/1000]\n",
      "INFO:tensorflow:Evaluation [862/1000]\n"
     ]
    },
    {
     "name": "stdout",
     "output_type": "stream",
     "text": [
      "INFO:tensorflow:Evaluation [863/1000]\n",
      "INFO:tensorflow:Evaluation [864/1000]\n",
      "INFO:tensorflow:Evaluation [865/1000]\n",
      "INFO:tensorflow:Evaluation [866/1000]\n",
      "INFO:tensorflow:Evaluation [867/1000]\n",
      "INFO:tensorflow:Evaluation [868/1000]\n",
      "INFO:tensorflow:Evaluation [869/1000]\n",
      "INFO:tensorflow:Evaluation [870/1000]\n",
      "INFO:tensorflow:Evaluation [871/1000]\n",
      "INFO:tensorflow:Evaluation [872/1000]\n",
      "INFO:tensorflow:Evaluation [873/1000]\n",
      "INFO:tensorflow:Evaluation [874/1000]\n",
      "INFO:tensorflow:Evaluation [875/1000]\n",
      "INFO:tensorflow:Evaluation [876/1000]\n",
      "INFO:tensorflow:Evaluation [877/1000]\n",
      "INFO:tensorflow:Evaluation [878/1000]\n",
      "INFO:tensorflow:Evaluation [879/1000]\n",
      "INFO:tensorflow:Evaluation [880/1000]\n",
      "INFO:tensorflow:Evaluation [881/1000]\n",
      "INFO:tensorflow:Evaluation [882/1000]\n",
      "INFO:tensorflow:Evaluation [883/1000]\n",
      "INFO:tensorflow:Evaluation [884/1000]\n",
      "INFO:tensorflow:Evaluation [885/1000]\n",
      "INFO:tensorflow:Evaluation [886/1000]\n",
      "INFO:tensorflow:Evaluation [887/1000]\n",
      "INFO:tensorflow:Evaluation [888/1000]\n",
      "INFO:tensorflow:Evaluation [889/1000]\n",
      "INFO:tensorflow:Evaluation [890/1000]\n",
      "INFO:tensorflow:Evaluation [891/1000]\n",
      "INFO:tensorflow:Evaluation [892/1000]\n",
      "INFO:tensorflow:Evaluation [893/1000]\n",
      "INFO:tensorflow:Evaluation [894/1000]\n",
      "INFO:tensorflow:Evaluation [895/1000]\n",
      "INFO:tensorflow:Evaluation [896/1000]\n",
      "INFO:tensorflow:Evaluation [897/1000]\n",
      "INFO:tensorflow:Evaluation [898/1000]\n",
      "INFO:tensorflow:Evaluation [899/1000]\n",
      "INFO:tensorflow:Evaluation [900/1000]\n",
      "INFO:tensorflow:Evaluation [901/1000]\n",
      "INFO:tensorflow:Evaluation [902/1000]\n",
      "INFO:tensorflow:Evaluation [903/1000]\n",
      "INFO:tensorflow:Evaluation [904/1000]\n",
      "INFO:tensorflow:Evaluation [905/1000]\n",
      "INFO:tensorflow:Evaluation [906/1000]\n",
      "INFO:tensorflow:Evaluation [907/1000]\n",
      "INFO:tensorflow:Evaluation [908/1000]\n",
      "INFO:tensorflow:Evaluation [909/1000]\n",
      "INFO:tensorflow:Evaluation [910/1000]\n",
      "INFO:tensorflow:Evaluation [911/1000]\n",
      "INFO:tensorflow:Evaluation [912/1000]\n",
      "INFO:tensorflow:Evaluation [913/1000]\n",
      "INFO:tensorflow:Evaluation [914/1000]\n",
      "INFO:tensorflow:Evaluation [915/1000]\n",
      "INFO:tensorflow:Evaluation [916/1000]\n",
      "INFO:tensorflow:Evaluation [917/1000]\n",
      "INFO:tensorflow:Evaluation [918/1000]\n",
      "INFO:tensorflow:Evaluation [919/1000]\n",
      "INFO:tensorflow:Evaluation [920/1000]\n",
      "INFO:tensorflow:Evaluation [921/1000]\n",
      "INFO:tensorflow:Evaluation [922/1000]\n",
      "INFO:tensorflow:Evaluation [923/1000]\n",
      "INFO:tensorflow:Evaluation [924/1000]\n",
      "INFO:tensorflow:Evaluation [925/1000]\n",
      "INFO:tensorflow:Evaluation [926/1000]\n",
      "INFO:tensorflow:Evaluation [927/1000]\n",
      "INFO:tensorflow:Evaluation [928/1000]\n",
      "INFO:tensorflow:Evaluation [929/1000]\n",
      "INFO:tensorflow:Evaluation [930/1000]\n",
      "INFO:tensorflow:Evaluation [931/1000]\n",
      "INFO:tensorflow:Evaluation [932/1000]\n",
      "INFO:tensorflow:Evaluation [933/1000]\n",
      "INFO:tensorflow:Evaluation [934/1000]\n",
      "INFO:tensorflow:Evaluation [935/1000]\n",
      "INFO:tensorflow:Evaluation [936/1000]\n",
      "INFO:tensorflow:Evaluation [937/1000]\n",
      "INFO:tensorflow:Evaluation [938/1000]\n",
      "INFO:tensorflow:Evaluation [939/1000]\n",
      "INFO:tensorflow:Evaluation [940/1000]\n",
      "INFO:tensorflow:Evaluation [941/1000]\n",
      "INFO:tensorflow:Evaluation [942/1000]\n",
      "INFO:tensorflow:Evaluation [943/1000]\n",
      "INFO:tensorflow:Evaluation [944/1000]\n",
      "INFO:tensorflow:Evaluation [945/1000]\n",
      "INFO:tensorflow:Evaluation [946/1000]\n",
      "INFO:tensorflow:Evaluation [947/1000]\n",
      "INFO:tensorflow:Evaluation [948/1000]\n",
      "INFO:tensorflow:Evaluation [949/1000]\n",
      "INFO:tensorflow:Evaluation [950/1000]\n",
      "INFO:tensorflow:Evaluation [951/1000]\n",
      "INFO:tensorflow:Evaluation [952/1000]\n",
      "INFO:tensorflow:Evaluation [953/1000]\n",
      "INFO:tensorflow:Evaluation [954/1000]\n",
      "INFO:tensorflow:Evaluation [955/1000]\n",
      "INFO:tensorflow:Evaluation [956/1000]\n",
      "INFO:tensorflow:Evaluation [957/1000]\n",
      "INFO:tensorflow:Evaluation [958/1000]\n",
      "INFO:tensorflow:Evaluation [959/1000]\n",
      "INFO:tensorflow:Evaluation [960/1000]\n",
      "INFO:tensorflow:Evaluation [961/1000]\n",
      "INFO:tensorflow:Evaluation [962/1000]\n",
      "INFO:tensorflow:Evaluation [963/1000]\n",
      "INFO:tensorflow:Evaluation [964/1000]\n",
      "INFO:tensorflow:Evaluation [965/1000]\n",
      "INFO:tensorflow:Evaluation [966/1000]\n",
      "INFO:tensorflow:Evaluation [967/1000]\n",
      "INFO:tensorflow:Evaluation [968/1000]\n",
      "INFO:tensorflow:Evaluation [969/1000]\n",
      "INFO:tensorflow:Evaluation [970/1000]\n",
      "INFO:tensorflow:Evaluation [971/1000]\n",
      "INFO:tensorflow:Evaluation [972/1000]\n",
      "INFO:tensorflow:Evaluation [973/1000]\n",
      "INFO:tensorflow:Evaluation [974/1000]\n",
      "INFO:tensorflow:Evaluation [975/1000]\n",
      "INFO:tensorflow:Evaluation [976/1000]\n",
      "INFO:tensorflow:Evaluation [977/1000]\n",
      "INFO:tensorflow:Evaluation [978/1000]\n",
      "INFO:tensorflow:Evaluation [979/1000]\n",
      "INFO:tensorflow:Evaluation [980/1000]\n",
      "INFO:tensorflow:Evaluation [981/1000]\n",
      "INFO:tensorflow:Evaluation [982/1000]\n",
      "INFO:tensorflow:Evaluation [983/1000]\n",
      "INFO:tensorflow:Evaluation [984/1000]\n",
      "INFO:tensorflow:Evaluation [985/1000]\n",
      "INFO:tensorflow:Evaluation [986/1000]\n",
      "INFO:tensorflow:Evaluation [987/1000]\n",
      "INFO:tensorflow:Evaluation [988/1000]\n",
      "INFO:tensorflow:Evaluation [989/1000]\n",
      "INFO:tensorflow:Evaluation [990/1000]\n",
      "INFO:tensorflow:Evaluation [991/1000]\n",
      "INFO:tensorflow:Evaluation [992/1000]\n",
      "INFO:tensorflow:Evaluation [993/1000]\n",
      "INFO:tensorflow:Evaluation [994/1000]\n",
      "INFO:tensorflow:Evaluation [995/1000]\n",
      "INFO:tensorflow:Evaluation [996/1000]\n",
      "INFO:tensorflow:Evaluation [997/1000]\n",
      "INFO:tensorflow:Evaluation [998/1000]\n",
      "INFO:tensorflow:Evaluation [999/1000]\n",
      "INFO:tensorflow:Evaluation [1000/1000]\n",
      "INFO:tensorflow:Finished evaluation at 2018-04-24-15:24:24\n",
      "INFO:tensorflow:Saving dict for global step 1000: average_loss = 1.08302, global_step = 1000, loss = 8.66417\n"
     ]
    }
   ],
   "source": [
    "eval_metrics = estimator.evaluate(input_fn=eval_input_func, steps=1000)"
   ]
  },
  {
   "cell_type": "code",
   "execution_count": 80,
   "metadata": {},
   "outputs": [
    {
     "name": "stdout",
     "output_type": "stream",
     "text": [
      "TRAINING DATA METRICS\n",
      "{'average_loss': 1.0860816, 'loss': 8.688653, 'global_step': 1000}\n"
     ]
    }
   ],
   "source": [
    "print('TRAINING DATA METRICS')\n",
    "print(train_metrics)"
   ]
  },
  {
   "cell_type": "code",
   "execution_count": 81,
   "metadata": {},
   "outputs": [
    {
     "name": "stdout",
     "output_type": "stream",
     "text": [
      "EVAL DATA METRICS\n",
      "{'average_loss': 1.0830207, 'loss': 8.6641655, 'global_step': 1000}\n"
     ]
    }
   ],
   "source": [
    "print('EVAL DATA METRICS')\n",
    "print(eval_metrics)"
   ]
  },
  {
   "cell_type": "code",
   "execution_count": 82,
   "metadata": {
    "collapsed": true
   },
   "outputs": [],
   "source": [
    "# Predict new values\n",
    "\n",
    "brand_new_data = np.linspace(0,10,10)\n",
    "\n",
    "input_fn_predict = tf.estimator.inputs.numpy_input_fn({'x':brand_new_data}, shuffle=False)"
   ]
  },
  {
   "cell_type": "code",
   "execution_count": 83,
   "metadata": {},
   "outputs": [
    {
     "name": "stdout",
     "output_type": "stream",
     "text": [
      "INFO:tensorflow:Restoring parameters from C:\\Users\\gpipis\\AppData\\Local\\Temp\\tmpjy57y1mr\\model.ckpt-1000\n"
     ]
    },
    {
     "data": {
      "text/plain": [
       "[{'predictions': array([ 4.42434406], dtype=float32)},\n",
       " {'predictions': array([ 5.07194328], dtype=float32)},\n",
       " {'predictions': array([ 5.71954298], dtype=float32)},\n",
       " {'predictions': array([ 6.3671422], dtype=float32)},\n",
       " {'predictions': array([ 7.0147419], dtype=float32)},\n",
       " {'predictions': array([ 7.66234112], dtype=float32)},\n",
       " {'predictions': array([ 8.30994034], dtype=float32)},\n",
       " {'predictions': array([ 8.95753956], dtype=float32)},\n",
       " {'predictions': array([ 9.60513878], dtype=float32)},\n",
       " {'predictions': array([ 10.25273895], dtype=float32)}]"
      ]
     },
     "execution_count": 83,
     "metadata": {},
     "output_type": "execute_result"
    }
   ],
   "source": [
    "list(estimator.predict(input_fn=input_fn_predict))"
   ]
  },
  {
   "cell_type": "code",
   "execution_count": 84,
   "metadata": {},
   "outputs": [
    {
     "name": "stdout",
     "output_type": "stream",
     "text": [
      "INFO:tensorflow:Restoring parameters from C:\\Users\\gpipis\\AppData\\Local\\Temp\\tmpjy57y1mr\\model.ckpt-1000\n"
     ]
    }
   ],
   "source": [
    "predictions = []\n",
    "\n",
    "for pred in estimator.predict(input_fn=input_fn_predict):\n",
    "    predictions.append(pred['predictions'])"
   ]
  },
  {
   "cell_type": "code",
   "execution_count": 85,
   "metadata": {},
   "outputs": [
    {
     "data": {
      "text/plain": [
       "[array([ 4.42434406], dtype=float32),\n",
       " array([ 5.07194328], dtype=float32),\n",
       " array([ 5.71954298], dtype=float32),\n",
       " array([ 6.3671422], dtype=float32),\n",
       " array([ 7.0147419], dtype=float32),\n",
       " array([ 7.66234112], dtype=float32),\n",
       " array([ 8.30994034], dtype=float32),\n",
       " array([ 8.95753956], dtype=float32),\n",
       " array([ 9.60513878], dtype=float32),\n",
       " array([ 10.25273895], dtype=float32)]"
      ]
     },
     "execution_count": 85,
     "metadata": {},
     "output_type": "execute_result"
    }
   ],
   "source": [
    "predictions"
   ]
  },
  {
   "cell_type": "code",
   "execution_count": 86,
   "metadata": {},
   "outputs": [
    {
     "data": {
      "text/plain": [
       "[<matplotlib.lines.Line2D at 0x141e0c50>]"
      ]
     },
     "execution_count": 86,
     "metadata": {},
     "output_type": "execute_result"
    },
    {
     "data": {
      "image/png": "[encoded data removed]",
      "text/plain": [
       "<matplotlib.figure.Figure at 0x141e0a58>"
      ]
     },
     "metadata": {},
     "output_type": "display_data"
    }
   ],
   "source": [
    "my_data.sample(n=250).plot(kind='scatter', x='X Data', y='Y')\n",
    "plt.plot(brand_new_data, predictions, \"r*\")"
   ]
  },
  {
   "cell_type": "markdown",
   "metadata": {
    "collapsed": true
   },
   "source": [
    "### Classification Example"
   ]
  },
  {
   "cell_type": "code",
   "execution_count": 87,
   "metadata": {
    "collapsed": true
   },
   "outputs": [],
   "source": [
    "import pandas as pd"
   ]
  },
  {
   "cell_type": "code",
   "execution_count": 103,
   "metadata": {
    "collapsed": true
   },
   "outputs": [],
   "source": [
    "diabetes = pd.read_csv('02-TensorFlow-Basics\\pima-indians-diabetes.csv')"
   ]
  },
  {
   "cell_type": "code",
   "execution_count": 104,
   "metadata": {},
   "outputs": [
    {
     "data": {
      "text/html": [
       "<div>\n",
       "<style>\n",
       "    .dataframe thead tr:only-child th {\n",
       "        text-align: right;\n",
       "    }\n",
       "\n",
       "    .dataframe thead th {\n",
       "        text-align: left;\n",
       "    }\n",
       "\n",
       "    .dataframe tbody tr th {\n",
       "        vertical-align: top;\n",
       "    }\n",
       "</style>\n",
       "<table border=\"1\" class=\"dataframe\">\n",
       "  <thead>\n",
       "    <tr style=\"text-align: right;\">\n",
       "      <th></th>\n",
       "      <th>Number_pregnant</th>\n",
       "      <th>Glucose_concentration</th>\n",
       "      <th>Blood_pressure</th>\n",
       "      <th>Triceps</th>\n",
       "      <th>Insulin</th>\n",
       "      <th>BMI</th>\n",
       "      <th>Pedigree</th>\n",
       "      <th>Age</th>\n",
       "      <th>Class</th>\n",
       "      <th>Group</th>\n",
       "    </tr>\n",
       "  </thead>\n",
       "  <tbody>\n",
       "    <tr>\n",
       "      <th>0</th>\n",
       "      <td>6</td>\n",
       "      <td>0.743719</td>\n",
       "      <td>0.590164</td>\n",
       "      <td>0.353535</td>\n",
       "      <td>0.000000</td>\n",
       "      <td>0.500745</td>\n",
       "      <td>0.234415</td>\n",
       "      <td>50</td>\n",
       "      <td>1</td>\n",
       "      <td>B</td>\n",
       "    </tr>\n",
       "    <tr>\n",
       "      <th>1</th>\n",
       "      <td>1</td>\n",
       "      <td>0.427136</td>\n",
       "      <td>0.540984</td>\n",
       "      <td>0.292929</td>\n",
       "      <td>0.000000</td>\n",
       "      <td>0.396423</td>\n",
       "      <td>0.116567</td>\n",
       "      <td>31</td>\n",
       "      <td>0</td>\n",
       "      <td>C</td>\n",
       "    </tr>\n",
       "    <tr>\n",
       "      <th>2</th>\n",
       "      <td>8</td>\n",
       "      <td>0.919598</td>\n",
       "      <td>0.524590</td>\n",
       "      <td>0.000000</td>\n",
       "      <td>0.000000</td>\n",
       "      <td>0.347243</td>\n",
       "      <td>0.253629</td>\n",
       "      <td>32</td>\n",
       "      <td>1</td>\n",
       "      <td>B</td>\n",
       "    </tr>\n",
       "    <tr>\n",
       "      <th>3</th>\n",
       "      <td>1</td>\n",
       "      <td>0.447236</td>\n",
       "      <td>0.540984</td>\n",
       "      <td>0.232323</td>\n",
       "      <td>0.111111</td>\n",
       "      <td>0.418778</td>\n",
       "      <td>0.038002</td>\n",
       "      <td>21</td>\n",
       "      <td>0</td>\n",
       "      <td>B</td>\n",
       "    </tr>\n",
       "    <tr>\n",
       "      <th>4</th>\n",
       "      <td>0</td>\n",
       "      <td>0.688442</td>\n",
       "      <td>0.327869</td>\n",
       "      <td>0.353535</td>\n",
       "      <td>0.198582</td>\n",
       "      <td>0.642325</td>\n",
       "      <td>0.943638</td>\n",
       "      <td>33</td>\n",
       "      <td>1</td>\n",
       "      <td>C</td>\n",
       "    </tr>\n",
       "  </tbody>\n",
       "</table>\n",
       "</div>"
      ],
      "text/plain": [
       "   Number_pregnant  Glucose_concentration  Blood_pressure   Triceps   Insulin  \\\n",
       "0                6               0.743719        0.590164  0.353535  0.000000   \n",
       "1                1               0.427136        0.540984  0.292929  0.000000   \n",
       "2                8               0.919598        0.524590  0.000000  0.000000   \n",
       "3                1               0.447236        0.540984  0.232323  0.111111   \n",
       "4                0               0.688442        0.327869  0.353535  0.198582   \n",
       "\n",
       "        BMI  Pedigree  Age  Class Group  \n",
       "0  0.500745  0.234415   50      1     B  \n",
       "1  0.396423  0.116567   31      0     C  \n",
       "2  0.347243  0.253629   32      1     B  \n",
       "3  0.418778  0.038002   21      0     B  \n",
       "4  0.642325  0.943638   33      1     C  "
      ]
     },
     "execution_count": 104,
     "metadata": {},
     "output_type": "execute_result"
    }
   ],
   "source": [
    "diabetes.head()"
   ]
  },
  {
   "cell_type": "code",
   "execution_count": 105,
   "metadata": {},
   "outputs": [
    {
     "data": {
      "text/plain": [
       "Index(['Number_pregnant', 'Glucose_concentration', 'Blood_pressure', 'Triceps',\n",
       "       'Insulin', 'BMI', 'Pedigree', 'Age', 'Class', 'Group'],\n",
       "      dtype='object')"
      ]
     },
     "execution_count": 105,
     "metadata": {},
     "output_type": "execute_result"
    }
   ],
   "source": [
    "diabetes.columns"
   ]
  },
  {
   "cell_type": "code",
   "execution_count": 106,
   "metadata": {
    "collapsed": true
   },
   "outputs": [],
   "source": [
    "# columns to normalize\n",
    "cols_to_norm = ['Number_pregnant', 'Glucose_concentration', 'Blood_pressure', 'Triceps',\n",
    "       'Insulin', 'BMI', 'Pedigree']"
   ]
  },
  {
   "cell_type": "code",
   "execution_count": 107,
   "metadata": {},
   "outputs": [],
   "source": [
    "diabetes[cols_to_norm] = diabetes[cols_to_norm].apply(lambda x: (x-x.min()) / (x.max()-x.min()) )"
   ]
  },
  {
   "cell_type": "code",
   "execution_count": 108,
   "metadata": {},
   "outputs": [
    {
     "data": {
      "text/html": [
       "<div>\n",
       "<style>\n",
       "    .dataframe thead tr:only-child th {\n",
       "        text-align: right;\n",
       "    }\n",
       "\n",
       "    .dataframe thead th {\n",
       "        text-align: left;\n",
       "    }\n",
       "\n",
       "    .dataframe tbody tr th {\n",
       "        vertical-align: top;\n",
       "    }\n",
       "</style>\n",
       "<table border=\"1\" class=\"dataframe\">\n",
       "  <thead>\n",
       "    <tr style=\"text-align: right;\">\n",
       "      <th></th>\n",
       "      <th>Number_pregnant</th>\n",
       "      <th>Glucose_concentration</th>\n",
       "      <th>Blood_pressure</th>\n",
       "      <th>Triceps</th>\n",
       "      <th>Insulin</th>\n",
       "      <th>BMI</th>\n",
       "      <th>Pedigree</th>\n",
       "      <th>Age</th>\n",
       "      <th>Class</th>\n",
       "      <th>Group</th>\n",
       "    </tr>\n",
       "  </thead>\n",
       "  <tbody>\n",
       "    <tr>\n",
       "      <th>0</th>\n",
       "      <td>0.352941</td>\n",
       "      <td>0.743719</td>\n",
       "      <td>0.590164</td>\n",
       "      <td>0.353535</td>\n",
       "      <td>0.000000</td>\n",
       "      <td>0.500745</td>\n",
       "      <td>0.234415</td>\n",
       "      <td>50</td>\n",
       "      <td>1</td>\n",
       "      <td>B</td>\n",
       "    </tr>\n",
       "    <tr>\n",
       "      <th>1</th>\n",
       "      <td>0.058824</td>\n",
       "      <td>0.427136</td>\n",
       "      <td>0.540984</td>\n",
       "      <td>0.292929</td>\n",
       "      <td>0.000000</td>\n",
       "      <td>0.396423</td>\n",
       "      <td>0.116567</td>\n",
       "      <td>31</td>\n",
       "      <td>0</td>\n",
       "      <td>C</td>\n",
       "    </tr>\n",
       "    <tr>\n",
       "      <th>2</th>\n",
       "      <td>0.470588</td>\n",
       "      <td>0.919598</td>\n",
       "      <td>0.524590</td>\n",
       "      <td>0.000000</td>\n",
       "      <td>0.000000</td>\n",
       "      <td>0.347243</td>\n",
       "      <td>0.253629</td>\n",
       "      <td>32</td>\n",
       "      <td>1</td>\n",
       "      <td>B</td>\n",
       "    </tr>\n",
       "    <tr>\n",
       "      <th>3</th>\n",
       "      <td>0.058824</td>\n",
       "      <td>0.447236</td>\n",
       "      <td>0.540984</td>\n",
       "      <td>0.232323</td>\n",
       "      <td>0.111111</td>\n",
       "      <td>0.418778</td>\n",
       "      <td>0.038002</td>\n",
       "      <td>21</td>\n",
       "      <td>0</td>\n",
       "      <td>B</td>\n",
       "    </tr>\n",
       "    <tr>\n",
       "      <th>4</th>\n",
       "      <td>0.000000</td>\n",
       "      <td>0.688442</td>\n",
       "      <td>0.327869</td>\n",
       "      <td>0.353535</td>\n",
       "      <td>0.198582</td>\n",
       "      <td>0.642325</td>\n",
       "      <td>0.943638</td>\n",
       "      <td>33</td>\n",
       "      <td>1</td>\n",
       "      <td>C</td>\n",
       "    </tr>\n",
       "  </tbody>\n",
       "</table>\n",
       "</div>"
      ],
      "text/plain": [
       "   Number_pregnant  Glucose_concentration  Blood_pressure   Triceps   Insulin  \\\n",
       "0         0.352941               0.743719        0.590164  0.353535  0.000000   \n",
       "1         0.058824               0.427136        0.540984  0.292929  0.000000   \n",
       "2         0.470588               0.919598        0.524590  0.000000  0.000000   \n",
       "3         0.058824               0.447236        0.540984  0.232323  0.111111   \n",
       "4         0.000000               0.688442        0.327869  0.353535  0.198582   \n",
       "\n",
       "        BMI  Pedigree  Age  Class Group  \n",
       "0  0.500745  0.234415   50      1     B  \n",
       "1  0.396423  0.116567   31      0     C  \n",
       "2  0.347243  0.253629   32      1     B  \n",
       "3  0.418778  0.038002   21      0     B  \n",
       "4  0.642325  0.943638   33      1     C  "
      ]
     },
     "execution_count": 108,
     "metadata": {},
     "output_type": "execute_result"
    }
   ],
   "source": [
    "diabetes.head()"
   ]
  },
  {
   "cell_type": "code",
   "execution_count": 109,
   "metadata": {},
   "outputs": [
    {
     "data": {
      "text/plain": [
       "Index(['Number_pregnant', 'Glucose_concentration', 'Blood_pressure', 'Triceps',\n",
       "       'Insulin', 'BMI', 'Pedigree', 'Age', 'Class', 'Group'],\n",
       "      dtype='object')"
      ]
     },
     "execution_count": 109,
     "metadata": {},
     "output_type": "execute_result"
    }
   ],
   "source": [
    "import tensorflow as tf\n",
    "diabetes.columns"
   ]
  },
  {
   "cell_type": "code",
   "execution_count": 110,
   "metadata": {
    "collapsed": true
   },
   "outputs": [],
   "source": [
    "# Numerical Variables\n",
    "num_preg = tf.feature_column.numeric_column('Number_pregnant')\n",
    "plasma_gluc = tf.feature_column.numeric_column('Glucose_concentration')\n",
    "dias_press = tf.feature_column.numeric_column('Blood_pressure')\n",
    "triceps = tf.feature_column.numeric_column('Triceps')\n",
    "insulin = tf.feature_column.numeric_column('Insulin')\n",
    "bmi = tf.feature_column.numeric_column('BMI')\n",
    "diabetes_pedigree = tf.feature_column.numeric_column('Pedigree')\n",
    "age = tf.feature_column.numeric_column('Age')"
   ]
  },
  {
   "cell_type": "code",
   "execution_count": 112,
   "metadata": {
    "collapsed": true
   },
   "outputs": [],
   "source": [
    "# Categorical Variables - Two ways\n",
    "# EG Vocab list\n",
    "assigned_group = tf.feature_column.categorical_column_with_vocabulary_list('Group', ['A','B','C','D'])\n",
    "\n",
    "#EG  hash bucket\n",
    "#assigned_group = tf.feature_column.categorical_column_with_hash_bucket('Group', hash_bucket_size=10)\n",
    "# the bucket size can be as big as you want, minimum is the number of levels  - in this case 4"
   ]
  },
  {
   "cell_type": "code",
   "execution_count": 113,
   "metadata": {},
   "outputs": [
    {
     "data": {
      "text/plain": [
       "<matplotlib.axes._subplots.AxesSubplot at 0x135169b0>"
      ]
     },
     "execution_count": 113,
     "metadata": {},
     "output_type": "execute_result"
    },
    {
     "data": {
      "image/png": "[encoded data removed]",
      "text/plain": [
       "<matplotlib.figure.Figure at 0xba317b8>"
      ]
     },
     "metadata": {},
     "output_type": "display_data"
    }
   ],
   "source": [
    "import matplotlib.pyplot as plt\n",
    "%matplotlib inline\n",
    "\n",
    "diabetes['Age'].hist(bins=20)"
   ]
  },
  {
   "cell_type": "code",
   "execution_count": 114,
   "metadata": {
    "collapsed": true
   },
   "outputs": [],
   "source": [
    "age_bucket = tf.feature_column.bucketized_column(age, boundaries = [20,30,40,50,60,70,80])"
   ]
  },
  {
   "cell_type": "code",
   "execution_count": 115,
   "metadata": {
    "collapsed": true
   },
   "outputs": [],
   "source": [
    "feat_cols = [num_preg, plasma_gluc, dias_press, triceps, insulin, bmi, diabetes_pedigree,assigned_group, age_bucket]"
   ]
  },
  {
   "cell_type": "code",
   "execution_count": 116,
   "metadata": {
    "collapsed": true
   },
   "outputs": [],
   "source": [
    "# train test split"
   ]
  },
  {
   "cell_type": "code",
   "execution_count": 117,
   "metadata": {
    "collapsed": true
   },
   "outputs": [],
   "source": [
    "x_data = diabetes.drop('Class', axis=1)"
   ]
  },
  {
   "cell_type": "code",
   "execution_count": 118,
   "metadata": {
    "collapsed": true
   },
   "outputs": [],
   "source": [
    "labels = diabetes['Class']"
   ]
  },
  {
   "cell_type": "code",
   "execution_count": 119,
   "metadata": {
    "collapsed": true
   },
   "outputs": [],
   "source": [
    "from sklearn.model_selection import train_test_split\n",
    "\n",
    "X_train, X_test, y_train, y_test = train_test_split(x_data, labels, test_size=0.3, random_state=101)"
   ]
  },
  {
   "cell_type": "code",
   "execution_count": 120,
   "metadata": {
    "collapsed": true
   },
   "outputs": [],
   "source": [
    "#create an input function\n",
    "\n",
    "input_func = tf.estimator.inputs.pandas_input_fn(x=X_train, y=y_train, batch_size=10, num_epochs=1000, shuffle=True)"
   ]
  },
  {
   "cell_type": "code",
   "execution_count": 121,
   "metadata": {},
   "outputs": [
    {
     "name": "stdout",
     "output_type": "stream",
     "text": [
      "INFO:tensorflow:Using default config.\n",
      "WARNING:tensorflow:Using temporary folder as model directory: C:\\Users\\gpipis\\AppData\\Local\\Temp\\tmplk0uib__\n",
      "INFO:tensorflow:Using config: {'_save_checkpoints_secs': 600, '_session_config': None, '_save_checkpoints_steps': None, '_save_summary_steps': 100, '_keep_checkpoint_max': 5, '_log_step_count_steps': 100, '_model_dir': 'C:\\\\Users\\\\gpipis\\\\AppData\\\\Local\\\\Temp\\\\tmplk0uib__', '_keep_checkpoint_every_n_hours': 10000, '_tf_random_seed': 1}\n"
     ]
    }
   ],
   "source": [
    "model = tf.estimator.LinearClassifier(feature_columns=feat_cols, n_classes=2)"
   ]
  },
  {
   "cell_type": "code",
   "execution_count": 122,
   "metadata": {},
   "outputs": [
    {
     "name": "stdout",
     "output_type": "stream",
     "text": [
      "INFO:tensorflow:Create CheckpointSaverHook.\n",
      "INFO:tensorflow:Saving checkpoints for 1 into C:\\Users\\gpipis\\AppData\\Local\\Temp\\tmplk0uib__\\model.ckpt.\n",
      "INFO:tensorflow:loss = 6.93147, step = 1\n",
      "INFO:tensorflow:global_step/sec: 346.009\n",
      "INFO:tensorflow:loss = 4.02263, step = 101 (0.304 sec)\n",
      "INFO:tensorflow:global_step/sec: 341.283\n",
      "INFO:tensorflow:loss = 4.68397, step = 201 (0.278 sec)\n",
      "INFO:tensorflow:global_step/sec: 340.117\n",
      "INFO:tensorflow:loss = 6.28098, step = 301 (0.294 sec)\n",
      "INFO:tensorflow:global_step/sec: 386.082\n",
      "INFO:tensorflow:loss = 6.09891, step = 401 (0.282 sec)\n",
      "INFO:tensorflow:global_step/sec: 353.345\n",
      "INFO:tensorflow:loss = 4.94206, step = 501 (0.260 sec)\n",
      "INFO:tensorflow:global_step/sec: 367.636\n",
      "INFO:tensorflow:loss = 6.96339, step = 601 (0.282 sec)\n",
      "INFO:tensorflow:global_step/sec: 387.581\n",
      "INFO:tensorflow:loss = 6.09563, step = 701 (0.258 sec)\n",
      "INFO:tensorflow:global_step/sec: 384.598\n",
      "INFO:tensorflow:loss = 5.0075, step = 801 (0.260 sec)\n",
      "INFO:tensorflow:global_step/sec: 392.142\n",
      "INFO:tensorflow:loss = 3.85307, step = 901 (0.255 sec)\n",
      "INFO:tensorflow:Saving checkpoints for 1000 into C:\\Users\\gpipis\\AppData\\Local\\Temp\\tmplk0uib__\\model.ckpt.\n",
      "INFO:tensorflow:Loss for final step: 3.39272.\n"
     ]
    },
    {
     "data": {
      "text/plain": [
       "<tensorflow.python.estimator.canned.linear.LinearClassifier at 0x140e0128>"
      ]
     },
     "execution_count": 122,
     "metadata": {},
     "output_type": "execute_result"
    }
   ],
   "source": [
    "model.train(input_fn=input_func, steps =1000)"
   ]
  },
  {
   "cell_type": "code",
   "execution_count": 123,
   "metadata": {
    "collapsed": true
   },
   "outputs": [],
   "source": [
    "eval_input_func = tf.estimator.inputs.pandas_input_fn(x=X_test, y=y_test, batch_size=10, num_epochs=1, shuffle=False)"
   ]
  },
  {
   "cell_type": "code",
   "execution_count": 124,
   "metadata": {},
   "outputs": [
    {
     "name": "stdout",
     "output_type": "stream",
     "text": [
      "WARNING:tensorflow:Casting <dtype: 'float32'> labels to bool.\n",
      "WARNING:tensorflow:Casting <dtype: 'float32'> labels to bool.\n",
      "INFO:tensorflow:Starting evaluation at 2018-04-24-16:21:14\n",
      "INFO:tensorflow:Restoring parameters from C:\\Users\\gpipis\\AppData\\Local\\Temp\\tmplk0uib__\\model.ckpt-1000\n",
      "INFO:tensorflow:Finished evaluation at 2018-04-24-16:21:15\n",
      "INFO:tensorflow:Saving dict for global step 1000: accuracy = 0.74026, accuracy_baseline = 0.649351, auc = 0.802716, auc_precision_recall = 0.649286, average_loss = 0.524577, global_step = 1000, label/mean = 0.350649, loss = 5.04906, prediction/mean = 0.368528\n"
     ]
    }
   ],
   "source": [
    "results = model.evaluate(eval_input_func)"
   ]
  },
  {
   "cell_type": "code",
   "execution_count": 125,
   "metadata": {},
   "outputs": [
    {
     "data": {
      "text/plain": [
       "{'accuracy': 0.74025977,\n",
       " 'accuracy_baseline': 0.64935064,\n",
       " 'auc': 0.80271602,\n",
       " 'auc_precision_recall': 0.64928591,\n",
       " 'average_loss': 0.52457726,\n",
       " 'global_step': 1000,\n",
       " 'label/mean': 0.35064936,\n",
       " 'loss': 5.0490565,\n",
       " 'prediction/mean': 0.36852771}"
      ]
     },
     "execution_count": 125,
     "metadata": {},
     "output_type": "execute_result"
    }
   ],
   "source": [
    "results"
   ]
  },
  {
   "cell_type": "code",
   "execution_count": 126,
   "metadata": {
    "collapsed": true
   },
   "outputs": [],
   "source": [
    "pred_input_func = tf.estimator.inputs.pandas_input_fn(x=X_test, batch_size=10, num_epochs=1, shuffle=False)"
   ]
  },
  {
   "cell_type": "code",
   "execution_count": 127,
   "metadata": {
    "collapsed": true
   },
   "outputs": [],
   "source": [
    "predictions = model.predict(pred_input_func)"
   ]
  },
  {
   "cell_type": "code",
   "execution_count": 128,
   "metadata": {},
   "outputs": [
    {
     "name": "stdout",
     "output_type": "stream",
     "text": [
      "INFO:tensorflow:Restoring parameters from C:\\Users\\gpipis\\AppData\\Local\\Temp\\tmplk0uib__\\model.ckpt-1000\n"
     ]
    }
   ],
   "source": [
    "my_pred = list(predictions)"
   ]
  },
  {
   "cell_type": "code",
   "execution_count": 129,
   "metadata": {},
   "outputs": [
    {
     "data": {
      "text/plain": [
       "[{'class_ids': array([1], dtype=int64),\n",
       "  'classes': array([b'1'], dtype=object),\n",
       "  'logistic': array([ 0.54491156], dtype=float32),\n",
       "  'logits': array([ 0.18013167], dtype=float32),\n",
       "  'probabilities': array([ 0.45508847,  0.54491156], dtype=float32)},\n",
       " {'class_ids': array([1], dtype=int64),\n",
       "  'classes': array([b'1'], dtype=object),\n",
       "  'logistic': array([ 0.63534439], dtype=float32),\n",
       "  'logits': array([ 0.55521381], dtype=float32),\n",
       "  'probabilities': array([ 0.36465561,  0.63534439], dtype=float32)},\n",
       " {'class_ids': array([0], dtype=int64),\n",
       "  'classes': array([b'0'], dtype=object),\n",
       "  'logistic': array([ 0.38299534], dtype=float32),\n",
       "  'logits': array([-0.47685385], dtype=float32),\n",
       "  'probabilities': array([ 0.61700469,  0.38299534], dtype=float32)},\n",
       " {'class_ids': array([0], dtype=int64),\n",
       "  'classes': array([b'0'], dtype=object),\n",
       "  'logistic': array([ 0.34539193], dtype=float32),\n",
       "  'logits': array([-0.63935685], dtype=float32),\n",
       "  'probabilities': array([ 0.65460807,  0.34539193], dtype=float32)},\n",
       " {'class_ids': array([0], dtype=int64),\n",
       "  'classes': array([b'0'], dtype=object),\n",
       "  'logistic': array([ 0.14974222], dtype=float32),\n",
       "  'logits': array([-1.73662436], dtype=float32),\n",
       "  'probabilities': array([ 0.85025781,  0.14974222], dtype=float32)},\n",
       " {'class_ids': array([1], dtype=int64),\n",
       "  'classes': array([b'1'], dtype=object),\n",
       "  'logistic': array([ 0.67756939], dtype=float32),\n",
       "  'logits': array([ 0.74262404], dtype=float32),\n",
       "  'probabilities': array([ 0.32243058,  0.67756939], dtype=float32)},\n",
       " {'class_ids': array([1], dtype=int64),\n",
       "  'classes': array([b'1'], dtype=object),\n",
       "  'logistic': array([ 0.60635144], dtype=float32),\n",
       "  'logits': array([ 0.43200135], dtype=float32),\n",
       "  'probabilities': array([ 0.39364851,  0.60635144], dtype=float32)},\n",
       " {'class_ids': array([0], dtype=int64),\n",
       "  'classes': array([b'0'], dtype=object),\n",
       "  'logistic': array([ 0.33415896], dtype=float32),\n",
       "  'logits': array([-0.68943417], dtype=float32),\n",
       "  'probabilities': array([ 0.66584104,  0.33415896], dtype=float32)},\n",
       " {'class_ids': array([0], dtype=int64),\n",
       "  'classes': array([b'0'], dtype=object),\n",
       "  'logistic': array([ 0.23884502], dtype=float32),\n",
       "  'logits': array([-1.15902209], dtype=float32),\n",
       "  'probabilities': array([ 0.76115495,  0.23884501], dtype=float32)},\n",
       " {'class_ids': array([0], dtype=int64),\n",
       "  'classes': array([b'0'], dtype=object),\n",
       "  'logistic': array([ 0.24846877], dtype=float32),\n",
       "  'logits': array([-1.10679555], dtype=float32),\n",
       "  'probabilities': array([ 0.75153124,  0.24846879], dtype=float32)},\n",
       " {'class_ids': array([0], dtype=int64),\n",
       "  'classes': array([b'0'], dtype=object),\n",
       "  'logistic': array([ 0.13580571], dtype=float32),\n",
       "  'logits': array([-1.85057235], dtype=float32),\n",
       "  'probabilities': array([ 0.86419433,  0.13580573], dtype=float32)},\n",
       " {'class_ids': array([0], dtype=int64),\n",
       "  'classes': array([b'0'], dtype=object),\n",
       "  'logistic': array([ 0.16346079], dtype=float32),\n",
       "  'logits': array([-1.6327002], dtype=float32),\n",
       "  'probabilities': array([ 0.83653921,  0.16346079], dtype=float32)},\n",
       " {'class_ids': array([0], dtype=int64),\n",
       "  'classes': array([b'0'], dtype=object),\n",
       "  'logistic': array([ 0.29210734], dtype=float32),\n",
       "  'logits': array([-0.88517118], dtype=float32),\n",
       "  'probabilities': array([ 0.70789266,  0.29210734], dtype=float32)},\n",
       " {'class_ids': array([1], dtype=int64),\n",
       "  'classes': array([b'1'], dtype=object),\n",
       "  'logistic': array([ 0.57269847], dtype=float32),\n",
       "  'logits': array([ 0.29286933], dtype=float32),\n",
       "  'probabilities': array([ 0.42730156,  0.57269847], dtype=float32)},\n",
       " {'class_ids': array([0], dtype=int64),\n",
       "  'classes': array([b'0'], dtype=object),\n",
       "  'logistic': array([ 0.18305741], dtype=float32),\n",
       "  'logits': array([-1.49576902], dtype=float32),\n",
       "  'probabilities': array([ 0.81694257,  0.1830574 ], dtype=float32)},\n",
       " {'class_ids': array([0], dtype=int64),\n",
       "  'classes': array([b'0'], dtype=object),\n",
       "  'logistic': array([ 0.34655184], dtype=float32),\n",
       "  'logits': array([-0.63423085], dtype=float32),\n",
       "  'probabilities': array([ 0.65344816,  0.34655181], dtype=float32)},\n",
       " {'class_ids': array([0], dtype=int64),\n",
       "  'classes': array([b'0'], dtype=object),\n",
       "  'logistic': array([ 0.37960052], dtype=float32),\n",
       "  'logits': array([-0.49124426], dtype=float32),\n",
       "  'probabilities': array([ 0.62039953,  0.37960052], dtype=float32)},\n",
       " {'class_ids': array([0], dtype=int64),\n",
       "  'classes': array([b'0'], dtype=object),\n",
       "  'logistic': array([ 0.1309683], dtype=float32),\n",
       "  'logits': array([-1.89242435], dtype=float32),\n",
       "  'probabilities': array([ 0.86903167,  0.13096829], dtype=float32)},\n",
       " {'class_ids': array([0], dtype=int64),\n",
       "  'classes': array([b'0'], dtype=object),\n",
       "  'logistic': array([ 0.36243472], dtype=float32),\n",
       "  'logits': array([-0.5648123], dtype=float32),\n",
       "  'probabilities': array([ 0.63756526,  0.36243472], dtype=float32)},\n",
       " {'class_ids': array([0], dtype=int64),\n",
       "  'classes': array([b'0'], dtype=object),\n",
       "  'logistic': array([ 0.15004534], dtype=float32),\n",
       "  'logits': array([-1.73424554], dtype=float32),\n",
       "  'probabilities': array([ 0.84995466,  0.15004534], dtype=float32)},\n",
       " {'class_ids': array([0], dtype=int64),\n",
       "  'classes': array([b'0'], dtype=object),\n",
       "  'logistic': array([ 0.21920733], dtype=float32),\n",
       "  'logits': array([-1.27029157], dtype=float32),\n",
       "  'probabilities': array([ 0.78079265,  0.21920733], dtype=float32)},\n",
       " {'class_ids': array([0], dtype=int64),\n",
       "  'classes': array([b'0'], dtype=object),\n",
       "  'logistic': array([ 0.29191008], dtype=float32),\n",
       "  'logits': array([-0.88612533], dtype=float32),\n",
       "  'probabilities': array([ 0.70808989,  0.29191005], dtype=float32)},\n",
       " {'class_ids': array([1], dtype=int64),\n",
       "  'classes': array([b'1'], dtype=object),\n",
       "  'logistic': array([ 0.65434474], dtype=float32),\n",
       "  'logits': array([ 0.63819253], dtype=float32),\n",
       "  'probabilities': array([ 0.3456552 ,  0.65434474], dtype=float32)},\n",
       " {'class_ids': array([0], dtype=int64),\n",
       "  'classes': array([b'0'], dtype=object),\n",
       "  'logistic': array([ 0.22154245], dtype=float32),\n",
       "  'logits': array([-1.25670028], dtype=float32),\n",
       "  'probabilities': array([ 0.77845758,  0.22154245], dtype=float32)},\n",
       " {'class_ids': array([0], dtype=int64),\n",
       "  'classes': array([b'0'], dtype=object),\n",
       "  'logistic': array([ 0.18481609], dtype=float32),\n",
       "  'logits': array([-1.48405254], dtype=float32),\n",
       "  'probabilities': array([ 0.81518394,  0.18481609], dtype=float32)},\n",
       " {'class_ids': array([1], dtype=int64),\n",
       "  'classes': array([b'1'], dtype=object),\n",
       "  'logistic': array([ 0.77525502], dtype=float32),\n",
       "  'logits': array([ 1.2382257], dtype=float32),\n",
       "  'probabilities': array([ 0.22474498,  0.77525502], dtype=float32)},\n",
       " {'class_ids': array([0], dtype=int64),\n",
       "  'classes': array([b'0'], dtype=object),\n",
       "  'logistic': array([ 0.17727922], dtype=float32),\n",
       "  'logits': array([-1.53489089], dtype=float32),\n",
       "  'probabilities': array([ 0.82272083,  0.17727922], dtype=float32)},\n",
       " {'class_ids': array([0], dtype=int64),\n",
       "  'classes': array([b'0'], dtype=object),\n",
       "  'logistic': array([ 0.31546083], dtype=float32),\n",
       "  'logits': array([-0.77471143], dtype=float32),\n",
       "  'probabilities': array([ 0.6845392,  0.3154608], dtype=float32)},\n",
       " {'class_ids': array([0], dtype=int64),\n",
       "  'classes': array([b'0'], dtype=object),\n",
       "  'logistic': array([ 0.10809546], dtype=float32),\n",
       "  'logits': array([-2.11034441], dtype=float32),\n",
       "  'probabilities': array([ 0.89190447,  0.10809545], dtype=float32)},\n",
       " {'class_ids': array([1], dtype=int64),\n",
       "  'classes': array([b'1'], dtype=object),\n",
       "  'logistic': array([ 0.58442938], dtype=float32),\n",
       "  'logits': array([ 0.34098351], dtype=float32),\n",
       "  'probabilities': array([ 0.41557059,  0.58442938], dtype=float32)},\n",
       " {'class_ids': array([1], dtype=int64),\n",
       "  'classes': array([b'1'], dtype=object),\n",
       "  'logistic': array([ 0.93926483], dtype=float32),\n",
       "  'logits': array([ 2.73857474], dtype=float32),\n",
       "  'probabilities': array([ 0.06073516,  0.93926483], dtype=float32)},\n",
       " {'class_ids': array([0], dtype=int64),\n",
       "  'classes': array([b'0'], dtype=object),\n",
       "  'logistic': array([ 0.41587162], dtype=float32),\n",
       "  'logits': array([-0.33974415], dtype=float32),\n",
       "  'probabilities': array([ 0.58412838,  0.41587162], dtype=float32)},\n",
       " {'class_ids': array([0], dtype=int64),\n",
       "  'classes': array([b'0'], dtype=object),\n",
       "  'logistic': array([ 0.33584213], dtype=float32),\n",
       "  'logits': array([-0.68187875], dtype=float32),\n",
       "  'probabilities': array([ 0.66415793,  0.33584213], dtype=float32)},\n",
       " {'class_ids': array([1], dtype=int64),\n",
       "  'classes': array([b'1'], dtype=object),\n",
       "  'logistic': array([ 0.53796536], dtype=float32),\n",
       "  'logits': array([ 0.15215433], dtype=float32),\n",
       "  'probabilities': array([ 0.46203461,  0.53796536], dtype=float32)},\n",
       " {'class_ids': array([0], dtype=int64),\n",
       "  'classes': array([b'0'], dtype=object),\n",
       "  'logistic': array([ 0.24987644], dtype=float32),\n",
       "  'logits': array([-1.09927142], dtype=float32),\n",
       "  'probabilities': array([ 0.75012356,  0.24987644], dtype=float32)},\n",
       " {'class_ids': array([0], dtype=int64),\n",
       "  'classes': array([b'0'], dtype=object),\n",
       "  'logistic': array([ 0.38896903], dtype=float32),\n",
       "  'logits': array([-0.45164794], dtype=float32),\n",
       "  'probabilities': array([ 0.61103094,  0.388969  ], dtype=float32)},\n",
       " {'class_ids': array([1], dtype=int64),\n",
       "  'classes': array([b'1'], dtype=object),\n",
       "  'logistic': array([ 0.5091747], dtype=float32),\n",
       "  'logits': array([ 0.03670287], dtype=float32),\n",
       "  'probabilities': array([ 0.49082533,  0.5091747 ], dtype=float32)},\n",
       " {'class_ids': array([1], dtype=int64),\n",
       "  'classes': array([b'1'], dtype=object),\n",
       "  'logistic': array([ 0.61592698], dtype=float32),\n",
       "  'logits': array([ 0.47229588], dtype=float32),\n",
       "  'probabilities': array([ 0.38407299,  0.61592698], dtype=float32)},\n",
       " {'class_ids': array([1], dtype=int64),\n",
       "  'classes': array([b'1'], dtype=object),\n",
       "  'logistic': array([ 0.76707613], dtype=float32),\n",
       "  'logits': array([ 1.19187427], dtype=float32),\n",
       "  'probabilities': array([ 0.2329239 ,  0.76707613], dtype=float32)},\n",
       " {'class_ids': array([0], dtype=int64),\n",
       "  'classes': array([b'0'], dtype=object),\n",
       "  'logistic': array([ 0.33745366], dtype=float32),\n",
       "  'logits': array([-0.67466235], dtype=float32),\n",
       "  'probabilities': array([ 0.66254634,  0.33745363], dtype=float32)},\n",
       " {'class_ids': array([0], dtype=int64),\n",
       "  'classes': array([b'0'], dtype=object),\n",
       "  'logistic': array([ 0.18011706], dtype=float32),\n",
       "  'logits': array([-1.51555467], dtype=float32),\n",
       "  'probabilities': array([ 0.81988299,  0.18011706], dtype=float32)},\n",
       " {'class_ids': array([1], dtype=int64),\n",
       "  'classes': array([b'1'], dtype=object),\n",
       "  'logistic': array([ 0.54585981], dtype=float32),\n",
       "  'logits': array([ 0.18395638], dtype=float32),\n",
       "  'probabilities': array([ 0.45414016,  0.54585981], dtype=float32)},\n",
       " {'class_ids': array([0], dtype=int64),\n",
       "  'classes': array([b'0'], dtype=object),\n",
       "  'logistic': array([ 0.16056682], dtype=float32),\n",
       "  'logits': array([-1.65401673], dtype=float32),\n",
       "  'probabilities': array([ 0.83943319,  0.16056681], dtype=float32)},\n",
       " {'class_ids': array([1], dtype=int64),\n",
       "  'classes': array([b'1'], dtype=object),\n",
       "  'logistic': array([ 0.52719957], dtype=float32),\n",
       "  'logits': array([ 0.10890591], dtype=float32),\n",
       "  'probabilities': array([ 0.47280037,  0.52719957], dtype=float32)},\n",
       " {'class_ids': array([0], dtype=int64),\n",
       "  'classes': array([b'0'], dtype=object),\n",
       "  'logistic': array([ 0.14544283], dtype=float32),\n",
       "  'logits': array([-1.77080035], dtype=float32),\n",
       "  'probabilities': array([ 0.85455716,  0.14544281], dtype=float32)},\n",
       " {'class_ids': array([0], dtype=int64),\n",
       "  'classes': array([b'0'], dtype=object),\n",
       "  'logistic': array([ 0.12775055], dtype=float32),\n",
       "  'logits': array([-1.92099595], dtype=float32),\n",
       "  'probabilities': array([ 0.87224948,  0.12775056], dtype=float32)},\n",
       " {'class_ids': array([1], dtype=int64),\n",
       "  'classes': array([b'1'], dtype=object),\n",
       "  'logistic': array([ 0.59420109], dtype=float32),\n",
       "  'logits': array([ 0.38135993], dtype=float32),\n",
       "  'probabilities': array([ 0.40579894,  0.59420109], dtype=float32)},\n",
       " {'class_ids': array([0], dtype=int64),\n",
       "  'classes': array([b'0'], dtype=object),\n",
       "  'logistic': array([ 0.18705326], dtype=float32),\n",
       "  'logits': array([-1.46927214], dtype=float32),\n",
       "  'probabilities': array([ 0.81294674,  0.18705326], dtype=float32)},\n",
       " {'class_ids': array([0], dtype=int64),\n",
       "  'classes': array([b'0'], dtype=object),\n",
       "  'logistic': array([ 0.20215964], dtype=float32),\n",
       "  'logits': array([-1.37285089], dtype=float32),\n",
       "  'probabilities': array([ 0.79784042,  0.20215963], dtype=float32)},\n",
       " {'class_ids': array([0], dtype=int64),\n",
       "  'classes': array([b'0'], dtype=object),\n",
       "  'logistic': array([ 0.13696279], dtype=float32),\n",
       "  'logits': array([-1.84074855], dtype=float32),\n",
       "  'probabilities': array([ 0.86303723,  0.13696279], dtype=float32)},\n",
       " {'class_ids': array([0], dtype=int64),\n",
       "  'classes': array([b'0'], dtype=object),\n",
       "  'logistic': array([ 0.18391109], dtype=float32),\n",
       "  'logits': array([-1.49007094], dtype=float32),\n",
       "  'probabilities': array([ 0.81608891,  0.18391109], dtype=float32)},\n",
       " {'class_ids': array([0], dtype=int64),\n",
       "  'classes': array([b'0'], dtype=object),\n",
       "  'logistic': array([ 0.23936006], dtype=float32),\n",
       "  'logits': array([-1.15619111], dtype=float32),\n",
       "  'probabilities': array([ 0.76063997,  0.23936008], dtype=float32)},\n",
       " {'class_ids': array([0], dtype=int64),\n",
       "  'classes': array([b'0'], dtype=object),\n",
       "  'logistic': array([ 0.26894626], dtype=float32),\n",
       "  'logits': array([-0.99997538], dtype=float32),\n",
       "  'probabilities': array([ 0.73105377,  0.26894629], dtype=float32)},\n",
       " {'class_ids': array([0], dtype=int64),\n",
       "  'classes': array([b'0'], dtype=object),\n",
       "  'logistic': array([ 0.36330533], dtype=float32),\n",
       "  'logits': array([-0.5610466], dtype=float32),\n",
       "  'probabilities': array([ 0.63669467,  0.36330533], dtype=float32)},\n",
       " {'class_ids': array([0], dtype=int64),\n",
       "  'classes': array([b'0'], dtype=object),\n",
       "  'logistic': array([ 0.12992179], dtype=float32),\n",
       "  'logits': array([-1.90165043], dtype=float32),\n",
       "  'probabilities': array([ 0.87007815,  0.12992178], dtype=float32)},\n",
       " {'class_ids': array([0], dtype=int64),\n",
       "  'classes': array([b'0'], dtype=object),\n",
       "  'logistic': array([ 0.2381404], dtype=float32),\n",
       "  'logits': array([-1.16290188], dtype=float32),\n",
       "  'probabilities': array([ 0.76185966,  0.2381404 ], dtype=float32)},\n",
       " {'class_ids': array([0], dtype=int64),\n",
       "  'classes': array([b'0'], dtype=object),\n",
       "  'logistic': array([ 0.2143504], dtype=float32),\n",
       "  'logits': array([-1.29889882], dtype=float32),\n",
       "  'probabilities': array([ 0.7856496,  0.2143504], dtype=float32)},\n",
       " {'class_ids': array([0], dtype=int64),\n",
       "  'classes': array([b'0'], dtype=object),\n",
       "  'logistic': array([ 0.21857259], dtype=float32),\n",
       "  'logits': array([-1.2740041], dtype=float32),\n",
       "  'probabilities': array([ 0.78142744,  0.2185726 ], dtype=float32)},\n",
       " {'class_ids': array([0], dtype=int64),\n",
       "  'classes': array([b'0'], dtype=object),\n",
       "  'logistic': array([ 0.49123392], dtype=float32),\n",
       "  'logits': array([-0.03506792], dtype=float32),\n",
       "  'probabilities': array([ 0.50876611,  0.49123394], dtype=float32)},\n",
       " {'class_ids': array([0], dtype=int64),\n",
       "  'classes': array([b'0'], dtype=object),\n",
       "  'logistic': array([ 0.16924949], dtype=float32),\n",
       "  'logits': array([-1.59095562], dtype=float32),\n",
       "  'probabilities': array([ 0.83075052,  0.16924949], dtype=float32)},\n",
       " {'class_ids': array([0], dtype=int64),\n",
       "  'classes': array([b'0'], dtype=object),\n",
       "  'logistic': array([ 0.23273009], dtype=float32),\n",
       "  'logits': array([-1.19295931], dtype=float32),\n",
       "  'probabilities': array([ 0.76726991,  0.23273009], dtype=float32)},\n",
       " {'class_ids': array([1], dtype=int64),\n",
       "  'classes': array([b'1'], dtype=object),\n",
       "  'logistic': array([ 0.6364314], dtype=float32),\n",
       "  'logits': array([ 0.55990863], dtype=float32),\n",
       "  'probabilities': array([ 0.3635686,  0.6364314], dtype=float32)},\n",
       " {'class_ids': array([1], dtype=int64),\n",
       "  'classes': array([b'1'], dtype=object),\n",
       "  'logistic': array([ 0.63421047], dtype=float32),\n",
       "  'logits': array([ 0.55032289], dtype=float32),\n",
       "  'probabilities': array([ 0.3657895 ,  0.63421047], dtype=float32)},\n",
       " {'class_ids': array([1], dtype=int64),\n",
       "  'classes': array([b'1'], dtype=object),\n",
       "  'logistic': array([ 0.51148546], dtype=float32),\n",
       "  'logits': array([ 0.04594982], dtype=float32),\n",
       "  'probabilities': array([ 0.48851457,  0.51148546], dtype=float32)},\n",
       " {'class_ids': array([0], dtype=int64),\n",
       "  'classes': array([b'0'], dtype=object),\n",
       "  'logistic': array([ 0.37726161], dtype=float32),\n",
       "  'logits': array([-0.50118774], dtype=float32),\n",
       "  'probabilities': array([ 0.62273842,  0.37726161], dtype=float32)},\n",
       " {'class_ids': array([0], dtype=int64),\n",
       "  'classes': array([b'0'], dtype=object),\n",
       "  'logistic': array([ 0.48074666], dtype=float32),\n",
       "  'logits': array([-0.07705134], dtype=float32),\n",
       "  'probabilities': array([ 0.51925331,  0.48074669], dtype=float32)},\n",
       " {'class_ids': array([0], dtype=int64),\n",
       "  'classes': array([b'0'], dtype=object),\n",
       "  'logistic': array([ 0.18716204], dtype=float32),\n",
       "  'logits': array([-1.468557], dtype=float32),\n",
       "  'probabilities': array([ 0.81283796,  0.18716204], dtype=float32)},\n",
       " {'class_ids': array([0], dtype=int64),\n",
       "  'classes': array([b'0'], dtype=object),\n",
       "  'logistic': array([ 0.19943343], dtype=float32),\n",
       "  'logits': array([-1.38983917], dtype=float32),\n",
       "  'probabilities': array([ 0.80056655,  0.19943343], dtype=float32)},\n",
       " {'class_ids': array([0], dtype=int64),\n",
       "  'classes': array([b'0'], dtype=object),\n",
       "  'logistic': array([ 0.15145409], dtype=float32),\n",
       "  'logits': array([-1.72324157], dtype=float32),\n",
       "  'probabilities': array([ 0.84854591,  0.15145411], dtype=float32)},\n",
       " {'class_ids': array([0], dtype=int64),\n",
       "  'classes': array([b'0'], dtype=object),\n",
       "  'logistic': array([ 0.13095096], dtype=float32),\n",
       "  'logits': array([-1.89257669], dtype=float32),\n",
       "  'probabilities': array([ 0.86904907,  0.13095096], dtype=float32)},\n",
       " {'class_ids': array([1], dtype=int64),\n",
       "  'classes': array([b'1'], dtype=object),\n",
       "  'logistic': array([ 0.61380237], dtype=float32),\n",
       "  'logits': array([ 0.46332371], dtype=float32),\n",
       "  'probabilities': array([ 0.38619763,  0.61380237], dtype=float32)},\n",
       " {'class_ids': array([0], dtype=int64),\n",
       "  'classes': array([b'0'], dtype=object),\n",
       "  'logistic': array([ 0.23789603], dtype=float32),\n",
       "  'logits': array([-1.16424918], dtype=float32),\n",
       "  'probabilities': array([ 0.76210397,  0.23789605], dtype=float32)},\n",
       " {'class_ids': array([0], dtype=int64),\n",
       "  'classes': array([b'0'], dtype=object),\n",
       "  'logistic': array([ 0.43612781], dtype=float32),\n",
       "  'logits': array([-0.25689226], dtype=float32),\n",
       "  'probabilities': array([ 0.56387216,  0.43612781], dtype=float32)},\n",
       " {'class_ids': array([1], dtype=int64),\n",
       "  'classes': array([b'1'], dtype=object),\n",
       "  'logistic': array([ 0.59243345], dtype=float32),\n",
       "  'logits': array([ 0.3740344], dtype=float32),\n",
       "  'probabilities': array([ 0.40756652,  0.59243345], dtype=float32)},\n",
       " {'class_ids': array([0], dtype=int64),\n",
       "  'classes': array([b'0'], dtype=object),\n",
       "  'logistic': array([ 0.31346381], dtype=float32),\n",
       "  'logits': array([-0.78397501], dtype=float32),\n",
       "  'probabilities': array([ 0.68653619,  0.31346381], dtype=float32)},\n",
       " {'class_ids': array([1], dtype=int64),\n",
       "  'classes': array([b'1'], dtype=object),\n",
       "  'logistic': array([ 0.62219757], dtype=float32),\n",
       "  'logits': array([ 0.49888635], dtype=float32),\n",
       "  'probabilities': array([ 0.37780243,  0.62219757], dtype=float32)},\n",
       " {'class_ids': array([0], dtype=int64),\n",
       "  'classes': array([b'0'], dtype=object),\n",
       "  'logistic': array([ 0.13349363], dtype=float32),\n",
       "  'logits': array([-1.87041569], dtype=float32),\n",
       "  'probabilities': array([ 0.86650634,  0.13349362], dtype=float32)},\n",
       " {'class_ids': array([1], dtype=int64),\n",
       "  'classes': array([b'1'], dtype=object),\n",
       "  'logistic': array([ 0.62797123], dtype=float32),\n",
       "  'logits': array([ 0.52352321], dtype=float32),\n",
       "  'probabilities': array([ 0.37202877,  0.62797123], dtype=float32)},\n",
       " {'class_ids': array([0], dtype=int64),\n",
       "  'classes': array([b'0'], dtype=object),\n",
       "  'logistic': array([ 0.12752123], dtype=float32),\n",
       "  'logits': array([-1.92305541], dtype=float32),\n",
       "  'probabilities': array([ 0.87247878,  0.12752125], dtype=float32)},\n",
       " {'class_ids': array([1], dtype=int64),\n",
       "  'classes': array([b'1'], dtype=object),\n",
       "  'logistic': array([ 0.54502559], dtype=float32),\n",
       "  'logits': array([ 0.18059158], dtype=float32),\n",
       "  'probabilities': array([ 0.45497441,  0.54502559], dtype=float32)},\n",
       " {'class_ids': array([0], dtype=int64),\n",
       "  'classes': array([b'0'], dtype=object),\n",
       "  'logistic': array([ 0.34383705], dtype=float32),\n",
       "  'logits': array([-0.64624119], dtype=float32),\n",
       "  'probabilities': array([ 0.65616292,  0.34383705], dtype=float32)},\n",
       " {'class_ids': array([0], dtype=int64),\n",
       "  'classes': array([b'0'], dtype=object),\n",
       "  'logistic': array([ 0.16826406], dtype=float32),\n",
       "  'logits': array([-1.5979805], dtype=float32),\n",
       "  'probabilities': array([ 0.83173597,  0.16826406], dtype=float32)},\n",
       " {'class_ids': array([1], dtype=int64),\n",
       "  'classes': array([b'1'], dtype=object),\n",
       "  'logistic': array([ 0.55853295], dtype=float32),\n",
       "  'logits': array([ 0.23521018], dtype=float32),\n",
       "  'probabilities': array([ 0.44146705,  0.55853295], dtype=float32)},\n",
       " {'class_ids': array([1], dtype=int64),\n",
       "  'classes': array([b'1'], dtype=object),\n",
       "  'logistic': array([ 0.60176504], dtype=float32),\n",
       "  'logits': array([ 0.41282475], dtype=float32),\n",
       "  'probabilities': array([ 0.39823499,  0.60176504], dtype=float32)},\n",
       " {'class_ids': array([1], dtype=int64),\n",
       "  'classes': array([b'1'], dtype=object),\n",
       "  'logistic': array([ 0.55833], dtype=float32),\n",
       "  'logits': array([ 0.23438716], dtype=float32),\n",
       "  'probabilities': array([ 0.44167003,  0.55833   ], dtype=float32)},\n",
       " {'class_ids': array([0], dtype=int64),\n",
       "  'classes': array([b'0'], dtype=object),\n",
       "  'logistic': array([ 0.1695096], dtype=float32),\n",
       "  'logits': array([-1.5891068], dtype=float32),\n",
       "  'probabilities': array([ 0.83049035,  0.16950959], dtype=float32)},\n",
       " {'class_ids': array([0], dtype=int64),\n",
       "  'classes': array([b'0'], dtype=object),\n",
       "  'logistic': array([ 0.37888572], dtype=float32),\n",
       "  'logits': array([-0.49428046], dtype=float32),\n",
       "  'probabilities': array([ 0.62111425,  0.37888569], dtype=float32)},\n",
       " {'class_ids': array([0], dtype=int64),\n",
       "  'classes': array([b'0'], dtype=object),\n",
       "  'logistic': array([ 0.1538316], dtype=float32),\n",
       "  'logits': array([-1.70485985], dtype=float32),\n",
       "  'probabilities': array([ 0.8461684,  0.1538316], dtype=float32)},\n",
       " {'class_ids': array([1], dtype=int64),\n",
       "  'classes': array([b'1'], dtype=object),\n",
       "  'logistic': array([ 0.71180505], dtype=float32),\n",
       "  'logits': array([ 0.90416694], dtype=float32),\n",
       "  'probabilities': array([ 0.28819492,  0.71180505], dtype=float32)},\n",
       " {'class_ids': array([1], dtype=int64),\n",
       "  'classes': array([b'1'], dtype=object),\n",
       "  'logistic': array([ 0.80073017], dtype=float32),\n",
       "  'logits': array([ 1.39086413], dtype=float32),\n",
       "  'probabilities': array([ 0.19926985,  0.80073017], dtype=float32)},\n",
       " {'class_ids': array([1], dtype=int64),\n",
       "  'classes': array([b'1'], dtype=object),\n",
       "  'logistic': array([ 0.63765275], dtype=float32),\n",
       "  'logits': array([ 0.56519079], dtype=float32),\n",
       "  'probabilities': array([ 0.36234728,  0.63765275], dtype=float32)},\n",
       " {'class_ids': array([0], dtype=int64),\n",
       "  'classes': array([b'0'], dtype=object),\n",
       "  'logistic': array([ 0.22252022], dtype=float32),\n",
       "  'logits': array([-1.25103962], dtype=float32),\n",
       "  'probabilities': array([ 0.77747977,  0.22252022], dtype=float32)},\n",
       " {'class_ids': array([0], dtype=int64),\n",
       "  'classes': array([b'0'], dtype=object),\n",
       "  'logistic': array([ 0.46913627], dtype=float32),\n",
       "  'logits': array([-0.12361199], dtype=float32),\n",
       "  'probabilities': array([ 0.5308637,  0.4691363], dtype=float32)},\n",
       " {'class_ids': array([0], dtype=int64),\n",
       "  'classes': array([b'0'], dtype=object),\n",
       "  'logistic': array([ 0.38678825], dtype=float32),\n",
       "  'logits': array([-0.46083295], dtype=float32),\n",
       "  'probabilities': array([ 0.61321175,  0.38678825], dtype=float32)},\n",
       " {'class_ids': array([0], dtype=int64),\n",
       "  'classes': array([b'0'], dtype=object),\n",
       "  'logistic': array([ 0.45432776], dtype=float32),\n",
       "  'logits': array([-0.18319964], dtype=float32),\n",
       "  'probabilities': array([ 0.54567224,  0.45432773], dtype=float32)},\n",
       " {'class_ids': array([0], dtype=int64),\n",
       "  'classes': array([b'0'], dtype=object),\n",
       "  'logistic': array([ 0.35296628], dtype=float32),\n",
       "  'logits': array([-0.60602593], dtype=float32),\n",
       "  'probabilities': array([ 0.64703375,  0.35296628], dtype=float32)},\n",
       " {'class_ids': array([0], dtype=int64),\n",
       "  'classes': array([b'0'], dtype=object),\n",
       "  'logistic': array([ 0.44259483], dtype=float32),\n",
       "  'logits': array([-0.23063755], dtype=float32),\n",
       "  'probabilities': array([ 0.55740517,  0.44259489], dtype=float32)},\n",
       " {'class_ids': array([0], dtype=int64),\n",
       "  'classes': array([b'0'], dtype=object),\n",
       "  'logistic': array([ 0.15875565], dtype=float32),\n",
       "  'logits': array([-1.66751599], dtype=float32),\n",
       "  'probabilities': array([ 0.8412444 ,  0.15875565], dtype=float32)},\n",
       " {'class_ids': array([1], dtype=int64),\n",
       "  'classes': array([b'1'], dtype=object),\n",
       "  'logistic': array([ 0.56790513], dtype=float32),\n",
       "  'logits': array([ 0.27330899], dtype=float32),\n",
       "  'probabilities': array([ 0.43209496,  0.56790513], dtype=float32)},\n",
       " {'class_ids': array([1], dtype=int64),\n",
       "  'classes': array([b'1'], dtype=object),\n",
       "  'logistic': array([ 0.54857755], dtype=float32),\n",
       "  'logits': array([ 0.19492507], dtype=float32),\n",
       "  'probabilities': array([ 0.45142242,  0.54857755], dtype=float32)},\n",
       " {'class_ids': array([0], dtype=int64),\n",
       "  'classes': array([b'0'], dtype=object),\n",
       "  'logistic': array([ 0.25654867], dtype=float32),\n",
       "  'logits': array([-1.06398487], dtype=float32),\n",
       "  'probabilities': array([ 0.7434513 ,  0.25654867], dtype=float32)},\n",
       " {'class_ids': array([0], dtype=int64),\n",
       "  'classes': array([b'0'], dtype=object),\n",
       "  'logistic': array([ 0.18418732], dtype=float32),\n",
       "  'logits': array([-1.48823154], dtype=float32),\n",
       "  'probabilities': array([ 0.81581271,  0.18418732], dtype=float32)},\n",
       " {'class_ids': array([0], dtype=int64),\n",
       "  'classes': array([b'0'], dtype=object),\n",
       "  'logistic': array([ 0.17212398], dtype=float32),\n",
       "  'logits': array([-1.57064843], dtype=float32),\n",
       "  'probabilities': array([ 0.82787603,  0.17212398], dtype=float32)},\n",
       " {'class_ids': array([0], dtype=int64),\n",
       "  'classes': array([b'0'], dtype=object),\n",
       "  'logistic': array([ 0.28539729], dtype=float32),\n",
       "  'logits': array([-0.91784459], dtype=float32),\n",
       "  'probabilities': array([ 0.71460271,  0.28539729], dtype=float32)},\n",
       " {'class_ids': array([0], dtype=int64),\n",
       "  'classes': array([b'0'], dtype=object),\n",
       "  'logistic': array([ 0.37331313], dtype=float32),\n",
       "  'logits': array([-0.51802945], dtype=float32),\n",
       "  'probabilities': array([ 0.62668687,  0.37331313], dtype=float32)},\n",
       " {'class_ids': array([0], dtype=int64),\n",
       "  'classes': array([b'0'], dtype=object),\n",
       "  'logistic': array([ 0.1410432], dtype=float32),\n",
       "  'logits': array([-1.80665231], dtype=float32),\n",
       "  'probabilities': array([ 0.85895675,  0.14104322], dtype=float32)},\n",
       " {'class_ids': array([0], dtype=int64),\n",
       "  'classes': array([b'0'], dtype=object),\n",
       "  'logistic': array([ 0.33281752], dtype=float32),\n",
       "  'logits': array([-0.69546914], dtype=float32),\n",
       "  'probabilities': array([ 0.66718245,  0.33281752], dtype=float32)},\n",
       " {'class_ids': array([0], dtype=int64),\n",
       "  'classes': array([b'0'], dtype=object),\n",
       "  'logistic': array([ 0.22759156], dtype=float32),\n",
       "  'logits': array([-1.2219609], dtype=float32),\n",
       "  'probabilities': array([ 0.77240849,  0.22759156], dtype=float32)},\n",
       " {'class_ids': array([0], dtype=int64),\n",
       "  'classes': array([b'0'], dtype=object),\n",
       "  'logistic': array([ 0.0984914], dtype=float32),\n",
       "  'logits': array([-2.21410036], dtype=float32),\n",
       "  'probabilities': array([ 0.90150863,  0.09849141], dtype=float32)},\n",
       " {'class_ids': array([0], dtype=int64),\n",
       "  'classes': array([b'0'], dtype=object),\n",
       "  'logistic': array([ 0.13072477], dtype=float32),\n",
       "  'logits': array([-1.89456558], dtype=float32),\n",
       "  'probabilities': array([ 0.86927515,  0.13072477], dtype=float32)},\n",
       " {'class_ids': array([1], dtype=int64),\n",
       "  'classes': array([b'1'], dtype=object),\n",
       "  'logistic': array([ 0.73920774], dtype=float32),\n",
       "  'logits': array([ 1.0418551], dtype=float32),\n",
       "  'probabilities': array([ 0.2607922 ,  0.73920774], dtype=float32)},\n",
       " {'class_ids': array([0], dtype=int64),\n",
       "  'classes': array([b'0'], dtype=object),\n",
       "  'logistic': array([ 0.18072477], dtype=float32),\n",
       "  'logits': array([-1.51144481], dtype=float32),\n",
       "  'probabilities': array([ 0.8192752 ,  0.18072477], dtype=float32)},\n",
       " {'class_ids': array([0], dtype=int64),\n",
       "  'classes': array([b'0'], dtype=object),\n",
       "  'logistic': array([ 0.13699949], dtype=float32),\n",
       "  'logits': array([-1.84043813], dtype=float32),\n",
       "  'probabilities': array([ 0.86300045,  0.13699947], dtype=float32)},\n",
       " {'class_ids': array([0], dtype=int64),\n",
       "  'classes': array([b'0'], dtype=object),\n",
       "  'logistic': array([ 0.15057892], dtype=float32),\n",
       "  'logits': array([-1.73006773], dtype=float32),\n",
       "  'probabilities': array([ 0.84942108,  0.15057892], dtype=float32)},\n",
       " {'class_ids': array([0], dtype=int64),\n",
       "  'classes': array([b'0'], dtype=object),\n",
       "  'logistic': array([ 0.49098969], dtype=float32),\n",
       "  'logits': array([-0.03604519], dtype=float32),\n",
       "  'probabilities': array([ 0.50901031,  0.49098966], dtype=float32)},\n",
       " {'class_ids': array([0], dtype=int64),\n",
       "  'classes': array([b'0'], dtype=object),\n",
       "  'logistic': array([ 0.44856977], dtype=float32),\n",
       "  'logits': array([-0.20645124], dtype=float32),\n",
       "  'probabilities': array([ 0.55143028,  0.44856977], dtype=float32)},\n",
       " {'class_ids': array([0], dtype=int64),\n",
       "  'classes': array([b'0'], dtype=object),\n",
       "  'logistic': array([ 0.24322933], dtype=float32),\n",
       "  'logits': array([-1.13505542], dtype=float32),\n",
       "  'probabilities': array([ 0.75677061,  0.24322933], dtype=float32)},\n",
       " {'class_ids': array([0], dtype=int64),\n",
       "  'classes': array([b'0'], dtype=object),\n",
       "  'logistic': array([ 0.44850463], dtype=float32),\n",
       "  'logits': array([-0.20671445], dtype=float32),\n",
       "  'probabilities': array([ 0.55149537,  0.44850463], dtype=float32)},\n",
       " {'class_ids': array([0], dtype=int64),\n",
       "  'classes': array([b'0'], dtype=object),\n",
       "  'logistic': array([ 0.19293348], dtype=float32),\n",
       "  'logits': array([-1.43106067], dtype=float32),\n",
       "  'probabilities': array([ 0.8070665 ,  0.19293347], dtype=float32)},\n",
       " {'class_ids': array([0], dtype=int64),\n",
       "  'classes': array([b'0'], dtype=object),\n",
       "  'logistic': array([ 0.24314986], dtype=float32),\n",
       "  'logits': array([-1.1354872], dtype=float32),\n",
       "  'probabilities': array([ 0.75685012,  0.24314989], dtype=float32)},\n",
       " {'class_ids': array([1], dtype=int64),\n",
       "  'classes': array([b'1'], dtype=object),\n",
       "  'logistic': array([ 0.53485596], dtype=float32),\n",
       "  'logits': array([ 0.13965034], dtype=float32),\n",
       "  'probabilities': array([ 0.46514407,  0.53485596], dtype=float32)},\n",
       " {'class_ids': array([0], dtype=int64),\n",
       "  'classes': array([b'0'], dtype=object),\n",
       "  'logistic': array([ 0.48389152], dtype=float32),\n",
       "  'logits': array([-0.06445605], dtype=float32),\n",
       "  'probabilities': array([ 0.51610845,  0.48389158], dtype=float32)},\n",
       " {'class_ids': array([0], dtype=int64),\n",
       "  'classes': array([b'0'], dtype=object),\n",
       "  'logistic': array([ 0.14099109], dtype=float32),\n",
       "  'logits': array([-1.80708253], dtype=float32),\n",
       "  'probabilities': array([ 0.85900885,  0.14099109], dtype=float32)},\n",
       " {'class_ids': array([0], dtype=int64),\n",
       "  'classes': array([b'0'], dtype=object),\n",
       "  'logistic': array([ 0.38379392], dtype=float32),\n",
       "  'logits': array([-0.47347581], dtype=float32),\n",
       "  'probabilities': array([ 0.61620605,  0.38379386], dtype=float32)},\n",
       " {'class_ids': array([1], dtype=int64),\n",
       "  'classes': array([b'1'], dtype=object),\n",
       "  'logistic': array([ 0.6598413], dtype=float32),\n",
       "  'logits': array([ 0.66258705], dtype=float32),\n",
       "  'probabilities': array([ 0.3401587,  0.6598413], dtype=float32)},\n",
       " {'class_ids': array([1], dtype=int64),\n",
       "  'classes': array([b'1'], dtype=object),\n",
       "  'logistic': array([ 0.52682179], dtype=float32),\n",
       "  'logits': array([ 0.1073904], dtype=float32),\n",
       "  'probabilities': array([ 0.47317812,  0.52682179], dtype=float32)},\n",
       " {'class_ids': array([0], dtype=int64),\n",
       "  'classes': array([b'0'], dtype=object),\n",
       "  'logistic': array([ 0.37991402], dtype=float32),\n",
       "  'logits': array([-0.48991317], dtype=float32),\n",
       "  'probabilities': array([ 0.62008595,  0.37991402], dtype=float32)},\n",
       " {'class_ids': array([1], dtype=int64),\n",
       "  'classes': array([b'1'], dtype=object),\n",
       "  'logistic': array([ 0.56903797], dtype=float32),\n",
       "  'logits': array([ 0.2779274], dtype=float32),\n",
       "  'probabilities': array([ 0.43096194,  0.56903797], dtype=float32)},\n",
       " {'class_ids': array([0], dtype=int64),\n",
       "  'classes': array([b'0'], dtype=object),\n",
       "  'logistic': array([ 0.22006565], dtype=float32),\n",
       "  'logits': array([-1.26528382], dtype=float32),\n",
       "  'probabilities': array([ 0.77993435,  0.22006565], dtype=float32)},\n",
       " {'class_ids': array([0], dtype=int64),\n",
       "  'classes': array([b'0'], dtype=object),\n",
       "  'logistic': array([ 0.19681075], dtype=float32),\n",
       "  'logits': array([-1.40634775], dtype=float32),\n",
       "  'probabilities': array([ 0.80318922,  0.19681075], dtype=float32)},\n",
       " {'class_ids': array([0], dtype=int64),\n",
       "  'classes': array([b'0'], dtype=object),\n",
       "  'logistic': array([ 0.1392483], dtype=float32),\n",
       "  'logits': array([-1.82154751], dtype=float32),\n",
       "  'probabilities': array([ 0.86075169,  0.13924828], dtype=float32)},\n",
       " {'class_ids': array([0], dtype=int64),\n",
       "  'classes': array([b'0'], dtype=object),\n",
       "  'logistic': array([ 0.2763657], dtype=float32),\n",
       "  'logits': array([-0.96256113], dtype=float32),\n",
       "  'probabilities': array([ 0.72363436,  0.27636573], dtype=float32)},\n",
       " {'class_ids': array([0], dtype=int64),\n",
       "  'classes': array([b'0'], dtype=object),\n",
       "  'logistic': array([ 0.49664369], dtype=float32),\n",
       "  'logits': array([-0.01342535], dtype=float32),\n",
       "  'probabilities': array([ 0.50335628,  0.49664369], dtype=float32)},\n",
       " {'class_ids': array([1], dtype=int64),\n",
       "  'classes': array([b'1'], dtype=object),\n",
       "  'logistic': array([ 0.67061353], dtype=float32),\n",
       "  'logits': array([ 0.7109611], dtype=float32),\n",
       "  'probabilities': array([ 0.32938653,  0.67061353], dtype=float32)},\n",
       " {'class_ids': array([0], dtype=int64),\n",
       "  'classes': array([b'0'], dtype=object),\n",
       "  'logistic': array([ 0.22917137], dtype=float32),\n",
       "  'logits': array([-1.21299601], dtype=float32),\n",
       "  'probabilities': array([ 0.7708286 ,  0.22917137], dtype=float32)},\n",
       " {'class_ids': array([0], dtype=int64),\n",
       "  'classes': array([b'0'], dtype=object),\n",
       "  'logistic': array([ 0.16865161], dtype=float32),\n",
       "  'logits': array([-1.59521377], dtype=float32),\n",
       "  'probabilities': array([ 0.83134842,  0.16865163], dtype=float32)},\n",
       " {'class_ids': array([0], dtype=int64),\n",
       "  'classes': array([b'0'], dtype=object),\n",
       "  'logistic': array([ 0.41475213], dtype=float32),\n",
       "  'logits': array([-0.34435445], dtype=float32),\n",
       "  'probabilities': array([ 0.58524787,  0.4147521 ], dtype=float32)},\n",
       " {'class_ids': array([0], dtype=int64),\n",
       "  'classes': array([b'0'], dtype=object),\n",
       "  'logistic': array([ 0.23217148], dtype=float32),\n",
       "  'logits': array([-1.19609022], dtype=float32),\n",
       "  'probabilities': array([ 0.76782852,  0.23217148], dtype=float32)},\n",
       " {'class_ids': array([0], dtype=int64),\n",
       "  'classes': array([b'0'], dtype=object),\n",
       "  'logistic': array([ 0.1480678], dtype=float32),\n",
       "  'logits': array([-1.74983668], dtype=float32),\n",
       "  'probabilities': array([ 0.85193217,  0.1480678 ], dtype=float32)},\n",
       " {'class_ids': array([0], dtype=int64),\n",
       "  'classes': array([b'0'], dtype=object),\n",
       "  'logistic': array([ 0.19248316], dtype=float32),\n",
       "  'logits': array([-1.43395519], dtype=float32),\n",
       "  'probabilities': array([ 0.80751687,  0.19248317], dtype=float32)},\n",
       " {'class_ids': array([0], dtype=int64),\n",
       "  'classes': array([b'0'], dtype=object),\n",
       "  'logistic': array([ 0.13086519], dtype=float32),\n",
       "  'logits': array([-1.89333057], dtype=float32),\n",
       "  'probabilities': array([ 0.86913484,  0.1308652 ], dtype=float32)},\n",
       " {'class_ids': array([0], dtype=int64),\n",
       "  'classes': array([b'0'], dtype=object),\n",
       "  'logistic': array([ 0.41914254], dtype=float32),\n",
       "  'logits': array([-0.32629442], dtype=float32),\n",
       "  'probabilities': array([ 0.58085752,  0.41914251], dtype=float32)},\n",
       " {'class_ids': array([1], dtype=int64),\n",
       "  'classes': array([b'1'], dtype=object),\n",
       "  'logistic': array([ 0.75611192], dtype=float32),\n",
       "  'logits': array([ 1.13147998], dtype=float32),\n",
       "  'probabilities': array([ 0.2438881 ,  0.75611192], dtype=float32)},\n",
       " {'class_ids': array([1], dtype=int64),\n",
       "  'classes': array([b'1'], dtype=object),\n",
       "  'logistic': array([ 0.76890731], dtype=float32),\n",
       "  'logits': array([ 1.20215154], dtype=float32),\n",
       "  'probabilities': array([ 0.23109269,  0.76890731], dtype=float32)},\n",
       " {'class_ids': array([1], dtype=int64),\n",
       "  'classes': array([b'1'], dtype=object),\n",
       "  'logistic': array([ 0.53682369], dtype=float32),\n",
       "  'logits': array([ 0.14756203], dtype=float32),\n",
       "  'probabilities': array([ 0.46317628,  0.53682369], dtype=float32)},\n",
       " {'class_ids': array([1], dtype=int64),\n",
       "  'classes': array([b'1'], dtype=object),\n",
       "  'logistic': array([ 0.5000304], dtype=float32),\n",
       "  'logits': array([ 0.00012159], dtype=float32),\n",
       "  'probabilities': array([ 0.4999696,  0.5000304], dtype=float32)},\n",
       " {'class_ids': array([1], dtype=int64),\n",
       "  'classes': array([b'1'], dtype=object),\n",
       "  'logistic': array([ 0.56890261], dtype=float32),\n",
       "  'logits': array([ 0.27737522], dtype=float32),\n",
       "  'probabilities': array([ 0.43109739,  0.56890261], dtype=float32)},\n",
       " {'class_ids': array([0], dtype=int64),\n",
       "  'classes': array([b'0'], dtype=object),\n",
       "  'logistic': array([ 0.11679357], dtype=float32),\n",
       "  'logits': array([-2.02315092], dtype=float32),\n",
       "  'probabilities': array([ 0.88320643,  0.11679357], dtype=float32)},\n",
       " {'class_ids': array([1], dtype=int64),\n",
       "  'classes': array([b'1'], dtype=object),\n",
       "  'logistic': array([ 0.51752418], dtype=float32),\n",
       "  'logits': array([ 0.07012534], dtype=float32),\n",
       "  'probabilities': array([ 0.48247588,  0.51752418], dtype=float32)},\n",
       " {'class_ids': array([1], dtype=int64),\n",
       "  'classes': array([b'1'], dtype=object),\n",
       "  'logistic': array([ 0.75787765], dtype=float32),\n",
       "  'logits': array([ 1.14107871], dtype=float32),\n",
       "  'probabilities': array([ 0.24212237,  0.75787765], dtype=float32)},\n",
       " {'class_ids': array([0], dtype=int64),\n",
       "  'classes': array([b'0'], dtype=object),\n",
       "  'logistic': array([ 0.41651154], dtype=float32),\n",
       "  'logits': array([-0.33711052], dtype=float32),\n",
       "  'probabilities': array([ 0.58348846,  0.41651154], dtype=float32)},\n",
       " {'class_ids': array([0], dtype=int64),\n",
       "  'classes': array([b'0'], dtype=object),\n",
       "  'logistic': array([ 0.27319697], dtype=float32),\n",
       "  'logits': array([-0.97846252], dtype=float32),\n",
       "  'probabilities': array([ 0.72680306,  0.27319697], dtype=float32)},\n",
       " {'class_ids': array([0], dtype=int64),\n",
       "  'classes': array([b'0'], dtype=object),\n",
       "  'logistic': array([ 0.34118018], dtype=float32),\n",
       "  'logits': array([-0.65803927], dtype=float32),\n",
       "  'probabilities': array([ 0.65881985,  0.34118021], dtype=float32)},\n",
       " {'class_ids': array([1], dtype=int64),\n",
       "  'classes': array([b'1'], dtype=object),\n",
       "  'logistic': array([ 0.59374529], dtype=float32),\n",
       "  'logits': array([ 0.37946999], dtype=float32),\n",
       "  'probabilities': array([ 0.40625474,  0.59374529], dtype=float32)},\n",
       " {'class_ids': array([0], dtype=int64),\n",
       "  'classes': array([b'0'], dtype=object),\n",
       "  'logistic': array([ 0.23359074], dtype=float32),\n",
       "  'logits': array([-1.18814564], dtype=float32),\n",
       "  'probabilities': array([ 0.76640922,  0.23359075], dtype=float32)},\n",
       " {'class_ids': array([1], dtype=int64),\n",
       "  'classes': array([b'1'], dtype=object),\n",
       "  'logistic': array([ 0.64618915], dtype=float32),\n",
       "  'logits': array([ 0.60232973], dtype=float32),\n",
       "  'probabilities': array([ 0.35381088,  0.64618915], dtype=float32)},\n",
       " {'class_ids': array([0], dtype=int64),\n",
       "  'classes': array([b'0'], dtype=object),\n",
       "  'logistic': array([ 0.41743833], dtype=float32),\n",
       "  'logits': array([-0.33329821], dtype=float32),\n",
       "  'probabilities': array([ 0.58256161,  0.4174383 ], dtype=float32)},\n",
       " {'class_ids': array([0], dtype=int64),\n",
       "  'classes': array([b'0'], dtype=object),\n",
       "  'logistic': array([ 0.41044003], dtype=float32),\n",
       "  'logits': array([-0.3621465], dtype=float32),\n",
       "  'probabilities': array([ 0.58955997,  0.41044006], dtype=float32)},\n",
       " {'class_ids': array([0], dtype=int64),\n",
       "  'classes': array([b'0'], dtype=object),\n",
       "  'logistic': array([ 0.16075933], dtype=float32),\n",
       "  'logits': array([-1.6525892], dtype=float32),\n",
       "  'probabilities': array([ 0.83924061,  0.1607593 ], dtype=float32)},\n",
       " {'class_ids': array([0], dtype=int64),\n",
       "  'classes': array([b'0'], dtype=object),\n",
       "  'logistic': array([ 0.19941936], dtype=float32),\n",
       "  'logits': array([-1.38992739], dtype=float32),\n",
       "  'probabilities': array([ 0.80058062,  0.19941935], dtype=float32)},\n",
       " {'class_ids': array([0], dtype=int64),\n",
       "  'classes': array([b'0'], dtype=object),\n",
       "  'logistic': array([ 0.18894529], dtype=float32),\n",
       "  'logits': array([-1.45687795], dtype=float32),\n",
       "  'probabilities': array([ 0.81105471,  0.18894529], dtype=float32)},\n",
       " {'class_ids': array([0], dtype=int64),\n",
       "  'classes': array([b'0'], dtype=object),\n",
       "  'logistic': array([ 0.42828915], dtype=float32),\n",
       "  'logits': array([-0.28883493], dtype=float32),\n",
       "  'probabilities': array([ 0.57171088,  0.42828912], dtype=float32)},\n",
       " {'class_ids': array([0], dtype=int64),\n",
       "  'classes': array([b'0'], dtype=object),\n",
       "  'logistic': array([ 0.15137221], dtype=float32),\n",
       "  'logits': array([-1.72387886], dtype=float32),\n",
       "  'probabilities': array([ 0.84862781,  0.15137222], dtype=float32)},\n",
       " {'class_ids': array([1], dtype=int64),\n",
       "  'classes': array([b'1'], dtype=object),\n",
       "  'logistic': array([ 0.7509166], dtype=float32),\n",
       "  'logits': array([ 1.1035068], dtype=float32),\n",
       "  'probabilities': array([ 0.2490834,  0.7509166], dtype=float32)},\n",
       " {'class_ids': array([0], dtype=int64),\n",
       "  'classes': array([b'0'], dtype=object),\n",
       "  'logistic': array([ 0.19928862], dtype=float32),\n",
       "  'logits': array([-1.39074647], dtype=float32),\n",
       "  'probabilities': array([ 0.80071139,  0.19928862], dtype=float32)},\n",
       " {'class_ids': array([1], dtype=int64),\n",
       "  'classes': array([b'1'], dtype=object),\n",
       "  'logistic': array([ 0.51757592], dtype=float32),\n",
       "  'logits': array([ 0.07033265], dtype=float32),\n",
       "  'probabilities': array([ 0.48242408,  0.51757592], dtype=float32)},\n",
       " {'class_ids': array([0], dtype=int64),\n",
       "  'classes': array([b'0'], dtype=object),\n",
       "  'logistic': array([ 0.15813437], dtype=float32),\n",
       "  'logits': array([-1.67217541], dtype=float32),\n",
       "  'probabilities': array([ 0.84186566,  0.15813436], dtype=float32)},\n",
       " {'class_ids': array([1], dtype=int64),\n",
       "  'classes': array([b'1'], dtype=object),\n",
       "  'logistic': array([ 0.67936254], dtype=float32),\n",
       "  'logits': array([ 0.75084376], dtype=float32),\n",
       "  'probabilities': array([ 0.32063746,  0.67936254], dtype=float32)},\n",
       " {'class_ids': array([0], dtype=int64),\n",
       "  'classes': array([b'0'], dtype=object),\n",
       "  'logistic': array([ 0.30913761], dtype=float32),\n",
       "  'logits': array([-0.80415416], dtype=float32),\n",
       "  'probabilities': array([ 0.69086242,  0.30913761], dtype=float32)},\n",
       " {'class_ids': array([0], dtype=int64),\n",
       "  'classes': array([b'0'], dtype=object),\n",
       "  'logistic': array([ 0.20330234], dtype=float32),\n",
       "  'logits': array([-1.36578107], dtype=float32),\n",
       "  'probabilities': array([ 0.79669768,  0.20330234], dtype=float32)},\n",
       " {'class_ids': array([0], dtype=int64),\n",
       "  'classes': array([b'0'], dtype=object),\n",
       "  'logistic': array([ 0.33304453], dtype=float32),\n",
       "  'logits': array([-0.69444704], dtype=float32),\n",
       "  'probabilities': array([ 0.66695541,  0.3330445 ], dtype=float32)},\n",
       " {'class_ids': array([0], dtype=int64),\n",
       "  'classes': array([b'0'], dtype=object),\n",
       "  'logistic': array([ 0.33472049], dtype=float32),\n",
       "  'logits': array([-0.68691146], dtype=float32),\n",
       "  'probabilities': array([ 0.66527951,  0.33472046], dtype=float32)},\n",
       " {'class_ids': array([0], dtype=int64),\n",
       "  'classes': array([b'0'], dtype=object),\n",
       "  'logistic': array([ 0.17937058], dtype=float32),\n",
       "  'logits': array([-1.52061772], dtype=float32),\n",
       "  'probabilities': array([ 0.82062948,  0.17937058], dtype=float32)},\n",
       " {'class_ids': array([1], dtype=int64),\n",
       "  'classes': array([b'1'], dtype=object),\n",
       "  'logistic': array([ 0.69398713], dtype=float32),\n",
       "  'logits': array([ 0.81882608], dtype=float32),\n",
       "  'probabilities': array([ 0.30601293,  0.69398713], dtype=float32)},\n",
       " {'class_ids': array([0], dtype=int64),\n",
       "  'classes': array([b'0'], dtype=object),\n",
       "  'logistic': array([ 0.2052922], dtype=float32),\n",
       "  'logits': array([-1.35354018], dtype=float32),\n",
       "  'probabilities': array([ 0.79470778,  0.20529218], dtype=float32)},\n",
       " {'class_ids': array([0], dtype=int64),\n",
       "  'classes': array([b'0'], dtype=object),\n",
       "  'logistic': array([ 0.1867101], dtype=float32),\n",
       "  'logits': array([-1.47153044], dtype=float32),\n",
       "  'probabilities': array([ 0.81328988,  0.1867101 ], dtype=float32)},\n",
       " {'class_ids': array([0], dtype=int64),\n",
       "  'classes': array([b'0'], dtype=object),\n",
       "  'logistic': array([ 0.26204479], dtype=float32),\n",
       "  'logits': array([-1.03536773], dtype=float32),\n",
       "  'probabilities': array([ 0.73795521,  0.26204479], dtype=float32)},\n",
       " {'class_ids': array([0], dtype=int64),\n",
       "  'classes': array([b'0'], dtype=object),\n",
       "  'logistic': array([ 0.4495427], dtype=float32),\n",
       "  'logits': array([-0.20251858], dtype=float32),\n",
       "  'probabilities': array([ 0.5504573 ,  0.44954267], dtype=float32)},\n",
       " {'class_ids': array([0], dtype=int64),\n",
       "  'classes': array([b'0'], dtype=object),\n",
       "  'logistic': array([ 0.26509807], dtype=float32),\n",
       "  'logits': array([-1.01963723], dtype=float32),\n",
       "  'probabilities': array([ 0.73490196,  0.26509807], dtype=float32)},\n",
       " {'class_ids': array([0], dtype=int64),\n",
       "  'classes': array([b'0'], dtype=object),\n",
       "  'logistic': array([ 0.12272478], dtype=float32),\n",
       "  'logits': array([-1.96687651], dtype=float32),\n",
       "  'probabilities': array([ 0.87727517,  0.12272477], dtype=float32)},\n",
       " {'class_ids': array([1], dtype=int64),\n",
       "  'classes': array([b'1'], dtype=object),\n",
       "  'logistic': array([ 0.82946545], dtype=float32),\n",
       "  'logits': array([ 1.58184361], dtype=float32),\n",
       "  'probabilities': array([ 0.17053454,  0.82946545], dtype=float32)},\n",
       " {'class_ids': array([1], dtype=int64),\n",
       "  'classes': array([b'1'], dtype=object),\n",
       "  'logistic': array([ 0.67172486], dtype=float32),\n",
       "  'logits': array([ 0.71599662], dtype=float32),\n",
       "  'probabilities': array([ 0.32827517,  0.67172486], dtype=float32)},\n",
       " {'class_ids': array([1], dtype=int64),\n",
       "  'classes': array([b'1'], dtype=object),\n",
       "  'logistic': array([ 0.52218121], dtype=float32),\n",
       "  'logits': array([ 0.08878303], dtype=float32),\n",
       "  'probabilities': array([ 0.47781882,  0.52218121], dtype=float32)},\n",
       " {'class_ids': array([1], dtype=int64),\n",
       "  'classes': array([b'1'], dtype=object),\n",
       "  'logistic': array([ 0.71085542], dtype=float32),\n",
       "  'logits': array([ 0.89954221], dtype=float32),\n",
       "  'probabilities': array([ 0.28914461,  0.71085542], dtype=float32)},\n",
       " {'class_ids': array([0], dtype=int64),\n",
       "  'classes': array([b'0'], dtype=object),\n",
       "  'logistic': array([ 0.1310631], dtype=float32),\n",
       "  'logits': array([-1.89159155], dtype=float32),\n",
       "  'probabilities': array([ 0.8689369 ,  0.13106312], dtype=float32)},\n",
       " {'class_ids': array([0], dtype=int64),\n",
       "  'classes': array([b'0'], dtype=object),\n",
       "  'logistic': array([ 0.14442018], dtype=float32),\n",
       "  'logits': array([-1.7790525], dtype=float32),\n",
       "  'probabilities': array([ 0.85557985,  0.14442016], dtype=float32)},\n",
       " {'class_ids': array([0], dtype=int64),\n",
       "  'classes': array([b'0'], dtype=object),\n",
       "  'logistic': array([ 0.21737565], dtype=float32),\n",
       "  'logits': array([-1.28102589], dtype=float32),\n",
       "  'probabilities': array([ 0.78262436,  0.21737565], dtype=float32)},\n",
       " {'class_ids': array([0], dtype=int64),\n",
       "  'classes': array([b'0'], dtype=object),\n",
       "  'logistic': array([ 0.33438212], dtype=float32),\n",
       "  'logits': array([-0.68843138], dtype=float32),\n",
       "  'probabilities': array([ 0.66561788,  0.33438209], dtype=float32)},\n",
       " {'class_ids': array([0], dtype=int64),\n",
       "  'classes': array([b'0'], dtype=object),\n",
       "  'logistic': array([ 0.37561575], dtype=float32),\n",
       "  'logits': array([-0.50819921], dtype=float32),\n",
       "  'probabilities': array([ 0.62438422,  0.37561578], dtype=float32)},\n",
       " {'class_ids': array([1], dtype=int64),\n",
       "  'classes': array([b'1'], dtype=object),\n",
       "  'logistic': array([ 0.54194605], dtype=float32),\n",
       "  'logits': array([ 0.16817939], dtype=float32),\n",
       "  'probabilities': array([ 0.45805401,  0.54194605], dtype=float32)},\n",
       " {'class_ids': array([1], dtype=int64),\n",
       "  'classes': array([b'1'], dtype=object),\n",
       "  'logistic': array([ 0.56037748], dtype=float32),\n",
       "  'logits': array([ 0.24269414], dtype=float32),\n",
       "  'probabilities': array([ 0.43962255,  0.56037748], dtype=float32)},\n",
       " {'class_ids': array([0], dtype=int64),\n",
       "  'classes': array([b'0'], dtype=object),\n",
       "  'logistic': array([ 0.38510552], dtype=float32),\n",
       "  'logits': array([-0.4679333], dtype=float32),\n",
       "  'probabilities': array([ 0.61489445,  0.38510552], dtype=float32)},\n",
       " {'class_ids': array([0], dtype=int64),\n",
       "  'classes': array([b'0'], dtype=object),\n",
       "  'logistic': array([ 0.35443568], dtype=float32),\n",
       "  'logits': array([-0.59959787], dtype=float32),\n",
       "  'probabilities': array([ 0.64556426,  0.35443568], dtype=float32)},\n",
       " {'class_ids': array([0], dtype=int64),\n",
       "  'classes': array([b'0'], dtype=object),\n",
       "  'logistic': array([ 0.35953447], dtype=float32),\n",
       "  'logits': array([-0.57738525], dtype=float32),\n",
       "  'probabilities': array([ 0.6404655 ,  0.35953447], dtype=float32)},\n",
       " {'class_ids': array([0], dtype=int64),\n",
       "  'classes': array([b'0'], dtype=object),\n",
       "  'logistic': array([ 0.19511083], dtype=float32),\n",
       "  'logits': array([-1.41713691], dtype=float32),\n",
       "  'probabilities': array([ 0.80488914,  0.19511081], dtype=float32)},\n",
       " {'class_ids': array([1], dtype=int64),\n",
       "  'classes': array([b'1'], dtype=object),\n",
       "  'logistic': array([ 0.61043102], dtype=float32),\n",
       "  'logits': array([ 0.44912422], dtype=float32),\n",
       "  'probabilities': array([ 0.38956901,  0.61043102], dtype=float32)},\n",
       " {'class_ids': array([0], dtype=int64),\n",
       "  'classes': array([b'0'], dtype=object),\n",
       "  'logistic': array([ 0.13324851], dtype=float32),\n",
       "  'logits': array([-1.87253642], dtype=float32),\n",
       "  'probabilities': array([ 0.86675149,  0.13324851], dtype=float32)},\n",
       " {'class_ids': array([0], dtype=int64),\n",
       "  'classes': array([b'0'], dtype=object),\n",
       "  'logistic': array([ 0.24026465], dtype=float32),\n",
       "  'logits': array([-1.15122902], dtype=float32),\n",
       "  'probabilities': array([ 0.75973535,  0.24026467], dtype=float32)},\n",
       " {'class_ids': array([1], dtype=int64),\n",
       "  'classes': array([b'1'], dtype=object),\n",
       "  'logistic': array([ 0.53628677], dtype=float32),\n",
       "  'logits': array([ 0.14540267], dtype=float32),\n",
       "  'probabilities': array([ 0.46371326,  0.53628677], dtype=float32)},\n",
       " {'class_ids': array([0], dtype=int64),\n",
       "  'classes': array([b'0'], dtype=object),\n",
       "  'logistic': array([ 0.35020876], dtype=float32),\n",
       "  'logits': array([-0.61812174], dtype=float32),\n",
       "  'probabilities': array([ 0.64979124,  0.35020876], dtype=float32)},\n",
       " {'class_ids': array([0], dtype=int64),\n",
       "  'classes': array([b'0'], dtype=object),\n",
       "  'logistic': array([ 0.20622557], dtype=float32),\n",
       "  'logits': array([-1.34782875], dtype=float32),\n",
       "  'probabilities': array([ 0.79377443,  0.20622556], dtype=float32)},\n",
       " {'class_ids': array([0], dtype=int64),\n",
       "  'classes': array([b'0'], dtype=object),\n",
       "  'logistic': array([ 0.28602928], dtype=float32),\n",
       "  'logits': array([-0.91474771], dtype=float32),\n",
       "  'probabilities': array([ 0.71397066,  0.28602928], dtype=float32)},\n",
       " {'class_ids': array([0], dtype=int64),\n",
       "  'classes': array([b'0'], dtype=object),\n",
       "  'logistic': array([ 0.25578505], dtype=float32),\n",
       "  'logits': array([-1.06799245], dtype=float32),\n",
       "  'probabilities': array([ 0.74421495,  0.25578505], dtype=float32)},\n",
       " {'class_ids': array([0], dtype=int64),\n",
       "  'classes': array([b'0'], dtype=object),\n",
       "  'logistic': array([ 0.13883798], dtype=float32),\n",
       "  'logits': array([-1.82497513], dtype=float32),\n",
       "  'probabilities': array([ 0.86116207,  0.13883798], dtype=float32)},\n",
       " {'class_ids': array([0], dtype=int64),\n",
       "  'classes': array([b'0'], dtype=object),\n",
       "  'logistic': array([ 0.21251328], dtype=float32),\n",
       "  'logits': array([-1.30984199], dtype=float32),\n",
       "  'probabilities': array([ 0.78748673,  0.21251328], dtype=float32)},\n",
       " {'class_ids': array([1], dtype=int64),\n",
       "  'classes': array([b'1'], dtype=object),\n",
       "  'logistic': array([ 0.55871838], dtype=float32),\n",
       "  'logits': array([ 0.23596215], dtype=float32),\n",
       "  'probabilities': array([ 0.44128168,  0.55871838], dtype=float32)},\n",
       " {'class_ids': array([1], dtype=int64),\n",
       "  'classes': array([b'1'], dtype=object),\n",
       "  'logistic': array([ 0.70757467], dtype=float32),\n",
       "  'logits': array([ 0.88363373], dtype=float32),\n",
       "  'probabilities': array([ 0.29242533,  0.70757467], dtype=float32)},\n",
       " {'class_ids': array([1], dtype=int64),\n",
       "  'classes': array([b'1'], dtype=object),\n",
       "  'logistic': array([ 0.62756735], dtype=float32),\n",
       "  'logits': array([ 0.5217948], dtype=float32),\n",
       "  'probabilities': array([ 0.37243265,  0.62756735], dtype=float32)},\n",
       " {'class_ids': array([1], dtype=int64),\n",
       "  'classes': array([b'1'], dtype=object),\n",
       "  'logistic': array([ 0.68342412], dtype=float32),\n",
       "  'logits': array([ 0.76955271], dtype=float32),\n",
       "  'probabilities': array([ 0.31657586,  0.68342412], dtype=float32)},\n",
       " {'class_ids': array([0], dtype=int64),\n",
       "  'classes': array([b'0'], dtype=object),\n",
       "  'logistic': array([ 0.44106171], dtype=float32),\n",
       "  'logits': array([-0.23685431], dtype=float32),\n",
       "  'probabilities': array([ 0.55893832,  0.44106174], dtype=float32)},\n",
       " {'class_ids': array([0], dtype=int64),\n",
       "  'classes': array([b'0'], dtype=object),\n",
       "  'logistic': array([ 0.29544067], dtype=float32),\n",
       "  'logits': array([-0.8691045], dtype=float32),\n",
       "  'probabilities': array([ 0.70455933,  0.29544067], dtype=float32)},\n",
       " {'class_ids': array([1], dtype=int64),\n",
       "  'classes': array([b'1'], dtype=object),\n",
       "  'logistic': array([ 0.50586051], dtype=float32),\n",
       "  'logits': array([ 0.0234431], dtype=float32),\n",
       "  'probabilities': array([ 0.49413949,  0.50586051], dtype=float32)},\n",
       " {'class_ids': array([0], dtype=int64),\n",
       "  'classes': array([b'0'], dtype=object),\n",
       "  'logistic': array([ 0.19343483], dtype=float32),\n",
       "  'logits': array([-1.42784405], dtype=float32),\n",
       "  'probabilities': array([ 0.80656523,  0.19343483], dtype=float32)},\n",
       " {'class_ids': array([0], dtype=int64),\n",
       "  'classes': array([b'0'], dtype=object),\n",
       "  'logistic': array([ 0.16073036], dtype=float32),\n",
       "  'logits': array([-1.6528039], dtype=float32),\n",
       "  'probabilities': array([ 0.8392697 ,  0.16073036], dtype=float32)},\n",
       " {'class_ids': array([0], dtype=int64),\n",
       "  'classes': array([b'0'], dtype=object),\n",
       "  'logistic': array([ 0.18603255], dtype=float32),\n",
       "  'logits': array([-1.47599876], dtype=float32),\n",
       "  'probabilities': array([ 0.81396747,  0.18603255], dtype=float32)},\n",
       " {'class_ids': array([0], dtype=int64),\n",
       "  'classes': array([b'0'], dtype=object),\n",
       "  'logistic': array([ 0.48965135], dtype=float32),\n",
       "  'logits': array([-0.04140055], dtype=float32),\n",
       "  'probabilities': array([ 0.51034868,  0.48965135], dtype=float32)},\n",
       " {'class_ids': array([0], dtype=int64),\n",
       "  'classes': array([b'0'], dtype=object),\n",
       "  'logistic': array([ 0.05731687], dtype=float32),\n",
       "  'logits': array([-2.80013514], dtype=float32),\n",
       "  'probabilities': array([ 0.9426831 ,  0.05731687], dtype=float32)},\n",
       " {'class_ids': array([0], dtype=int64),\n",
       "  'classes': array([b'0'], dtype=object),\n",
       "  'logistic': array([ 0.27347922], dtype=float32),\n",
       "  'logits': array([-0.97704148], dtype=float32),\n",
       "  'probabilities': array([ 0.72652078,  0.27347922], dtype=float32)},\n",
       " {'class_ids': array([0], dtype=int64),\n",
       "  'classes': array([b'0'], dtype=object),\n",
       "  'logistic': array([ 0.18078117], dtype=float32),\n",
       "  'logits': array([-1.51106393], dtype=float32),\n",
       "  'probabilities': array([ 0.81921881,  0.18078117], dtype=float32)},\n",
       " {'class_ids': array([0], dtype=int64),\n",
       "  'classes': array([b'0'], dtype=object),\n",
       "  'logistic': array([ 0.26455075], dtype=float32),\n",
       "  'logits': array([-1.02244854], dtype=float32),\n",
       "  'probabilities': array([ 0.73544925,  0.26455072], dtype=float32)},\n",
       " {'class_ids': array([0], dtype=int64),\n",
       "  'classes': array([b'0'], dtype=object),\n",
       "  'logistic': array([ 0.2507236], dtype=float32),\n",
       "  'logits': array([-1.09475684], dtype=float32),\n",
       "  'probabilities': array([ 0.7492764 ,  0.25072357], dtype=float32)},\n",
       " {'class_ids': array([0], dtype=int64),\n",
       "  'classes': array([b'0'], dtype=object),\n",
       "  'logistic': array([ 0.28519469], dtype=float32),\n",
       "  'logits': array([-0.91883814], dtype=float32),\n",
       "  'probabilities': array([ 0.71480531,  0.28519469], dtype=float32)},\n",
       " {'class_ids': array([1], dtype=int64),\n",
       "  'classes': array([b'1'], dtype=object),\n",
       "  'logistic': array([ 0.77595919], dtype=float32),\n",
       "  'logits': array([ 1.24227166], dtype=float32),\n",
       "  'probabilities': array([ 0.22404082,  0.77595919], dtype=float32)},\n",
       " {'class_ids': array([0], dtype=int64),\n",
       "  'classes': array([b'0'], dtype=object),\n",
       "  'logistic': array([ 0.18421082], dtype=float32),\n",
       "  'logits': array([-1.48807502], dtype=float32),\n",
       "  'probabilities': array([ 0.81578916,  0.18421082], dtype=float32)},\n",
       " {'class_ids': array([0], dtype=int64),\n",
       "  'classes': array([b'0'], dtype=object),\n",
       "  'logistic': array([ 0.13018912], dtype=float32),\n",
       "  'logits': array([-1.8992877], dtype=float32),\n",
       "  'probabilities': array([ 0.86981094,  0.13018912], dtype=float32)},\n",
       " {'class_ids': array([1], dtype=int64),\n",
       "  'classes': array([b'1'], dtype=object),\n",
       "  'logistic': array([ 0.59181279], dtype=float32),\n",
       "  'logits': array([ 0.37146449], dtype=float32),\n",
       "  'probabilities': array([ 0.40818718,  0.59181279], dtype=float32)},\n",
       " {'class_ids': array([0], dtype=int64),\n",
       "  'classes': array([b'0'], dtype=object),\n",
       "  'logistic': array([ 0.48078221], dtype=float32),\n",
       "  'logits': array([-0.07690907], dtype=float32),\n",
       "  'probabilities': array([ 0.51921779,  0.48078221], dtype=float32)},\n",
       " {'class_ids': array([1], dtype=int64),\n",
       "  'classes': array([b'1'], dtype=object),\n",
       "  'logistic': array([ 0.84449655], dtype=float32),\n",
       "  'logits': array([ 1.69207263], dtype=float32),\n",
       "  'probabilities': array([ 0.15550347,  0.84449655], dtype=float32)},\n",
       " {'class_ids': array([1], dtype=int64),\n",
       "  'classes': array([b'1'], dtype=object),\n",
       "  'logistic': array([ 0.65105063], dtype=float32),\n",
       "  'logits': array([ 0.6236608], dtype=float32),\n",
       "  'probabilities': array([ 0.34894928,  0.65105063], dtype=float32)},\n",
       " {'class_ids': array([0], dtype=int64),\n",
       "  'classes': array([b'0'], dtype=object),\n",
       "  'logistic': array([ 0.1313671], dtype=float32),\n",
       "  'logits': array([-1.88892484], dtype=float32),\n",
       "  'probabilities': array([ 0.86863285,  0.1313671 ], dtype=float32)},\n",
       " {'class_ids': array([1], dtype=int64),\n",
       "  'classes': array([b'1'], dtype=object),\n",
       "  'logistic': array([ 0.63633728], dtype=float32),\n",
       "  'logits': array([ 0.55950189], dtype=float32),\n",
       "  'probabilities': array([ 0.36366275,  0.63633728], dtype=float32)}]"
      ]
     },
     "execution_count": 129,
     "metadata": {},
     "output_type": "execute_result"
    }
   ],
   "source": [
    "my_pred"
   ]
  },
  {
   "cell_type": "code",
   "execution_count": 132,
   "metadata": {},
   "outputs": [
    {
     "name": "stdout",
     "output_type": "stream",
     "text": [
      "INFO:tensorflow:Using default config.\n",
      "WARNING:tensorflow:Using temporary folder as model directory: C:\\Users\\gpipis\\AppData\\Local\\Temp\\tmpzskdn0gk\n",
      "INFO:tensorflow:Using config: {'_save_checkpoints_secs': 600, '_session_config': None, '_save_checkpoints_steps': None, '_save_summary_steps': 100, '_keep_checkpoint_max': 5, '_log_step_count_steps': 100, '_model_dir': 'C:\\\\Users\\\\gpipis\\\\AppData\\\\Local\\\\Temp\\\\tmpzskdn0gk', '_keep_checkpoint_every_n_hours': 10000, '_tf_random_seed': 1}\n"
     ]
    }
   ],
   "source": [
    "dnn_model = tf.estimator.DNNClassifier(hidden_units=[10,10,10], feature_columns=feat_cols, n_classes=2)"
   ]
  },
  {
   "cell_type": "code",
   "execution_count": 133,
   "metadata": {
    "collapsed": true
   },
   "outputs": [],
   "source": [
    "embedded_group_col = tf.feature_column.embedding_column(assigned_group, dimension=4)"
   ]
  },
  {
   "cell_type": "code",
   "execution_count": 134,
   "metadata": {
    "collapsed": true
   },
   "outputs": [],
   "source": [
    "feat_cols = [num_preg, plasma_gluc, dias_press, triceps, insulin, bmi, diabetes_pedigree,embedded_group_col, age_bucket]"
   ]
  },
  {
   "cell_type": "code",
   "execution_count": 135,
   "metadata": {
    "collapsed": true
   },
   "outputs": [],
   "source": [
    "input_func = tf.estimator.inputs.pandas_input_fn(x=X_train, y=y_train, batch_size=10, num_epochs=1000, shuffle=True)"
   ]
  },
  {
   "cell_type": "code",
   "execution_count": 136,
   "metadata": {},
   "outputs": [
    {
     "name": "stdout",
     "output_type": "stream",
     "text": [
      "INFO:tensorflow:Using default config.\n",
      "WARNING:tensorflow:Using temporary folder as model directory: C:\\Users\\gpipis\\AppData\\Local\\Temp\\tmplrp__yqs\n",
      "INFO:tensorflow:Using config: {'_save_checkpoints_secs': 600, '_session_config': None, '_save_checkpoints_steps': None, '_save_summary_steps': 100, '_keep_checkpoint_max': 5, '_log_step_count_steps': 100, '_model_dir': 'C:\\\\Users\\\\gpipis\\\\AppData\\\\Local\\\\Temp\\\\tmplrp__yqs', '_keep_checkpoint_every_n_hours': 10000, '_tf_random_seed': 1}\n"
     ]
    }
   ],
   "source": [
    "dnn_model = tf.estimator.DNNClassifier(hidden_units=[10,10,10], feature_columns=feat_cols, n_classes=2)"
   ]
  },
  {
   "cell_type": "code",
   "execution_count": 137,
   "metadata": {},
   "outputs": [
    {
     "name": "stdout",
     "output_type": "stream",
     "text": [
      "INFO:tensorflow:Create CheckpointSaverHook.\n",
      "INFO:tensorflow:Saving checkpoints for 1 into C:\\Users\\gpipis\\AppData\\Local\\Temp\\tmplrp__yqs\\model.ckpt.\n",
      "INFO:tensorflow:loss = 9.1394, step = 1\n",
      "INFO:tensorflow:global_step/sec: 229.335\n",
      "INFO:tensorflow:loss = 6.92933, step = 101 (0.442 sec)\n",
      "INFO:tensorflow:global_step/sec: 242.107\n",
      "INFO:tensorflow:loss = 4.49818, step = 201 (0.421 sec)\n",
      "INFO:tensorflow:global_step/sec: 197.609\n",
      "INFO:tensorflow:loss = 4.82911, step = 301 (0.500 sec)\n",
      "INFO:tensorflow:global_step/sec: 258.372\n",
      "INFO:tensorflow:loss = 5.50831, step = 401 (0.392 sec)\n",
      "INFO:tensorflow:global_step/sec: 243.878\n",
      "INFO:tensorflow:loss = 11.2943, step = 501 (0.414 sec)\n",
      "INFO:tensorflow:global_step/sec: 182.131\n",
      "INFO:tensorflow:loss = 4.88156, step = 601 (0.551 sec)\n",
      "INFO:tensorflow:global_step/sec: 204.898\n",
      "INFO:tensorflow:loss = 6.85315, step = 701 (0.481 sec)\n",
      "INFO:tensorflow:global_step/sec: 222.2\n",
      "INFO:tensorflow:loss = 5.09415, step = 801 (0.449 sec)\n",
      "INFO:tensorflow:global_step/sec: 205.741\n",
      "INFO:tensorflow:loss = 2.97478, step = 901 (0.486 sec)\n",
      "INFO:tensorflow:Saving checkpoints for 1000 into C:\\Users\\gpipis\\AppData\\Local\\Temp\\tmplrp__yqs\\model.ckpt.\n",
      "INFO:tensorflow:Loss for final step: 2.13876.\n"
     ]
    },
    {
     "data": {
      "text/plain": [
       "<tensorflow.python.estimator.canned.dnn.DNNClassifier at 0x15a5e668>"
      ]
     },
     "execution_count": 137,
     "metadata": {},
     "output_type": "execute_result"
    }
   ],
   "source": [
    "dnn_model.train(input_fn=input_func , steps=1000)"
   ]
  },
  {
   "cell_type": "code",
   "execution_count": 140,
   "metadata": {
    "collapsed": true
   },
   "outputs": [],
   "source": [
    "eval_input_func = tf.estimator.inputs.pandas_input_fn(x=X_test, y=y_test, batch_size=10, num_epochs=1, shuffle=False)"
   ]
  },
  {
   "cell_type": "code",
   "execution_count": 141,
   "metadata": {},
   "outputs": [
    {
     "name": "stdout",
     "output_type": "stream",
     "text": [
      "WARNING:tensorflow:Casting <dtype: 'float32'> labels to bool.\n",
      "WARNING:tensorflow:Casting <dtype: 'float32'> labels to bool.\n",
      "INFO:tensorflow:Starting evaluation at 2018-04-24-16:37:50\n",
      "INFO:tensorflow:Restoring parameters from C:\\Users\\gpipis\\AppData\\Local\\Temp\\tmplrp__yqs\\model.ckpt-1000\n",
      "INFO:tensorflow:Finished evaluation at 2018-04-24-16:37:51\n",
      "INFO:tensorflow:Saving dict for global step 1000: accuracy = 0.731602, accuracy_baseline = 0.649351, auc = 0.81786, auc_precision_recall = 0.687238, average_loss = 0.504409, global_step = 1000, label/mean = 0.350649, loss = 4.85494, prediction/mean = 0.317077\n"
     ]
    },
    {
     "data": {
      "text/plain": [
       "{'accuracy': 0.73160172,\n",
       " 'accuracy_baseline': 0.64935064,\n",
       " 'auc': 0.81786013,\n",
       " 'auc_precision_recall': 0.68723768,\n",
       " 'average_loss': 0.5044089,\n",
       " 'global_step': 1000,\n",
       " 'label/mean': 0.35064936,\n",
       " 'loss': 4.8549356,\n",
       " 'prediction/mean': 0.31707665}"
      ]
     },
     "execution_count": 141,
     "metadata": {},
     "output_type": "execute_result"
    }
   ],
   "source": [
    "dnn_model.evaluate(eval_input_func)"
   ]
  },
  {
   "cell_type": "code",
   "execution_count": null,
   "metadata": {
    "collapsed": true
   },
   "outputs": [],
   "source": []
  }
 ],
 "metadata": {
  "kernelspec": {
   "display_name": "Python 3",
   "language": "python",
   "name": "python3"
  },
  "language_info": {
   "codemirror_mode": {
    "name": "ipython",
    "version": 3
   },
   "file_extension": ".py",
   "mimetype": "text/x-python",
   "name": "python",
   "nbconvert_exporter": "python",
   "pygments_lexer": "ipython3",
   "version": "3.5.4"
  }
 },
 "nbformat": 4,
 "nbformat_minor": 2
}
